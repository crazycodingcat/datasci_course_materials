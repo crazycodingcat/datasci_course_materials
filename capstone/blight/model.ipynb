{
 "cells": [
  {
   "cell_type": "code",
   "execution_count": 1,
   "metadata": {
    "collapsed": true
   },
   "outputs": [],
   "source": [
    "import pandas as pd\n",
    "import numpy as np\n",
    "import matplotlib.pyplot as plt\n",
    "import re\n",
    "%matplotlib inline"
   ]
  },
  {
   "cell_type": "code",
   "execution_count": 2,
   "metadata": {
    "collapsed": false
   },
   "outputs": [
    {
     "name": "stdout",
     "output_type": "stream",
     "text": [
      "_97bd1c1e5df9537bb13398c9898deed7_detroit-blight-violations.csv\r\n",
      "buildings.csv\r\n",
      "_dcebfb2135a2bf5a6392493bd61aba22_detroit-311.csv\r\n",
      "_dcebfb2135a2bf5a6392493bd61aba22_detroit-crime.csv\r\n",
      "_dcebfb2135a2bf5a6392493bd61aba22_detroit-demolition-permits.tsv\r\n"
     ]
    }
   ],
   "source": [
    "!ls data/"
   ]
  },
  {
   "cell_type": "code",
   "execution_count": 3,
   "metadata": {
    "collapsed": false
   },
   "outputs": [
    {
     "name": "stderr",
     "output_type": "stream",
     "text": [
      "/usr/local/lib/python2.7/dist-packages/IPython/core/interactiveshell.py:2902: DtypeWarning: Columns (2) have mixed types. Specify dtype option on import or set low_memory=False.\n",
      "  interactivity=interactivity, compiler=compiler, result=result)\n"
     ]
    },
    {
     "data": {
      "text/plain": [
       "(119931, 17)"
      ]
     },
     "execution_count": 3,
     "metadata": {},
     "output_type": "execute_result"
    }
   ],
   "source": [
    "crime_data = pd.read_csv(\"data/_dcebfb2135a2bf5a6392493bd61aba22_detroit-crime.csv\")\n",
    "crime_data.shape"
   ]
  },
  {
   "cell_type": "code",
   "execution_count": 4,
   "metadata": {
    "collapsed": false
   },
   "outputs": [
    {
     "data": {
      "text/html": [
       "<div>\n",
       "<table border=\"1\" class=\"dataframe\">\n",
       "  <thead>\n",
       "    <tr style=\"text-align: right;\">\n",
       "      <th></th>\n",
       "      <th>ROWNUM</th>\n",
       "      <th>CASEID</th>\n",
       "      <th>INCINO</th>\n",
       "      <th>CATEGORY</th>\n",
       "      <th>OFFENSEDESCRIPTION</th>\n",
       "      <th>STATEOFFENSEFILECLASS</th>\n",
       "      <th>INCIDENTDATE</th>\n",
       "      <th>HOUR</th>\n",
       "      <th>SCA</th>\n",
       "      <th>PRECINCT</th>\n",
       "      <th>COUNCIL</th>\n",
       "      <th>NEIGHBORHOOD</th>\n",
       "      <th>CENSUSTRACT</th>\n",
       "      <th>ADDRESS</th>\n",
       "      <th>LON</th>\n",
       "      <th>LAT</th>\n",
       "      <th>LOCATION</th>\n",
       "    </tr>\n",
       "  </thead>\n",
       "  <tbody>\n",
       "    <tr>\n",
       "      <th>0</th>\n",
       "      <td>53256</td>\n",
       "      <td>1953933</td>\n",
       "      <td>1506030028.1</td>\n",
       "      <td>ASSAULT</td>\n",
       "      <td>ASSAULT AND BATTERY/SIMPLE ASSAULT</td>\n",
       "      <td>13001.0</td>\n",
       "      <td>06/03/2015 12:00:00 AM</td>\n",
       "      <td>2</td>\n",
       "      <td>1007.0</td>\n",
       "      <td>10.0</td>\n",
       "      <td>City Council District 5</td>\n",
       "      <td>PETOSKEY-OTSEGO</td>\n",
       "      <td>5334.0</td>\n",
       "      <td>09100 PETOSKEY</td>\n",
       "      <td>-83.1221</td>\n",
       "      <td>42.3678</td>\n",
       "      <td>PETOSKEY\\n09100\\n(42.3676, -83.1219)</td>\n",
       "    </tr>\n",
       "    <tr>\n",
       "      <th>1</th>\n",
       "      <td>17631</td>\n",
       "      <td>1917717</td>\n",
       "      <td>1503010158.1</td>\n",
       "      <td>LARCENY</td>\n",
       "      <td>LARCENY - PARTS AND ACCESSORIES FROM VEHICLE</td>\n",
       "      <td>23006.0</td>\n",
       "      <td>03/01/2015 12:00:00 AM</td>\n",
       "      <td>9</td>\n",
       "      <td>608.0</td>\n",
       "      <td>6.0</td>\n",
       "      <td>City Council District 7</td>\n",
       "      <td>GRANDALE</td>\n",
       "      <td>5452.0</td>\n",
       "      <td>00 PLYMOUTH AND MANSFIELD</td>\n",
       "      <td>-83.2035</td>\n",
       "      <td>42.3724</td>\n",
       "      <td>00 PLYMOUTH AND MANSFIELD\\n(42.3725, -83.2033)</td>\n",
       "    </tr>\n",
       "    <tr>\n",
       "      <th>2</th>\n",
       "      <td>11207</td>\n",
       "      <td>1910955</td>\n",
       "      <td>1502080223.1</td>\n",
       "      <td>STOLEN VEHICLE</td>\n",
       "      <td>VEHICLE THEFT</td>\n",
       "      <td>24001.0</td>\n",
       "      <td>02/08/2015 12:00:00 AM</td>\n",
       "      <td>18</td>\n",
       "      <td>1105.0</td>\n",
       "      <td>11.0</td>\n",
       "      <td>City Council District 3</td>\n",
       "      <td>OUTER DRIVE VAN DYKE</td>\n",
       "      <td>5051.0</td>\n",
       "      <td>00 E 7 MILE  VAN DYKE</td>\n",
       "      <td>-83.0241</td>\n",
       "      <td>42.4338</td>\n",
       "      <td>00 E 7 MILE VAN DYKE\\n(42.4339, -83.0241)</td>\n",
       "    </tr>\n",
       "    <tr>\n",
       "      <th>3</th>\n",
       "      <td>116589</td>\n",
       "      <td>2018186</td>\n",
       "      <td>1511090188.1</td>\n",
       "      <td>WEAPONS OFFENSES</td>\n",
       "      <td>WEAPONS OFFENSE (OTHER)</td>\n",
       "      <td>52003.0</td>\n",
       "      <td>11/09/2015 12:00:00 AM</td>\n",
       "      <td>12</td>\n",
       "      <td>210.0</td>\n",
       "      <td>2.0</td>\n",
       "      <td>City Council District 6</td>\n",
       "      <td>TIREMAN</td>\n",
       "      <td>NaN</td>\n",
       "      <td>06600 BARTON</td>\n",
       "      <td>-83.1381</td>\n",
       "      <td>42.3496</td>\n",
       "      <td>BARTON\\n06600\\n(42.3494, -83.1379)</td>\n",
       "    </tr>\n",
       "    <tr>\n",
       "      <th>4</th>\n",
       "      <td>85790</td>\n",
       "      <td>1986862</td>\n",
       "      <td>1508239803.1</td>\n",
       "      <td>LARCENY</td>\n",
       "      <td>LARCENY - PARTS AND ACCESSORIES FROM VEHICLE</td>\n",
       "      <td>23006.0</td>\n",
       "      <td>08/14/2015 12:00:00 AM</td>\n",
       "      <td>7</td>\n",
       "      <td>309.0</td>\n",
       "      <td>3.0</td>\n",
       "      <td>City Council District 6</td>\n",
       "      <td>WEST CANFIELD</td>\n",
       "      <td>5204.0</td>\n",
       "      <td>00900 W WILLIS</td>\n",
       "      <td>-83.0692</td>\n",
       "      <td>42.3481</td>\n",
       "      <td>W WILLIS\\n00900\\n(42.3481, -83.0693)</td>\n",
       "    </tr>\n",
       "  </tbody>\n",
       "</table>\n",
       "</div>"
      ],
      "text/plain": [
       "   ROWNUM   CASEID        INCINO          CATEGORY  \\\n",
       "0   53256  1953933  1506030028.1           ASSAULT   \n",
       "1   17631  1917717  1503010158.1           LARCENY   \n",
       "2   11207  1910955  1502080223.1    STOLEN VEHICLE   \n",
       "3  116589  2018186  1511090188.1  WEAPONS OFFENSES   \n",
       "4   85790  1986862  1508239803.1           LARCENY   \n",
       "\n",
       "                             OFFENSEDESCRIPTION  STATEOFFENSEFILECLASS  \\\n",
       "0            ASSAULT AND BATTERY/SIMPLE ASSAULT                13001.0   \n",
       "1  LARCENY - PARTS AND ACCESSORIES FROM VEHICLE                23006.0   \n",
       "2                                 VEHICLE THEFT                24001.0   \n",
       "3                       WEAPONS OFFENSE (OTHER)                52003.0   \n",
       "4  LARCENY - PARTS AND ACCESSORIES FROM VEHICLE                23006.0   \n",
       "\n",
       "             INCIDENTDATE  HOUR     SCA  PRECINCT                  COUNCIL  \\\n",
       "0  06/03/2015 12:00:00 AM     2  1007.0      10.0  City Council District 5   \n",
       "1  03/01/2015 12:00:00 AM     9   608.0       6.0  City Council District 7   \n",
       "2  02/08/2015 12:00:00 AM    18  1105.0      11.0  City Council District 3   \n",
       "3  11/09/2015 12:00:00 AM    12   210.0       2.0  City Council District 6   \n",
       "4  08/14/2015 12:00:00 AM     7   309.0       3.0  City Council District 6   \n",
       "\n",
       "           NEIGHBORHOOD  CENSUSTRACT                    ADDRESS      LON  \\\n",
       "0       PETOSKEY-OTSEGO       5334.0             09100 PETOSKEY -83.1221   \n",
       "1              GRANDALE       5452.0  00 PLYMOUTH AND MANSFIELD -83.2035   \n",
       "2  OUTER DRIVE VAN DYKE       5051.0      00 E 7 MILE  VAN DYKE -83.0241   \n",
       "3               TIREMAN          NaN               06600 BARTON -83.1381   \n",
       "4         WEST CANFIELD       5204.0             00900 W WILLIS -83.0692   \n",
       "\n",
       "       LAT                                        LOCATION  \n",
       "0  42.3678            PETOSKEY\\n09100\\n(42.3676, -83.1219)  \n",
       "1  42.3724  00 PLYMOUTH AND MANSFIELD\\n(42.3725, -83.2033)  \n",
       "2  42.4338       00 E 7 MILE VAN DYKE\\n(42.4339, -83.0241)  \n",
       "3  42.3496              BARTON\\n06600\\n(42.3494, -83.1379)  \n",
       "4  42.3481            W WILLIS\\n00900\\n(42.3481, -83.0693)  "
      ]
     },
     "execution_count": 4,
     "metadata": {},
     "output_type": "execute_result"
    }
   ],
   "source": [
    "crime_data.head()"
   ]
  },
  {
   "cell_type": "code",
   "execution_count": 5,
   "metadata": {
    "collapsed": false
   },
   "outputs": [
    {
     "data": {
      "text/plain": [
       "Index([u'ROWNUM', u'CASEID', u'INCINO', u'CATEGORY', u'OFFENSEDESCRIPTION',\n",
       "       u'STATEOFFENSEFILECLASS', u'INCIDENTDATE', u'HOUR', u'SCA', u'PRECINCT',\n",
       "       u'COUNCIL', u'NEIGHBORHOOD', u'CENSUSTRACT', u'ADDRESS', u'LON', u'LAT',\n",
       "       u'LOCATION'],\n",
       "      dtype='object')"
      ]
     },
     "execution_count": 5,
     "metadata": {},
     "output_type": "execute_result"
    }
   ],
   "source": [
    "crime_data.columns"
   ]
  },
  {
   "cell_type": "code",
   "execution_count": 6,
   "metadata": {
    "collapsed": false
   },
   "outputs": [
    {
     "data": {
      "text/html": [
       "<div>\n",
       "<table border=\"1\" class=\"dataframe\">\n",
       "  <thead>\n",
       "    <tr style=\"text-align: right;\">\n",
       "      <th></th>\n",
       "      <th>PERMIT_NO</th>\n",
       "      <th>PERMIT_APPLIED</th>\n",
       "      <th>PERMIT_ISSUED</th>\n",
       "      <th>PERMIT_EXPIRES</th>\n",
       "      <th>SITE_ADDRESS</th>\n",
       "      <th>BETWEEN1</th>\n",
       "      <th>PARCEL_NO</th>\n",
       "      <th>LOT_NUMBER</th>\n",
       "      <th>SUBDIVISION</th>\n",
       "      <th>CASE_TYPE</th>\n",
       "      <th>...</th>\n",
       "      <th>CONTRACTOR_ADDRESS1</th>\n",
       "      <th>CONTRACTOR_ADDRESS2</th>\n",
       "      <th>CONTRACTOR_CITY</th>\n",
       "      <th>CONTRACTOR_STATE</th>\n",
       "      <th>CONTRACTOR_ZIP</th>\n",
       "      <th>CONDITION_FOR_APPROVAL</th>\n",
       "      <th>site_location</th>\n",
       "      <th>owner_location</th>\n",
       "      <th>contractor_location</th>\n",
       "      <th>geom</th>\n",
       "    </tr>\n",
       "  </thead>\n",
       "  <tbody>\n",
       "    <tr>\n",
       "      <th>0</th>\n",
       "      <td>BLD2015-03955</td>\n",
       "      <td>8/28/15</td>\n",
       "      <td>8/28/15</td>\n",
       "      <td>NaN</td>\n",
       "      <td>4331  BARHAM</td>\n",
       "      <td>BETWEEN VOIGHT AND WAVENEY</td>\n",
       "      <td>21 65525-6</td>\n",
       "      <td>S15</td>\n",
       "      <td>NaN</td>\n",
       "      <td>BLD</td>\n",
       "      <td>...</td>\n",
       "      <td>13500 FOLEY</td>\n",
       "      <td>NaN</td>\n",
       "      <td>DETROIT</td>\n",
       "      <td>NaN</td>\n",
       "      <td>48227.0</td>\n",
       "      <td>NaN</td>\n",
       "      <td>4331 BARHAM\\nDetroit, MI\\n(42.394106, -82.9474)</td>\n",
       "      <td>65 CADILLAC\\nDETROIT, MI\\n(42.331741326000042,...</td>\n",
       "      <td>13500 FOLEY\\nDETROIT, MI\\n(42.379332, -83.177501)</td>\n",
       "      <td>NaN</td>\n",
       "    </tr>\n",
       "    <tr>\n",
       "      <th>1</th>\n",
       "      <td>BLD2015-04083</td>\n",
       "      <td>8/28/15</td>\n",
       "      <td>8/28/15</td>\n",
       "      <td>NaN</td>\n",
       "      <td>9707  BESSEMORE</td>\n",
       "      <td>BETWEEN VINTON AND GRATIOT</td>\n",
       "      <td>19 2312.</td>\n",
       "      <td>40</td>\n",
       "      <td>NaN</td>\n",
       "      <td>BLD</td>\n",
       "      <td>...</td>\n",
       "      <td>13500 FOLEY</td>\n",
       "      <td>NaN</td>\n",
       "      <td>DETROIT</td>\n",
       "      <td>NaN</td>\n",
       "      <td>48227.0</td>\n",
       "      <td>NaN</td>\n",
       "      <td>9707 BESSEMORE\\nDetroit, MI\\n(42.395122, -83.0...</td>\n",
       "      <td>65 CADILLAC\\nDETROIT, MI\\n(42.331741326000042,...</td>\n",
       "      <td>13500 FOLEY\\nDETROIT, MI\\n(42.379332, -83.177501)</td>\n",
       "      <td>NaN</td>\n",
       "    </tr>\n",
       "    <tr>\n",
       "      <th>2</th>\n",
       "      <td>BLD2015-03976</td>\n",
       "      <td>8/28/15</td>\n",
       "      <td>8/28/15</td>\n",
       "      <td>NaN</td>\n",
       "      <td>5315  BERKSHIRE</td>\n",
       "      <td>BETWEEN SOUTHAMPTON AND FRANKFORT</td>\n",
       "      <td>21 69321.</td>\n",
       "      <td>445</td>\n",
       "      <td>NaN</td>\n",
       "      <td>BLD</td>\n",
       "      <td>...</td>\n",
       "      <td>13500 FOLEY</td>\n",
       "      <td>NaN</td>\n",
       "      <td>DETROIT</td>\n",
       "      <td>NaN</td>\n",
       "      <td>48227.0</td>\n",
       "      <td>NaN</td>\n",
       "      <td>5315 BERKSHIRE\\nDetroit, MI\\n(42.40322, -82.94...</td>\n",
       "      <td>65 CADILLAC\\nDETROIT, MI\\n(42.331741326000042,...</td>\n",
       "      <td>13500 FOLEY\\nDETROIT, MI\\n(42.379332, -83.177501)</td>\n",
       "      <td>NaN</td>\n",
       "    </tr>\n",
       "    <tr>\n",
       "      <th>3</th>\n",
       "      <td>BLD2015-03781</td>\n",
       "      <td>8/28/15</td>\n",
       "      <td>8/28/15</td>\n",
       "      <td>NaN</td>\n",
       "      <td>16670  BRINGARD DR</td>\n",
       "      <td>BETWEEN CUSHING AND SHAKESPEARE</td>\n",
       "      <td>21 25930.</td>\n",
       "      <td>97</td>\n",
       "      <td>NaN</td>\n",
       "      <td>BLD</td>\n",
       "      <td>...</td>\n",
       "      <td>13500 FOLEY</td>\n",
       "      <td>NaN</td>\n",
       "      <td>DETROIT</td>\n",
       "      <td>NaN</td>\n",
       "      <td>48227.0</td>\n",
       "      <td>NaN</td>\n",
       "      <td>16670 BRINGARD DR\\nDetroit, MI\\n(42.44664, -82...</td>\n",
       "      <td>65 CADILLAC\\nDETROIT, MI\\n(42.331741326000042,...</td>\n",
       "      <td>13500 FOLEY\\nDETROIT, MI\\n(42.379332, -83.177501)</td>\n",
       "      <td>NaN</td>\n",
       "    </tr>\n",
       "    <tr>\n",
       "      <th>4</th>\n",
       "      <td>BLD2015-03677</td>\n",
       "      <td>8/28/15</td>\n",
       "      <td>8/28/15</td>\n",
       "      <td>NaN</td>\n",
       "      <td>1454  BEATRICE</td>\n",
       "      <td>BETWEEN TORONTO AND GILROY</td>\n",
       "      <td>20 12871.012</td>\n",
       "      <td>21</td>\n",
       "      <td>NaN</td>\n",
       "      <td>BLD</td>\n",
       "      <td>...</td>\n",
       "      <td>13500 FOLEY</td>\n",
       "      <td>NaN</td>\n",
       "      <td>DETROIT</td>\n",
       "      <td>NaN</td>\n",
       "      <td>48227.0</td>\n",
       "      <td>NaN</td>\n",
       "      <td>1454 BEATRICE\\nDetroit, MI\\n(42.276956, -83.14...</td>\n",
       "      <td>65 CADILLAC\\nDETROIT, MI\\n(42.331741326000042,...</td>\n",
       "      <td>13500 FOLEY\\nDETROIT, MI\\n(42.379332, -83.177501)</td>\n",
       "      <td>NaN</td>\n",
       "    </tr>\n",
       "  </tbody>\n",
       "</table>\n",
       "<p>5 rows × 55 columns</p>\n",
       "</div>"
      ],
      "text/plain": [
       "       PERMIT_NO PERMIT_APPLIED PERMIT_ISSUED PERMIT_EXPIRES  \\\n",
       "0  BLD2015-03955        8/28/15       8/28/15            NaN   \n",
       "1  BLD2015-04083        8/28/15       8/28/15            NaN   \n",
       "2  BLD2015-03976        8/28/15       8/28/15            NaN   \n",
       "3  BLD2015-03781        8/28/15       8/28/15            NaN   \n",
       "4  BLD2015-03677        8/28/15       8/28/15            NaN   \n",
       "\n",
       "         SITE_ADDRESS                           BETWEEN1     PARCEL_NO  \\\n",
       "0        4331  BARHAM         BETWEEN VOIGHT AND WAVENEY    21 65525-6   \n",
       "1     9707  BESSEMORE         BETWEEN VINTON AND GRATIOT      19 2312.   \n",
       "2     5315  BERKSHIRE  BETWEEN SOUTHAMPTON AND FRANKFORT     21 69321.   \n",
       "3  16670  BRINGARD DR    BETWEEN CUSHING AND SHAKESPEARE     21 25930.   \n",
       "4      1454  BEATRICE         BETWEEN TORONTO AND GILROY  20 12871.012   \n",
       "\n",
       "  LOT_NUMBER SUBDIVISION CASE_TYPE ...  CONTRACTOR_ADDRESS1  \\\n",
       "0        S15         NaN       BLD ...          13500 FOLEY   \n",
       "1         40         NaN       BLD ...          13500 FOLEY   \n",
       "2        445         NaN       BLD ...          13500 FOLEY   \n",
       "3         97         NaN       BLD ...          13500 FOLEY   \n",
       "4         21         NaN       BLD ...          13500 FOLEY   \n",
       "\n",
       "  CONTRACTOR_ADDRESS2 CONTRACTOR_CITY  CONTRACTOR_STATE  CONTRACTOR_ZIP  \\\n",
       "0                 NaN         DETROIT               NaN         48227.0   \n",
       "1                 NaN         DETROIT               NaN         48227.0   \n",
       "2                 NaN         DETROIT               NaN         48227.0   \n",
       "3                 NaN         DETROIT               NaN         48227.0   \n",
       "4                 NaN         DETROIT               NaN         48227.0   \n",
       "\n",
       "   CONDITION_FOR_APPROVAL                                      site_location  \\\n",
       "0                     NaN    4331 BARHAM\\nDetroit, MI\\n(42.394106, -82.9474)   \n",
       "1                     NaN  9707 BESSEMORE\\nDetroit, MI\\n(42.395122, -83.0...   \n",
       "2                     NaN  5315 BERKSHIRE\\nDetroit, MI\\n(42.40322, -82.94...   \n",
       "3                     NaN  16670 BRINGARD DR\\nDetroit, MI\\n(42.44664, -82...   \n",
       "4                     NaN  1454 BEATRICE\\nDetroit, MI\\n(42.276956, -83.14...   \n",
       "\n",
       "                                      owner_location  \\\n",
       "0  65 CADILLAC\\nDETROIT, MI\\n(42.331741326000042,...   \n",
       "1  65 CADILLAC\\nDETROIT, MI\\n(42.331741326000042,...   \n",
       "2  65 CADILLAC\\nDETROIT, MI\\n(42.331741326000042,...   \n",
       "3  65 CADILLAC\\nDETROIT, MI\\n(42.331741326000042,...   \n",
       "4  65 CADILLAC\\nDETROIT, MI\\n(42.331741326000042,...   \n",
       "\n",
       "                                 contractor_location geom  \n",
       "0  13500 FOLEY\\nDETROIT, MI\\n(42.379332, -83.177501)  NaN  \n",
       "1  13500 FOLEY\\nDETROIT, MI\\n(42.379332, -83.177501)  NaN  \n",
       "2  13500 FOLEY\\nDETROIT, MI\\n(42.379332, -83.177501)  NaN  \n",
       "3  13500 FOLEY\\nDETROIT, MI\\n(42.379332, -83.177501)  NaN  \n",
       "4  13500 FOLEY\\nDETROIT, MI\\n(42.379332, -83.177501)  NaN  \n",
       "\n",
       "[5 rows x 55 columns]"
      ]
     },
     "execution_count": 6,
     "metadata": {},
     "output_type": "execute_result"
    }
   ],
   "source": [
    "demolition_data = pd.read_csv(\"data/_dcebfb2135a2bf5a6392493bd61aba22_detroit-demolition-permits.tsv\", sep='\\t')\n",
    "demolition_data.head()"
   ]
  },
  {
   "cell_type": "code",
   "execution_count": 7,
   "metadata": {
    "collapsed": false
   },
   "outputs": [
    {
     "data": {
      "text/plain": [
       "(7133, 55)"
      ]
     },
     "execution_count": 7,
     "metadata": {},
     "output_type": "execute_result"
    }
   ],
   "source": [
    "demolition_data.shape"
   ]
  },
  {
   "cell_type": "code",
   "execution_count": 8,
   "metadata": {
    "collapsed": false
   },
   "outputs": [
    {
     "name": "stdout",
     "output_type": "stream",
     "text": [
      "<class 'pandas.core.frame.DataFrame'>\n",
      "RangeIndex: 7133 entries, 0 to 7132\n",
      "Data columns (total 55 columns):\n",
      "PERMIT_NO                 7133 non-null object\n",
      "PERMIT_APPLIED            7133 non-null object\n",
      "PERMIT_ISSUED             7133 non-null object\n",
      "PERMIT_EXPIRES            6953 non-null object\n",
      "SITE_ADDRESS              7133 non-null object\n",
      "BETWEEN1                  7091 non-null object\n",
      "PARCEL_NO                 7133 non-null object\n",
      "LOT_NUMBER                7062 non-null object\n",
      "SUBDIVISION               6087 non-null object\n",
      "CASE_TYPE                 7133 non-null object\n",
      "CASE_DESCRIPTION          7133 non-null object\n",
      "LEGAL_USE                 6689 non-null object\n",
      "ESTIMATED_COST            342 non-null object\n",
      "PARCEL_SIZE               7088 non-null float64\n",
      "PARCEL_CLUSTER_SECTOR     7122 non-null float64\n",
      "STORIES                   5707 non-null float64\n",
      "PARCEL_FLOOR_AREA         7088 non-null float64\n",
      "PARCEL_GROUND_AREA        7088 non-null float64\n",
      "PRC_AKA_ADDRESS           293 non-null object\n",
      "BLD_PERMIT_TYPE           7133 non-null object\n",
      "PERMIT_DESCRIPTION        5859 non-null object\n",
      "BLD_PERMIT_DESC           6142 non-null object\n",
      "BLD_TYPE_USE              7081 non-null object\n",
      "RESIDENTIAL               7133 non-null object\n",
      "DESCRIPTION               5859 non-null object\n",
      "BLD_TYPE_CONST_COD        6932 non-null object\n",
      "BLD_ZONING_DIST           2414 non-null object\n",
      "BLD_USE_GROUP             6688 non-null object\n",
      "BLD_BASEMENT              6277 non-null object\n",
      "FEE_TYPE                  7133 non-null object\n",
      "CSM_CASENO                7133 non-null object\n",
      "CSF_CREATED_BY            7133 non-null object\n",
      "SEQ_NO                    7133 non-null int64\n",
      "PCF_AMT_PD                5859 non-null object\n",
      "PCF_AMT_DUE               7133 non-null object\n",
      "PCF_UPDATED               6662 non-null object\n",
      "OWNER_LAST_NAME           7105 non-null object\n",
      "OWNER_FIRST_NAME          769 non-null object\n",
      "OWNER_ADDRESS1            7133 non-null object\n",
      "OWNER_ADDRESS2            1528 non-null object\n",
      "OWNER_CITY                7133 non-null object\n",
      "OWNER_STATE               7133 non-null object\n",
      "OWNER_ZIP                 6554 non-null object\n",
      "CONTRACTOR_LAST_NAME      7072 non-null object\n",
      "CONTRACTOR_FIRST_NAME     36 non-null object\n",
      "CONTRACTOR_ADDRESS1       7133 non-null object\n",
      "CONTRACTOR_ADDRESS2       1722 non-null object\n",
      "CONTRACTOR_CITY           7133 non-null object\n",
      "CONTRACTOR_STATE          6151 non-null object\n",
      "CONTRACTOR_ZIP            6954 non-null float64\n",
      "CONDITION_FOR_APPROVAL    2 non-null object\n",
      "site_location             6330 non-null object\n",
      "owner_location            6328 non-null object\n",
      "contractor_location       6152 non-null object\n",
      "geom                      41 non-null object\n",
      "dtypes: float64(6), int64(1), object(48)\n",
      "memory usage: 3.0+ MB\n"
     ]
    }
   ],
   "source": [
    "demolition_data.info()"
   ]
  },
  {
   "cell_type": "code",
   "execution_count": 9,
   "metadata": {
    "collapsed": false
   },
   "outputs": [
    {
     "data": {
      "text/plain": [
       "array(['Building Permit'], dtype=object)"
      ]
     },
     "execution_count": 9,
     "metadata": {},
     "output_type": "execute_result"
    }
   ],
   "source": [
    "demolition_data.CASE_DESCRIPTION.unique()"
   ]
  },
  {
   "cell_type": "code",
   "execution_count": 10,
   "metadata": {
    "collapsed": false
   },
   "outputs": [
    {
     "data": {
      "text/plain": [
       "array(['BLD'], dtype=object)"
      ]
     },
     "execution_count": 10,
     "metadata": {},
     "output_type": "execute_result"
    }
   ],
   "source": [
    "demolition_data.CASE_TYPE.unique()"
   ]
  },
  {
   "cell_type": "code",
   "execution_count": 11,
   "metadata": {
    "collapsed": false
   },
   "outputs": [
    {
     "data": {
      "text/plain": [
       "array([nan, 'Dismantle'], dtype=object)"
      ]
     },
     "execution_count": 11,
     "metadata": {},
     "output_type": "execute_result"
    }
   ],
   "source": [
    "demolition_data.PERMIT_DESCRIPTION.unique()"
   ]
  },
  {
   "cell_type": "code",
   "execution_count": 12,
   "metadata": {
    "collapsed": false
   },
   "outputs": [
    {
     "data": {
      "text/plain": [
       "array(['Dismantle', 'DISM'], dtype=object)"
      ]
     },
     "execution_count": 12,
     "metadata": {},
     "output_type": "execute_result"
    }
   ],
   "source": [
    "demolition_data.BLD_PERMIT_TYPE.unique()"
   ]
  },
  {
   "cell_type": "code",
   "execution_count": 13,
   "metadata": {
    "collapsed": true
   },
   "outputs": [],
   "source": [
    "def add_latlon(df, col):\n",
    "    \"\"\"Add latlon column to the df by extracting from col\"\"\"\n",
    "    df_ = df.copy()    \n",
    "    df_[col] = df_[col].fillna('')\n",
    "\n",
    "    geo_pat = re.compile('\\((.+), (.+)\\)')\n",
    "    df_['lat'] = df_[col].apply(lambda x: float(re.search(geo_pat, x).group(1)) if re.search(geo_pat, x) else np.nan)\n",
    "    df_['lon'] = df_[col].apply(lambda x: float(re.search(geo_pat, x).group(2)) if re.search(geo_pat, x) else np.nan)\n",
    "#     geo_pat = re.compile('\\((.+)\\)')\n",
    "#     df_['latlon'] = df_[col].apply(lambda x: re.search(geo_pat, x).group(1) if re.search(geo_pat, x) else np.nan)\n",
    "\n",
    "    return df_"
   ]
  },
  {
   "cell_type": "code",
   "execution_count": 14,
   "metadata": {
    "collapsed": true
   },
   "outputs": [],
   "source": [
    "from geopy.distance import distance\n",
    "def get_distance(A, B):\n",
    "    return distance((A[0], A[1]), (B[0], B[1])).meters"
   ]
  },
  {
   "cell_type": "code",
   "execution_count": 15,
   "metadata": {
    "collapsed": false
   },
   "outputs": [],
   "source": [
    "demolition_df = demolition_data.dropna(subset=['site_location'])\n",
    "demolition_df = add_latlon(demolition_df, 'site_location')"
   ]
  },
  {
   "cell_type": "code",
   "execution_count": 16,
   "metadata": {
    "collapsed": false
   },
   "outputs": [
    {
     "data": {
      "text/plain": [
       "0    42.394106\n",
       "1    42.395122\n",
       "2    42.403220\n",
       "3    42.446640\n",
       "4    42.276956\n",
       "Name: lat, dtype: float64"
      ]
     },
     "execution_count": 16,
     "metadata": {},
     "output_type": "execute_result"
    }
   ],
   "source": [
    "demolition_df.lat.head()"
   ]
  },
  {
   "cell_type": "code",
   "execution_count": 17,
   "metadata": {
    "collapsed": true
   },
   "outputs": [],
   "source": [
    "buildings_df = pd.read_csv(\"data/buildings.csv\", index_col='No')"
   ]
  },
  {
   "cell_type": "code",
   "execution_count": 75,
   "metadata": {
    "collapsed": false
   },
   "outputs": [],
   "source": [
    "# def get_buildings(lat, lon, r=20):\n",
    "#     \"\"\"Given lat, lon, return building No. from building_df.\n",
    "#     Building is defined as a circle of radius 20m\n",
    "#     \"\"\"\n",
    "#     try:\n",
    "#         dist = buildings_df.apply(lambda x: get_distance((x.lat, x.lon), (lat, lon)), axis=1)\n",
    "#         return dist[dist < r].index.to_list()\n",
    "#     except AttributeError:\n",
    "#         return ''"
   ]
  },
  {
   "cell_type": "markdown",
   "metadata": {},
   "source": [
    "### Use knn model for labeling new data\n",
    "row-wise calculation is too slow. knn uses tree structure and parallelization to speed up"
   ]
  },
  {
   "cell_type": "code",
   "execution_count": 18,
   "metadata": {
    "collapsed": true
   },
   "outputs": [],
   "source": [
    "from sklearn.neighbors import KNeighborsClassifier"
   ]
  },
  {
   "cell_type": "code",
   "execution_count": 19,
   "metadata": {
    "collapsed": false
   },
   "outputs": [],
   "source": [
    "model = KNeighborsClassifier(n_neighbors=1, algorithm='kd_tree', n_jobs=10)"
   ]
  },
  {
   "cell_type": "code",
   "execution_count": 20,
   "metadata": {
    "collapsed": false
   },
   "outputs": [
    {
     "data": {
      "text/plain": [
       "KNeighborsClassifier(algorithm='kd_tree', leaf_size=30, metric='minkowski',\n",
       "           metric_params=None, n_jobs=10, n_neighbors=1, p=2,\n",
       "           weights='uniform')"
      ]
     },
     "execution_count": 20,
     "metadata": {},
     "output_type": "execute_result"
    }
   ],
   "source": [
    "model.fit(buildings_df[['lat', 'lon']].values, buildings_df.index)"
   ]
  },
  {
   "cell_type": "code",
   "execution_count": 21,
   "metadata": {
    "collapsed": false
   },
   "outputs": [
    {
     "data": {
      "text/html": [
       "<div>\n",
       "<table border=\"1\" class=\"dataframe\">\n",
       "  <thead>\n",
       "    <tr style=\"text-align: right;\">\n",
       "      <th></th>\n",
       "      <th>lat</th>\n",
       "      <th>lon</th>\n",
       "    </tr>\n",
       "    <tr>\n",
       "      <th>No</th>\n",
       "      <th></th>\n",
       "      <th></th>\n",
       "    </tr>\n",
       "  </thead>\n",
       "  <tbody>\n",
       "    <tr>\n",
       "      <th>0</th>\n",
       "      <td>42.363186</td>\n",
       "      <td>-83.091669</td>\n",
       "    </tr>\n",
       "    <tr>\n",
       "      <th>1</th>\n",
       "      <td>42.429329</td>\n",
       "      <td>-83.220389</td>\n",
       "    </tr>\n",
       "    <tr>\n",
       "      <th>2</th>\n",
       "      <td>42.428929</td>\n",
       "      <td>-83.227529</td>\n",
       "    </tr>\n",
       "    <tr>\n",
       "      <th>3</th>\n",
       "      <td>42.441671</td>\n",
       "      <td>-83.144992</td>\n",
       "    </tr>\n",
       "    <tr>\n",
       "      <th>4</th>\n",
       "      <td>42.418294</td>\n",
       "      <td>-83.153599</td>\n",
       "    </tr>\n",
       "  </tbody>\n",
       "</table>\n",
       "</div>"
      ],
      "text/plain": [
       "          lat        lon\n",
       "No                      \n",
       "0   42.363186 -83.091669\n",
       "1   42.429329 -83.220389\n",
       "2   42.428929 -83.227529\n",
       "3   42.441671 -83.144992\n",
       "4   42.418294 -83.153599"
      ]
     },
     "execution_count": 21,
     "metadata": {},
     "output_type": "execute_result"
    }
   ],
   "source": [
    "buildings_df.head()"
   ]
  },
  {
   "cell_type": "code",
   "execution_count": 22,
   "metadata": {
    "collapsed": false
   },
   "outputs": [],
   "source": [
    "X = demolition_df[['lat', 'lon']].dropna()\n",
    "X['building_no'] = model.predict(X.values)"
   ]
  },
  {
   "cell_type": "code",
   "execution_count": 23,
   "metadata": {
    "collapsed": false
   },
   "outputs": [
    {
     "data": {
      "text/plain": [
       "4003"
      ]
     },
     "execution_count": 23,
     "metadata": {},
     "output_type": "execute_result"
    }
   ],
   "source": [
    "## total number of demolished buildings\n",
    "len(X.building_no.unique())"
   ]
  },
  {
   "cell_type": "code",
   "execution_count": 24,
   "metadata": {
    "collapsed": false
   },
   "outputs": [
    {
     "data": {
      "text/plain": [
       "True"
      ]
     },
     "execution_count": 24,
     "metadata": {},
     "output_type": "execute_result"
    }
   ],
   "source": [
    "1 in X.building_no"
   ]
  },
  {
   "cell_type": "code",
   "execution_count": 25,
   "metadata": {
    "collapsed": true
   },
   "outputs": [],
   "source": [
    "buildings_df['demolished'] = buildings_df.index.isin(X.building_no)"
   ]
  },
  {
   "cell_type": "code",
   "execution_count": 26,
   "metadata": {
    "collapsed": false
   },
   "outputs": [
    {
     "data": {
      "text/html": [
       "<div>\n",
       "<table border=\"1\" class=\"dataframe\">\n",
       "  <thead>\n",
       "    <tr style=\"text-align: right;\">\n",
       "      <th></th>\n",
       "      <th>lat</th>\n",
       "      <th>lon</th>\n",
       "      <th>demolished</th>\n",
       "    </tr>\n",
       "    <tr>\n",
       "      <th>No</th>\n",
       "      <th></th>\n",
       "      <th></th>\n",
       "      <th></th>\n",
       "    </tr>\n",
       "  </thead>\n",
       "  <tbody>\n",
       "    <tr>\n",
       "      <th>0</th>\n",
       "      <td>42.363186</td>\n",
       "      <td>-83.091669</td>\n",
       "      <td>False</td>\n",
       "    </tr>\n",
       "    <tr>\n",
       "      <th>1</th>\n",
       "      <td>42.429329</td>\n",
       "      <td>-83.220389</td>\n",
       "      <td>False</td>\n",
       "    </tr>\n",
       "    <tr>\n",
       "      <th>2</th>\n",
       "      <td>42.428929</td>\n",
       "      <td>-83.227529</td>\n",
       "      <td>False</td>\n",
       "    </tr>\n",
       "    <tr>\n",
       "      <th>3</th>\n",
       "      <td>42.441671</td>\n",
       "      <td>-83.144992</td>\n",
       "      <td>False</td>\n",
       "    </tr>\n",
       "    <tr>\n",
       "      <th>4</th>\n",
       "      <td>42.418294</td>\n",
       "      <td>-83.153599</td>\n",
       "      <td>False</td>\n",
       "    </tr>\n",
       "    <tr>\n",
       "      <th>5</th>\n",
       "      <td>42.420965</td>\n",
       "      <td>-83.153742</td>\n",
       "      <td>False</td>\n",
       "    </tr>\n",
       "    <tr>\n",
       "      <th>6</th>\n",
       "      <td>42.331681</td>\n",
       "      <td>-83.047996</td>\n",
       "      <td>True</td>\n",
       "    </tr>\n",
       "    <tr>\n",
       "      <th>7</th>\n",
       "      <td>42.427744</td>\n",
       "      <td>-83.144551</td>\n",
       "      <td>False</td>\n",
       "    </tr>\n",
       "    <tr>\n",
       "      <th>8</th>\n",
       "      <td>42.352897</td>\n",
       "      <td>-83.223485</td>\n",
       "      <td>False</td>\n",
       "    </tr>\n",
       "    <tr>\n",
       "      <th>9</th>\n",
       "      <td>42.355041</td>\n",
       "      <td>-83.226089</td>\n",
       "      <td>True</td>\n",
       "    </tr>\n",
       "  </tbody>\n",
       "</table>\n",
       "</div>"
      ],
      "text/plain": [
       "          lat        lon demolished\n",
       "No                                 \n",
       "0   42.363186 -83.091669      False\n",
       "1   42.429329 -83.220389      False\n",
       "2   42.428929 -83.227529      False\n",
       "3   42.441671 -83.144992      False\n",
       "4   42.418294 -83.153599      False\n",
       "5   42.420965 -83.153742      False\n",
       "6   42.331681 -83.047996       True\n",
       "7   42.427744 -83.144551      False\n",
       "8   42.352897 -83.223485      False\n",
       "9   42.355041 -83.226089       True"
      ]
     },
     "execution_count": 26,
     "metadata": {},
     "output_type": "execute_result"
    }
   ],
   "source": [
    "buildings_df.head(10)"
   ]
  },
  {
   "cell_type": "code",
   "execution_count": 27,
   "metadata": {
    "collapsed": false
   },
   "outputs": [
    {
     "data": {
      "text/plain": [
       "False    36266\n",
       "True      4003\n",
       "Name: demolished, dtype: int64"
      ]
     },
     "execution_count": 27,
     "metadata": {},
     "output_type": "execute_result"
    }
   ],
   "source": [
    "buildings_df.demolished.value_counts()"
   ]
  },
  {
   "cell_type": "code",
   "execution_count": 28,
   "metadata": {
    "collapsed": false
   },
   "outputs": [
    {
     "data": {
      "text/html": [
       "<div>\n",
       "<table border=\"1\" class=\"dataframe\">\n",
       "  <thead>\n",
       "    <tr style=\"text-align: right;\">\n",
       "      <th></th>\n",
       "      <th>lat</th>\n",
       "      <th>lon</th>\n",
       "      <th>demolished</th>\n",
       "    </tr>\n",
       "    <tr>\n",
       "      <th>No</th>\n",
       "      <th></th>\n",
       "      <th></th>\n",
       "      <th></th>\n",
       "    </tr>\n",
       "  </thead>\n",
       "  <tbody>\n",
       "    <tr>\n",
       "      <th>25325</th>\n",
       "      <td>42.396130</td>\n",
       "      <td>-82.981240</td>\n",
       "      <td>False</td>\n",
       "    </tr>\n",
       "    <tr>\n",
       "      <th>23735</th>\n",
       "      <td>42.358760</td>\n",
       "      <td>-83.190454</td>\n",
       "      <td>False</td>\n",
       "    </tr>\n",
       "    <tr>\n",
       "      <th>15411</th>\n",
       "      <td>42.446368</td>\n",
       "      <td>-83.091218</td>\n",
       "      <td>False</td>\n",
       "    </tr>\n",
       "    <tr>\n",
       "      <th>32983</th>\n",
       "      <td>42.412349</td>\n",
       "      <td>-82.949157</td>\n",
       "      <td>False</td>\n",
       "    </tr>\n",
       "    <tr>\n",
       "      <th>31839</th>\n",
       "      <td>42.445207</td>\n",
       "      <td>-83.071958</td>\n",
       "      <td>False</td>\n",
       "    </tr>\n",
       "    <tr>\n",
       "      <th>10573</th>\n",
       "      <td>42.366347</td>\n",
       "      <td>-82.996833</td>\n",
       "      <td>False</td>\n",
       "    </tr>\n",
       "    <tr>\n",
       "      <th>35897</th>\n",
       "      <td>42.366561</td>\n",
       "      <td>-83.011688</td>\n",
       "      <td>False</td>\n",
       "    </tr>\n",
       "    <tr>\n",
       "      <th>1377</th>\n",
       "      <td>42.383866</td>\n",
       "      <td>-82.965223</td>\n",
       "      <td>False</td>\n",
       "    </tr>\n",
       "    <tr>\n",
       "      <th>14040</th>\n",
       "      <td>42.372145</td>\n",
       "      <td>-83.102880</td>\n",
       "      <td>False</td>\n",
       "    </tr>\n",
       "    <tr>\n",
       "      <th>21439</th>\n",
       "      <td>42.358327</td>\n",
       "      <td>-83.145388</td>\n",
       "      <td>False</td>\n",
       "    </tr>\n",
       "  </tbody>\n",
       "</table>\n",
       "</div>"
      ],
      "text/plain": [
       "             lat        lon demolished\n",
       "No                                    \n",
       "25325  42.396130 -82.981240      False\n",
       "23735  42.358760 -83.190454      False\n",
       "15411  42.446368 -83.091218      False\n",
       "32983  42.412349 -82.949157      False\n",
       "31839  42.445207 -83.071958      False\n",
       "10573  42.366347 -82.996833      False\n",
       "35897  42.366561 -83.011688      False\n",
       "1377   42.383866 -82.965223      False\n",
       "14040  42.372145 -83.102880      False\n",
       "21439  42.358327 -83.145388      False"
      ]
     },
     "execution_count": 28,
     "metadata": {},
     "output_type": "execute_result"
    }
   ],
   "source": [
    "buildings_df[buildings_df.demolished == False].sample(10)"
   ]
  },
  {
   "cell_type": "code",
   "execution_count": 141,
   "metadata": {
    "collapsed": true
   },
   "outputs": [],
   "source": [
    "train_data = pd.concat([buildings_df[buildings_df.demolished == False].sample(4003),\n",
    "                        buildings_df[buildings_df.demolished == True]])"
   ]
  },
  {
   "cell_type": "code",
   "execution_count": 122,
   "metadata": {
    "collapsed": false
   },
   "outputs": [
    {
     "data": {
      "text/html": [
       "<div>\n",
       "<table border=\"1\" class=\"dataframe\">\n",
       "  <thead>\n",
       "    <tr style=\"text-align: right;\">\n",
       "      <th></th>\n",
       "      <th>lat</th>\n",
       "      <th>lon</th>\n",
       "      <th>demolished</th>\n",
       "    </tr>\n",
       "    <tr>\n",
       "      <th>No</th>\n",
       "      <th></th>\n",
       "      <th></th>\n",
       "      <th></th>\n",
       "    </tr>\n",
       "  </thead>\n",
       "  <tbody>\n",
       "    <tr>\n",
       "      <th>33856</th>\n",
       "      <td>42.446342</td>\n",
       "      <td>-82.960440</td>\n",
       "      <td>False</td>\n",
       "    </tr>\n",
       "    <tr>\n",
       "      <th>28720</th>\n",
       "      <td>42.384608</td>\n",
       "      <td>-83.008794</td>\n",
       "      <td>False</td>\n",
       "    </tr>\n",
       "    <tr>\n",
       "      <th>35993</th>\n",
       "      <td>42.420631</td>\n",
       "      <td>-83.145264</td>\n",
       "      <td>False</td>\n",
       "    </tr>\n",
       "    <tr>\n",
       "      <th>37202</th>\n",
       "      <td>42.379066</td>\n",
       "      <td>-83.108510</td>\n",
       "      <td>False</td>\n",
       "    </tr>\n",
       "    <tr>\n",
       "      <th>15644</th>\n",
       "      <td>42.370903</td>\n",
       "      <td>-83.197472</td>\n",
       "      <td>False</td>\n",
       "    </tr>\n",
       "  </tbody>\n",
       "</table>\n",
       "</div>"
      ],
      "text/plain": [
       "             lat        lon demolished\n",
       "No                                    \n",
       "33856  42.446342 -82.960440      False\n",
       "28720  42.384608 -83.008794      False\n",
       "35993  42.420631 -83.145264      False\n",
       "37202  42.379066 -83.108510      False\n",
       "15644  42.370903 -83.197472      False"
      ]
     },
     "execution_count": 122,
     "metadata": {},
     "output_type": "execute_result"
    }
   ],
   "source": [
    "train_data.head()"
   ]
  },
  {
   "cell_type": "code",
   "execution_count": 30,
   "metadata": {
    "collapsed": false
   },
   "outputs": [
    {
     "name": "stderr",
     "output_type": "stream",
     "text": [
      "/usr/local/lib/python2.7/dist-packages/IPython/core/interactiveshell.py:2902: DtypeWarning: Columns (6,10,11,12) have mixed types. Specify dtype option on import or set low_memory=False.\n",
      "  interactivity=interactivity, compiler=compiler, result=result)\n"
     ]
    },
    {
     "data": {
      "text/html": [
       "<div>\n",
       "<table border=\"1\" class=\"dataframe\">\n",
       "  <thead>\n",
       "    <tr style=\"text-align: right;\">\n",
       "      <th></th>\n",
       "      <th>TicketID</th>\n",
       "      <th>TicketNumber</th>\n",
       "      <th>AgencyName</th>\n",
       "      <th>ViolName</th>\n",
       "      <th>ViolationStreetNumber</th>\n",
       "      <th>ViolationStreetName</th>\n",
       "      <th>MailingStreetNumber</th>\n",
       "      <th>MailingStreetName</th>\n",
       "      <th>MailingCity</th>\n",
       "      <th>MailingState</th>\n",
       "      <th>...</th>\n",
       "      <th>AdminFee</th>\n",
       "      <th>LateFee</th>\n",
       "      <th>StateFee</th>\n",
       "      <th>CleanUpCost</th>\n",
       "      <th>JudgmentAmt</th>\n",
       "      <th>PaymentStatus</th>\n",
       "      <th>Void</th>\n",
       "      <th>ViolationCategory</th>\n",
       "      <th>ViolationAddress</th>\n",
       "      <th>MailingAddress</th>\n",
       "    </tr>\n",
       "  </thead>\n",
       "  <tbody>\n",
       "    <tr>\n",
       "      <th>0</th>\n",
       "      <td>26288</td>\n",
       "      <td>05000001DAH</td>\n",
       "      <td>Department of Public Works</td>\n",
       "      <td>Group, LLC, Grand Holding</td>\n",
       "      <td>2566</td>\n",
       "      <td>GRAND BLVD</td>\n",
       "      <td>743</td>\n",
       "      <td>Beaubien, Ste. 201</td>\n",
       "      <td>Detroit</td>\n",
       "      <td>MI</td>\n",
       "      <td>...</td>\n",
       "      <td>$20.00</td>\n",
       "      <td>$150.00</td>\n",
       "      <td>$10.00</td>\n",
       "      <td>$0.00</td>\n",
       "      <td>$1680.00</td>\n",
       "      <td>PAID IN FULL</td>\n",
       "      <td>0.0</td>\n",
       "      <td>0</td>\n",
       "      <td>2566 GRAND BLVD\\nDetroit, MI\\n(42.363182370000...</td>\n",
       "      <td>743 Beaubien\\nDetroit, MI 48226\\n(42.333730630...</td>\n",
       "    </tr>\n",
       "    <tr>\n",
       "      <th>1</th>\n",
       "      <td>19800</td>\n",
       "      <td>05000025DAH</td>\n",
       "      <td>Department of Public Works</td>\n",
       "      <td>JACKSON, RAECHELLE</td>\n",
       "      <td>19014</td>\n",
       "      <td>ASHTON</td>\n",
       "      <td>20501</td>\n",
       "      <td>HEYDEN</td>\n",
       "      <td>DETROIT</td>\n",
       "      <td>MI</td>\n",
       "      <td>...</td>\n",
       "      <td>$20.00</td>\n",
       "      <td>$10.00</td>\n",
       "      <td>$10.00</td>\n",
       "      <td>$0.00</td>\n",
       "      <td>$140.00</td>\n",
       "      <td>NO PAYMENT APPLIED</td>\n",
       "      <td>0.0</td>\n",
       "      <td>0</td>\n",
       "      <td>19014 ASHTON\\nDetroit, MI\\n(42.429390762000025...</td>\n",
       "      <td>20501 HEYDEN\\nDETROIT, MI 48219\\n(42.442177633...</td>\n",
       "    </tr>\n",
       "    <tr>\n",
       "      <th>2</th>\n",
       "      <td>19804</td>\n",
       "      <td>05000026DAH</td>\n",
       "      <td>Department of Public Works</td>\n",
       "      <td>TALTON, CAROL ANN</td>\n",
       "      <td>18735</td>\n",
       "      <td>STAHELIN</td>\n",
       "      <td>18735</td>\n",
       "      <td>STAHELI N</td>\n",
       "      <td>DETROIT</td>\n",
       "      <td>MI</td>\n",
       "      <td>...</td>\n",
       "      <td>$20.00</td>\n",
       "      <td>$10.00</td>\n",
       "      <td>$10.00</td>\n",
       "      <td>$0.00</td>\n",
       "      <td>$140.00</td>\n",
       "      <td>PAID IN FULL</td>\n",
       "      <td>0.0</td>\n",
       "      <td>0</td>\n",
       "      <td>18735 STAHELIN\\nDetroit, MI\\n(42.4287074590000...</td>\n",
       "      <td>18735 STAHELI N\\nDETROIT, MI 48219\\n(42.428707...</td>\n",
       "    </tr>\n",
       "    <tr>\n",
       "      <th>3</th>\n",
       "      <td>20208</td>\n",
       "      <td>05000027DAH</td>\n",
       "      <td>Department of Public Works</td>\n",
       "      <td>BONNER, DARRYL E.</td>\n",
       "      <td>20125</td>\n",
       "      <td>MONICA</td>\n",
       "      <td>25335</td>\n",
       "      <td>PEEKSKILL</td>\n",
       "      <td>SOUTHFIELD</td>\n",
       "      <td>MI</td>\n",
       "      <td>...</td>\n",
       "      <td>$20.00</td>\n",
       "      <td>$10.00</td>\n",
       "      <td>$10.00</td>\n",
       "      <td>$0.00</td>\n",
       "      <td>$140.00</td>\n",
       "      <td>NO PAYMENT APPLIED</td>\n",
       "      <td>0.0</td>\n",
       "      <td>0</td>\n",
       "      <td>20125 MONICA\\nDetroit, MI\\n(42.44169828400004,...</td>\n",
       "      <td>25335 PEEKSKILL\\nSOUTHFIELD, MI 48043\\n(42.475...</td>\n",
       "    </tr>\n",
       "    <tr>\n",
       "      <th>4</th>\n",
       "      <td>20211</td>\n",
       "      <td>05000028DAH</td>\n",
       "      <td>Department of Public Works</td>\n",
       "      <td>GREGORY, JAMES LEE</td>\n",
       "      <td>17397</td>\n",
       "      <td>PRAIRIE</td>\n",
       "      <td>17397</td>\n",
       "      <td>PRAIRIE</td>\n",
       "      <td>DETROIT</td>\n",
       "      <td>MI</td>\n",
       "      <td>...</td>\n",
       "      <td>$20.00</td>\n",
       "      <td>$10.00</td>\n",
       "      <td>$10.00</td>\n",
       "      <td>$0.00</td>\n",
       "      <td>$140.00</td>\n",
       "      <td>PAID IN FULL</td>\n",
       "      <td>0.0</td>\n",
       "      <td>0</td>\n",
       "      <td>17397 PRAIRIE\\nDetroit, MI\\n(42.42031769500005...</td>\n",
       "      <td>17397 PRAIRIE\\nDETROIT, MI 48221\\n(42.42031769...</td>\n",
       "    </tr>\n",
       "  </tbody>\n",
       "</table>\n",
       "<p>5 rows × 31 columns</p>\n",
       "</div>"
      ],
      "text/plain": [
       "   TicketID TicketNumber                  AgencyName  \\\n",
       "0     26288  05000001DAH  Department of Public Works   \n",
       "1     19800  05000025DAH  Department of Public Works   \n",
       "2     19804  05000026DAH  Department of Public Works   \n",
       "3     20208  05000027DAH  Department of Public Works   \n",
       "4     20211  05000028DAH  Department of Public Works   \n",
       "\n",
       "                    ViolName  ViolationStreetNumber ViolationStreetName  \\\n",
       "0  Group, LLC, Grand Holding                   2566    GRAND BLVD         \n",
       "1        JACKSON, RAECHELLE                   19014    ASHTON             \n",
       "2          TALTON, CAROL ANN                  18735    STAHELIN           \n",
       "3          BONNER, DARRYL E.                  20125    MONICA             \n",
       "4         GREGORY, JAMES LEE                  17397    PRAIRIE            \n",
       "\n",
       "  MailingStreetNumber   MailingStreetName MailingCity MailingState  \\\n",
       "0                 743  Beaubien, Ste. 201     Detroit           MI   \n",
       "1               20501              HEYDEN     DETROIT           MI   \n",
       "2               18735           STAHELI N     DETROIT           MI   \n",
       "3               25335           PEEKSKILL  SOUTHFIELD           MI   \n",
       "4               17397             PRAIRIE     DETROIT           MI   \n",
       "\n",
       "                         ...                         AdminFee  LateFee  \\\n",
       "0                        ...                           $20.00  $150.00   \n",
       "1                        ...                           $20.00   $10.00   \n",
       "2                        ...                           $20.00   $10.00   \n",
       "3                        ...                           $20.00   $10.00   \n",
       "4                        ...                           $20.00   $10.00   \n",
       "\n",
       "  StateFee CleanUpCost JudgmentAmt       PaymentStatus Void ViolationCategory  \\\n",
       "0   $10.00       $0.00    $1680.00        PAID IN FULL  0.0                 0   \n",
       "1   $10.00       $0.00     $140.00  NO PAYMENT APPLIED  0.0                 0   \n",
       "2   $10.00       $0.00     $140.00        PAID IN FULL  0.0                 0   \n",
       "3   $10.00       $0.00     $140.00  NO PAYMENT APPLIED  0.0                 0   \n",
       "4   $10.00       $0.00     $140.00        PAID IN FULL  0.0                 0   \n",
       "\n",
       "                                    ViolationAddress  \\\n",
       "0  2566 GRAND BLVD\\nDetroit, MI\\n(42.363182370000...   \n",
       "1  19014 ASHTON\\nDetroit, MI\\n(42.429390762000025...   \n",
       "2  18735 STAHELIN\\nDetroit, MI\\n(42.4287074590000...   \n",
       "3  20125 MONICA\\nDetroit, MI\\n(42.44169828400004,...   \n",
       "4  17397 PRAIRIE\\nDetroit, MI\\n(42.42031769500005...   \n",
       "\n",
       "                                      MailingAddress  \n",
       "0  743 Beaubien\\nDetroit, MI 48226\\n(42.333730630...  \n",
       "1  20501 HEYDEN\\nDETROIT, MI 48219\\n(42.442177633...  \n",
       "2  18735 STAHELI N\\nDETROIT, MI 48219\\n(42.428707...  \n",
       "3  25335 PEEKSKILL\\nSOUTHFIELD, MI 48043\\n(42.475...  \n",
       "4  17397 PRAIRIE\\nDETROIT, MI 48221\\n(42.42031769...  \n",
       "\n",
       "[5 rows x 31 columns]"
      ]
     },
     "execution_count": 30,
     "metadata": {},
     "output_type": "execute_result"
    }
   ],
   "source": [
    "incident_data = pd.read_csv(\"data/_97bd1c1e5df9537bb13398c9898deed7_detroit-blight-violations.csv\")\n",
    "incident_data.head()"
   ]
  },
  {
   "cell_type": "code",
   "execution_count": 31,
   "metadata": {
    "collapsed": true
   },
   "outputs": [],
   "source": [
    "inci_df = incident_data.copy()\n",
    "geo_pat = re.compile('\\((.+), (.+)\\)')\n",
    "inci_df['lat'] = inci_df.ViolationAddress.apply(lambda x: float(re.search(geo_pat, x).group(1)))\n",
    "inci_df['lon'] = inci_df.ViolationAddress.apply(lambda x: float(re.search(geo_pat, x).group(2)))"
   ]
  },
  {
   "cell_type": "markdown",
   "metadata": {},
   "source": [
    "#### build feature:\n",
    "- number of blight violations for each building"
   ]
  },
  {
   "cell_type": "code",
   "execution_count": 32,
   "metadata": {
    "collapsed": false
   },
   "outputs": [],
   "source": [
    "inci_df['building_no'] = model.predict(inci_df[['lat', 'lon']])"
   ]
  },
  {
   "cell_type": "code",
   "execution_count": 92,
   "metadata": {
    "collapsed": false
   },
   "outputs": [
    {
     "data": {
      "text/plain": [
       "Index([u'TicketID', u'TicketNumber', u'AgencyName', u'ViolName',\n",
       "       u'ViolationStreetNumber', u'ViolationStreetName',\n",
       "       u'MailingStreetNumber', u'MailingStreetName', u'MailingCity',\n",
       "       u'MailingState', u'MailingZipCode', u'NonUsAddressCode', u'Country',\n",
       "       u'TicketIssuedDT', u'TicketIssuedTime', u'HearingDT', u'CourtTime',\n",
       "       u'ViolationCode', u'ViolDescription', u'Disposition', u'FineAmt',\n",
       "       u'AdminFee', u'LateFee', u'StateFee', u'CleanUpCost', u'JudgmentAmt',\n",
       "       u'PaymentStatus', u'Void', u'ViolationCategory', u'ViolationAddress',\n",
       "       u'MailingAddress', u'lat_x', u'lon_x', u'building_no', u'lat_y',\n",
       "       u'lon_y', u'demolished'],\n",
       "      dtype='object')"
      ]
     },
     "execution_count": 92,
     "metadata": {},
     "output_type": "execute_result"
    }
   ],
   "source": [
    "inci_df.columns"
   ]
  },
  {
   "cell_type": "code",
   "execution_count": 91,
   "metadata": {
    "collapsed": false
   },
   "outputs": [
    {
     "data": {
      "text/plain": [
       "40269"
      ]
     },
     "execution_count": 91,
     "metadata": {},
     "output_type": "execute_result"
    }
   ],
   "source": [
    "len(inci_df.building_no.unique())"
   ]
  },
  {
   "cell_type": "code",
   "execution_count": 118,
   "metadata": {
    "collapsed": false
   },
   "outputs": [
    {
     "data": {
      "text/html": [
       "<div>\n",
       "<table border=\"1\" class=\"dataframe\">\n",
       "  <thead>\n",
       "    <tr style=\"text-align: right;\">\n",
       "      <th></th>\n",
       "      <th></th>\n",
       "      <th>TicketID</th>\n",
       "      <th>TicketNumber</th>\n",
       "      <th>AgencyName</th>\n",
       "      <th>ViolName</th>\n",
       "      <th>ViolationStreetNumber</th>\n",
       "      <th>ViolationStreetName</th>\n",
       "      <th>MailingStreetNumber</th>\n",
       "      <th>MailingStreetName</th>\n",
       "      <th>MailingCity</th>\n",
       "      <th>MailingState</th>\n",
       "      <th>...</th>\n",
       "      <th>JudgmentAmt</th>\n",
       "      <th>Void</th>\n",
       "      <th>ViolationCategory</th>\n",
       "      <th>ViolationAddress</th>\n",
       "      <th>MailingAddress</th>\n",
       "      <th>lat_x</th>\n",
       "      <th>lon_x</th>\n",
       "      <th>building_no</th>\n",
       "      <th>lat_y</th>\n",
       "      <th>lon_y</th>\n",
       "    </tr>\n",
       "    <tr>\n",
       "      <th>demolished</th>\n",
       "      <th>PaymentStatus</th>\n",
       "      <th></th>\n",
       "      <th></th>\n",
       "      <th></th>\n",
       "      <th></th>\n",
       "      <th></th>\n",
       "      <th></th>\n",
       "      <th></th>\n",
       "      <th></th>\n",
       "      <th></th>\n",
       "      <th></th>\n",
       "      <th></th>\n",
       "      <th></th>\n",
       "      <th></th>\n",
       "      <th></th>\n",
       "      <th></th>\n",
       "      <th></th>\n",
       "      <th></th>\n",
       "      <th></th>\n",
       "      <th></th>\n",
       "      <th></th>\n",
       "      <th></th>\n",
       "    </tr>\n",
       "  </thead>\n",
       "  <tbody>\n",
       "    <tr>\n",
       "      <th rowspan=\"4\" valign=\"top\">False</th>\n",
       "      <th>NO PAYMENT APPLIED</th>\n",
       "      <td>185831</td>\n",
       "      <td>185831</td>\n",
       "      <td>185831</td>\n",
       "      <td>185831</td>\n",
       "      <td>185831</td>\n",
       "      <td>185831</td>\n",
       "      <td>185830</td>\n",
       "      <td>185831</td>\n",
       "      <td>185831</td>\n",
       "      <td>185535</td>\n",
       "      <td>...</td>\n",
       "      <td>185831</td>\n",
       "      <td>48077</td>\n",
       "      <td>185831</td>\n",
       "      <td>185831</td>\n",
       "      <td>184970</td>\n",
       "      <td>185831</td>\n",
       "      <td>185831</td>\n",
       "      <td>185831</td>\n",
       "      <td>185831</td>\n",
       "      <td>185831</td>\n",
       "    </tr>\n",
       "    <tr>\n",
       "      <th>NO PAYMENT ON RECORD</th>\n",
       "      <td>11346</td>\n",
       "      <td>11346</td>\n",
       "      <td>11346</td>\n",
       "      <td>11346</td>\n",
       "      <td>11346</td>\n",
       "      <td>11346</td>\n",
       "      <td>11346</td>\n",
       "      <td>11346</td>\n",
       "      <td>11043</td>\n",
       "      <td>11040</td>\n",
       "      <td>...</td>\n",
       "      <td>9772</td>\n",
       "      <td>11346</td>\n",
       "      <td>11346</td>\n",
       "      <td>11346</td>\n",
       "      <td>10912</td>\n",
       "      <td>11346</td>\n",
       "      <td>11346</td>\n",
       "      <td>11346</td>\n",
       "      <td>11346</td>\n",
       "      <td>11346</td>\n",
       "    </tr>\n",
       "    <tr>\n",
       "      <th>PAID IN FULL</th>\n",
       "      <td>34117</td>\n",
       "      <td>34117</td>\n",
       "      <td>34117</td>\n",
       "      <td>34117</td>\n",
       "      <td>34117</td>\n",
       "      <td>34117</td>\n",
       "      <td>34116</td>\n",
       "      <td>34117</td>\n",
       "      <td>34066</td>\n",
       "      <td>34007</td>\n",
       "      <td>...</td>\n",
       "      <td>34114</td>\n",
       "      <td>14494</td>\n",
       "      <td>34117</td>\n",
       "      <td>34117</td>\n",
       "      <td>33863</td>\n",
       "      <td>34117</td>\n",
       "      <td>34117</td>\n",
       "      <td>34117</td>\n",
       "      <td>34117</td>\n",
       "      <td>34117</td>\n",
       "    </tr>\n",
       "    <tr>\n",
       "      <th>PARTIAL PAYMENT MADE</th>\n",
       "      <td>3561</td>\n",
       "      <td>3561</td>\n",
       "      <td>3561</td>\n",
       "      <td>3561</td>\n",
       "      <td>3561</td>\n",
       "      <td>3561</td>\n",
       "      <td>3561</td>\n",
       "      <td>3561</td>\n",
       "      <td>3557</td>\n",
       "      <td>3550</td>\n",
       "      <td>...</td>\n",
       "      <td>3561</td>\n",
       "      <td>1429</td>\n",
       "      <td>3561</td>\n",
       "      <td>3561</td>\n",
       "      <td>3537</td>\n",
       "      <td>3561</td>\n",
       "      <td>3561</td>\n",
       "      <td>3561</td>\n",
       "      <td>3561</td>\n",
       "      <td>3561</td>\n",
       "    </tr>\n",
       "    <tr>\n",
       "      <th rowspan=\"4\" valign=\"top\">True</th>\n",
       "      <th>NO PAYMENT APPLIED</th>\n",
       "      <td>58472</td>\n",
       "      <td>58472</td>\n",
       "      <td>58472</td>\n",
       "      <td>58472</td>\n",
       "      <td>58472</td>\n",
       "      <td>58472</td>\n",
       "      <td>58472</td>\n",
       "      <td>58472</td>\n",
       "      <td>58472</td>\n",
       "      <td>58393</td>\n",
       "      <td>...</td>\n",
       "      <td>58472</td>\n",
       "      <td>15682</td>\n",
       "      <td>58472</td>\n",
       "      <td>58472</td>\n",
       "      <td>58139</td>\n",
       "      <td>58472</td>\n",
       "      <td>58472</td>\n",
       "      <td>58472</td>\n",
       "      <td>58472</td>\n",
       "      <td>58472</td>\n",
       "    </tr>\n",
       "    <tr>\n",
       "      <th>NO PAYMENT ON RECORD</th>\n",
       "      <td>3219</td>\n",
       "      <td>3219</td>\n",
       "      <td>3219</td>\n",
       "      <td>3217</td>\n",
       "      <td>3219</td>\n",
       "      <td>3219</td>\n",
       "      <td>3219</td>\n",
       "      <td>3219</td>\n",
       "      <td>3156</td>\n",
       "      <td>3150</td>\n",
       "      <td>...</td>\n",
       "      <td>2826</td>\n",
       "      <td>3219</td>\n",
       "      <td>3219</td>\n",
       "      <td>3219</td>\n",
       "      <td>3108</td>\n",
       "      <td>3219</td>\n",
       "      <td>3219</td>\n",
       "      <td>3219</td>\n",
       "      <td>3219</td>\n",
       "      <td>3219</td>\n",
       "    </tr>\n",
       "    <tr>\n",
       "      <th>PAID IN FULL</th>\n",
       "      <td>10202</td>\n",
       "      <td>10202</td>\n",
       "      <td>10202</td>\n",
       "      <td>10202</td>\n",
       "      <td>10202</td>\n",
       "      <td>10202</td>\n",
       "      <td>10202</td>\n",
       "      <td>10202</td>\n",
       "      <td>10201</td>\n",
       "      <td>10188</td>\n",
       "      <td>...</td>\n",
       "      <td>10200</td>\n",
       "      <td>4467</td>\n",
       "      <td>10202</td>\n",
       "      <td>10202</td>\n",
       "      <td>10147</td>\n",
       "      <td>10202</td>\n",
       "      <td>10202</td>\n",
       "      <td>10202</td>\n",
       "      <td>10202</td>\n",
       "      <td>10202</td>\n",
       "    </tr>\n",
       "    <tr>\n",
       "      <th>PARTIAL PAYMENT MADE</th>\n",
       "      <td>1056</td>\n",
       "      <td>1056</td>\n",
       "      <td>1056</td>\n",
       "      <td>1056</td>\n",
       "      <td>1056</td>\n",
       "      <td>1056</td>\n",
       "      <td>1056</td>\n",
       "      <td>1056</td>\n",
       "      <td>1056</td>\n",
       "      <td>1053</td>\n",
       "      <td>...</td>\n",
       "      <td>1056</td>\n",
       "      <td>419</td>\n",
       "      <td>1056</td>\n",
       "      <td>1056</td>\n",
       "      <td>1050</td>\n",
       "      <td>1056</td>\n",
       "      <td>1056</td>\n",
       "      <td>1056</td>\n",
       "      <td>1056</td>\n",
       "      <td>1056</td>\n",
       "    </tr>\n",
       "  </tbody>\n",
       "</table>\n",
       "<p>8 rows × 35 columns</p>\n",
       "</div>"
      ],
      "text/plain": [
       "                                 TicketID  TicketNumber  AgencyName  ViolName  \\\n",
       "demolished PaymentStatus                                                        \n",
       "False      NO PAYMENT APPLIED      185831        185831      185831    185831   \n",
       "           NO PAYMENT ON RECORD     11346         11346       11346     11346   \n",
       "           PAID IN FULL             34117         34117       34117     34117   \n",
       "           PARTIAL PAYMENT MADE      3561          3561        3561      3561   \n",
       "True       NO PAYMENT APPLIED       58472         58472       58472     58472   \n",
       "           NO PAYMENT ON RECORD      3219          3219        3219      3217   \n",
       "           PAID IN FULL             10202         10202       10202     10202   \n",
       "           PARTIAL PAYMENT MADE      1056          1056        1056      1056   \n",
       "\n",
       "                                 ViolationStreetNumber  ViolationStreetName  \\\n",
       "demolished PaymentStatus                                                      \n",
       "False      NO PAYMENT APPLIED                   185831               185831   \n",
       "           NO PAYMENT ON RECORD                  11346                11346   \n",
       "           PAID IN FULL                          34117                34117   \n",
       "           PARTIAL PAYMENT MADE                   3561                 3561   \n",
       "True       NO PAYMENT APPLIED                    58472                58472   \n",
       "           NO PAYMENT ON RECORD                   3219                 3219   \n",
       "           PAID IN FULL                          10202                10202   \n",
       "           PARTIAL PAYMENT MADE                   1056                 1056   \n",
       "\n",
       "                                 MailingStreetNumber  MailingStreetName  \\\n",
       "demolished PaymentStatus                                                  \n",
       "False      NO PAYMENT APPLIED                 185830             185831   \n",
       "           NO PAYMENT ON RECORD                11346              11346   \n",
       "           PAID IN FULL                        34116              34117   \n",
       "           PARTIAL PAYMENT MADE                 3561               3561   \n",
       "True       NO PAYMENT APPLIED                  58472              58472   \n",
       "           NO PAYMENT ON RECORD                 3219               3219   \n",
       "           PAID IN FULL                        10202              10202   \n",
       "           PARTIAL PAYMENT MADE                 1056               1056   \n",
       "\n",
       "                                 MailingCity  MailingState   ...    \\\n",
       "demolished PaymentStatus                                     ...     \n",
       "False      NO PAYMENT APPLIED         185831        185535   ...     \n",
       "           NO PAYMENT ON RECORD        11043         11040   ...     \n",
       "           PAID IN FULL                34066         34007   ...     \n",
       "           PARTIAL PAYMENT MADE         3557          3550   ...     \n",
       "True       NO PAYMENT APPLIED          58472         58393   ...     \n",
       "           NO PAYMENT ON RECORD         3156          3150   ...     \n",
       "           PAID IN FULL                10201         10188   ...     \n",
       "           PARTIAL PAYMENT MADE         1056          1053   ...     \n",
       "\n",
       "                                 JudgmentAmt   Void  ViolationCategory  \\\n",
       "demolished PaymentStatus                                                 \n",
       "False      NO PAYMENT APPLIED         185831  48077             185831   \n",
       "           NO PAYMENT ON RECORD         9772  11346              11346   \n",
       "           PAID IN FULL                34114  14494              34117   \n",
       "           PARTIAL PAYMENT MADE         3561   1429               3561   \n",
       "True       NO PAYMENT APPLIED          58472  15682              58472   \n",
       "           NO PAYMENT ON RECORD         2826   3219               3219   \n",
       "           PAID IN FULL                10200   4467              10202   \n",
       "           PARTIAL PAYMENT MADE         1056    419               1056   \n",
       "\n",
       "                                 ViolationAddress  MailingAddress   lat_x  \\\n",
       "demolished PaymentStatus                                                    \n",
       "False      NO PAYMENT APPLIED              185831          184970  185831   \n",
       "           NO PAYMENT ON RECORD             11346           10912   11346   \n",
       "           PAID IN FULL                     34117           33863   34117   \n",
       "           PARTIAL PAYMENT MADE              3561            3537    3561   \n",
       "True       NO PAYMENT APPLIED               58472           58139   58472   \n",
       "           NO PAYMENT ON RECORD              3219            3108    3219   \n",
       "           PAID IN FULL                     10202           10147   10202   \n",
       "           PARTIAL PAYMENT MADE              1056            1050    1056   \n",
       "\n",
       "                                  lon_x  building_no   lat_y   lon_y  \n",
       "demolished PaymentStatus                                              \n",
       "False      NO PAYMENT APPLIED    185831       185831  185831  185831  \n",
       "           NO PAYMENT ON RECORD   11346        11346   11346   11346  \n",
       "           PAID IN FULL           34117        34117   34117   34117  \n",
       "           PARTIAL PAYMENT MADE    3561         3561    3561    3561  \n",
       "True       NO PAYMENT APPLIED     58472        58472   58472   58472  \n",
       "           NO PAYMENT ON RECORD    3219         3219    3219    3219  \n",
       "           PAID IN FULL           10202        10202   10202   10202  \n",
       "           PARTIAL PAYMENT MADE    1056         1056    1056    1056  \n",
       "\n",
       "[8 rows x 35 columns]"
      ]
     },
     "execution_count": 118,
     "metadata": {},
     "output_type": "execute_result"
    }
   ],
   "source": [
    "inci_df.groupby(['demolished', 'PaymentStatus']).count()"
   ]
  },
  {
   "cell_type": "code",
   "execution_count": 123,
   "metadata": {
    "collapsed": false
   },
   "outputs": [],
   "source": [
    "train_data = pd.merge(train_data, pd.crosstab(inci_df.building_no, inci_df.ViolationCode),\n",
    "                      how='left', left_index=True, right_index=True)"
   ]
  },
  {
   "cell_type": "code",
   "execution_count": 94,
   "metadata": {
    "collapsed": false
   },
   "outputs": [
    {
     "data": {
      "text/plain": [
       "(8006, 268)"
      ]
     },
     "execution_count": 94,
     "metadata": {},
     "output_type": "execute_result"
    }
   ],
   "source": [
    "train_data.shape"
   ]
  },
  {
   "cell_type": "code",
   "execution_count": 95,
   "metadata": {
    "collapsed": true
   },
   "outputs": [],
   "source": [
    "building_violation_counts = inci_df.building_no.value_counts()"
   ]
  },
  {
   "cell_type": "code",
   "execution_count": 142,
   "metadata": {
    "collapsed": true
   },
   "outputs": [],
   "source": [
    "train_data['violation_counts'] = building_violation_counts[train_data.index]"
   ]
  },
  {
   "cell_type": "code",
   "execution_count": 100,
   "metadata": {
    "collapsed": false
   },
   "outputs": [
    {
     "data": {
      "text/html": [
       "<div>\n",
       "<table border=\"1\" class=\"dataframe\">\n",
       "  <thead>\n",
       "    <tr style=\"text-align: right;\">\n",
       "      <th></th>\n",
       "      <th>lat</th>\n",
       "      <th>lon</th>\n",
       "      <th>demolished</th>\n",
       "      <th>22-2-16</th>\n",
       "      <th>22-2-17</th>\n",
       "      <th>22-2-17(a)</th>\n",
       "      <th>22-2-18</th>\n",
       "      <th>22-2-19</th>\n",
       "      <th>22-2-20</th>\n",
       "      <th>22-2-21(a)</th>\n",
       "      <th>...</th>\n",
       "      <th>9/1/1942</th>\n",
       "      <th>9/1/1945</th>\n",
       "      <th>9/1/1983</th>\n",
       "      <th>9/1/1984</th>\n",
       "      <th>9/1/1985</th>\n",
       "      <th>9/1/1991</th>\n",
       "      <th>9/1/2013</th>\n",
       "      <th>9/1/2016</th>\n",
       "      <th>9/1/2018</th>\n",
       "      <th>violation_counts</th>\n",
       "    </tr>\n",
       "    <tr>\n",
       "      <th>No</th>\n",
       "      <th></th>\n",
       "      <th></th>\n",
       "      <th></th>\n",
       "      <th></th>\n",
       "      <th></th>\n",
       "      <th></th>\n",
       "      <th></th>\n",
       "      <th></th>\n",
       "      <th></th>\n",
       "      <th></th>\n",
       "      <th></th>\n",
       "      <th></th>\n",
       "      <th></th>\n",
       "      <th></th>\n",
       "      <th></th>\n",
       "      <th></th>\n",
       "      <th></th>\n",
       "      <th></th>\n",
       "      <th></th>\n",
       "      <th></th>\n",
       "      <th></th>\n",
       "    </tr>\n",
       "  </thead>\n",
       "  <tbody>\n",
       "    <tr>\n",
       "      <th>153</th>\n",
       "      <td>42.406767</td>\n",
       "      <td>-83.150624</td>\n",
       "      <td>False</td>\n",
       "      <td>0</td>\n",
       "      <td>1</td>\n",
       "      <td>0</td>\n",
       "      <td>0</td>\n",
       "      <td>0</td>\n",
       "      <td>0</td>\n",
       "      <td>0</td>\n",
       "      <td>...</td>\n",
       "      <td>0</td>\n",
       "      <td>0</td>\n",
       "      <td>0</td>\n",
       "      <td>0</td>\n",
       "      <td>0</td>\n",
       "      <td>0</td>\n",
       "      <td>0</td>\n",
       "      <td>0</td>\n",
       "      <td>0</td>\n",
       "      <td>17</td>\n",
       "    </tr>\n",
       "    <tr>\n",
       "      <th>26958</th>\n",
       "      <td>42.350376</td>\n",
       "      <td>-83.233962</td>\n",
       "      <td>False</td>\n",
       "      <td>0</td>\n",
       "      <td>0</td>\n",
       "      <td>0</td>\n",
       "      <td>0</td>\n",
       "      <td>0</td>\n",
       "      <td>0</td>\n",
       "      <td>0</td>\n",
       "      <td>...</td>\n",
       "      <td>0</td>\n",
       "      <td>0</td>\n",
       "      <td>0</td>\n",
       "      <td>0</td>\n",
       "      <td>0</td>\n",
       "      <td>0</td>\n",
       "      <td>0</td>\n",
       "      <td>0</td>\n",
       "      <td>0</td>\n",
       "      <td>4</td>\n",
       "    </tr>\n",
       "    <tr>\n",
       "      <th>6829</th>\n",
       "      <td>42.356953</td>\n",
       "      <td>-83.023771</td>\n",
       "      <td>False</td>\n",
       "      <td>0</td>\n",
       "      <td>0</td>\n",
       "      <td>0</td>\n",
       "      <td>0</td>\n",
       "      <td>0</td>\n",
       "      <td>0</td>\n",
       "      <td>0</td>\n",
       "      <td>...</td>\n",
       "      <td>0</td>\n",
       "      <td>0</td>\n",
       "      <td>0</td>\n",
       "      <td>0</td>\n",
       "      <td>0</td>\n",
       "      <td>0</td>\n",
       "      <td>0</td>\n",
       "      <td>0</td>\n",
       "      <td>0</td>\n",
       "      <td>4</td>\n",
       "    </tr>\n",
       "    <tr>\n",
       "      <th>37159</th>\n",
       "      <td>42.412915</td>\n",
       "      <td>-82.913291</td>\n",
       "      <td>False</td>\n",
       "      <td>0</td>\n",
       "      <td>0</td>\n",
       "      <td>0</td>\n",
       "      <td>0</td>\n",
       "      <td>0</td>\n",
       "      <td>0</td>\n",
       "      <td>0</td>\n",
       "      <td>...</td>\n",
       "      <td>0</td>\n",
       "      <td>0</td>\n",
       "      <td>0</td>\n",
       "      <td>0</td>\n",
       "      <td>0</td>\n",
       "      <td>0</td>\n",
       "      <td>0</td>\n",
       "      <td>0</td>\n",
       "      <td>0</td>\n",
       "      <td>1</td>\n",
       "    </tr>\n",
       "    <tr>\n",
       "      <th>1133</th>\n",
       "      <td>42.403182</td>\n",
       "      <td>-83.253314</td>\n",
       "      <td>False</td>\n",
       "      <td>0</td>\n",
       "      <td>0</td>\n",
       "      <td>0</td>\n",
       "      <td>0</td>\n",
       "      <td>0</td>\n",
       "      <td>0</td>\n",
       "      <td>0</td>\n",
       "      <td>...</td>\n",
       "      <td>0</td>\n",
       "      <td>0</td>\n",
       "      <td>0</td>\n",
       "      <td>0</td>\n",
       "      <td>0</td>\n",
       "      <td>0</td>\n",
       "      <td>0</td>\n",
       "      <td>0</td>\n",
       "      <td>0</td>\n",
       "      <td>15</td>\n",
       "    </tr>\n",
       "  </tbody>\n",
       "</table>\n",
       "<p>5 rows × 269 columns</p>\n",
       "</div>"
      ],
      "text/plain": [
       "             lat        lon demolished  22-2-16  22-2-17  22-2-17(a)  22-2-18  \\\n",
       "No                                                                              \n",
       "153    42.406767 -83.150624      False        0        1           0        0   \n",
       "26958  42.350376 -83.233962      False        0        0           0        0   \n",
       "6829   42.356953 -83.023771      False        0        0           0        0   \n",
       "37159  42.412915 -82.913291      False        0        0           0        0   \n",
       "1133   42.403182 -83.253314      False        0        0           0        0   \n",
       "\n",
       "       22-2-19  22-2-20  22-2-21(a)        ...         9/1/1942  9/1/1945  \\\n",
       "No                                         ...                              \n",
       "153          0        0           0        ...                0         0   \n",
       "26958        0        0           0        ...                0         0   \n",
       "6829         0        0           0        ...                0         0   \n",
       "37159        0        0           0        ...                0         0   \n",
       "1133         0        0           0        ...                0         0   \n",
       "\n",
       "       9/1/1983  9/1/1984  9/1/1985  9/1/1991  9/1/2013  9/1/2016  9/1/2018  \\\n",
       "No                                                                            \n",
       "153           0         0         0         0         0         0         0   \n",
       "26958         0         0         0         0         0         0         0   \n",
       "6829          0         0         0         0         0         0         0   \n",
       "37159         0         0         0         0         0         0         0   \n",
       "1133          0         0         0         0         0         0         0   \n",
       "\n",
       "       violation_counts  \n",
       "No                       \n",
       "153                  17  \n",
       "26958                 4  \n",
       "6829                  4  \n",
       "37159                 1  \n",
       "1133                 15  \n",
       "\n",
       "[5 rows x 269 columns]"
      ]
     },
     "execution_count": 100,
     "metadata": {},
     "output_type": "execute_result"
    }
   ],
   "source": [
    "train_data.head()"
   ]
  },
  {
   "cell_type": "code",
   "execution_count": 69,
   "metadata": {
    "collapsed": false
   },
   "outputs": [
    {
     "data": {
      "text/plain": [
       "array(['PARTIAL PAYMENT MADE', 'NO PAYMENT APPLIED', 'PAID IN FULL',\n",
       "       'NO PAYMENT ON RECORD'], dtype=object)"
      ]
     },
     "execution_count": 69,
     "metadata": {},
     "output_type": "execute_result"
    }
   ],
   "source": [
    "train_df.PaymentStatus.unique()"
   ]
  },
  {
   "cell_type": "code",
   "execution_count": 143,
   "metadata": {
    "collapsed": false
   },
   "outputs": [],
   "source": [
    "train_data = pd.merge(train_data, pd.crosstab(inci_df.building_no, inci_df.PaymentStatus),\n",
    "                      how='left', left_index=True, right_index=True)"
   ]
  },
  {
   "cell_type": "code",
   "execution_count": 145,
   "metadata": {
    "collapsed": false
   },
   "outputs": [
    {
     "data": {
      "text/plain": [
       "(8006, 8)"
      ]
     },
     "execution_count": 145,
     "metadata": {},
     "output_type": "execute_result"
    }
   ],
   "source": [
    "train_data.shape"
   ]
  },
  {
   "cell_type": "code",
   "execution_count": 149,
   "metadata": {
    "collapsed": false
   },
   "outputs": [
    {
     "data": {
      "text/plain": [
       "Index([u'ROWNUM', u'CASEID', u'INCINO', u'CATEGORY', u'OFFENSEDESCRIPTION',\n",
       "       u'STATEOFFENSEFILECLASS', u'INCIDENTDATE', u'HOUR', u'SCA', u'PRECINCT',\n",
       "       u'COUNCIL', u'NEIGHBORHOOD', u'CENSUSTRACT', u'ADDRESS', u'LON', u'LAT',\n",
       "       u'LOCATION'],\n",
       "      dtype='object')"
      ]
     },
     "execution_count": 149,
     "metadata": {},
     "output_type": "execute_result"
    }
   ],
   "source": [
    "crime_data.columns"
   ]
  },
  {
   "cell_type": "code",
   "execution_count": 239,
   "metadata": {
    "collapsed": false
   },
   "outputs": [
    {
     "data": {
      "text/html": [
       "<div>\n",
       "<table border=\"1\" class=\"dataframe\">\n",
       "  <thead>\n",
       "    <tr style=\"text-align: right;\">\n",
       "      <th></th>\n",
       "      <th>ROWNUM</th>\n",
       "      <th>CASEID</th>\n",
       "      <th>INCINO</th>\n",
       "      <th>CATEGORY</th>\n",
       "      <th>OFFENSEDESCRIPTION</th>\n",
       "      <th>STATEOFFENSEFILECLASS</th>\n",
       "      <th>INCIDENTDATE</th>\n",
       "      <th>HOUR</th>\n",
       "      <th>SCA</th>\n",
       "      <th>PRECINCT</th>\n",
       "      <th>COUNCIL</th>\n",
       "      <th>NEIGHBORHOOD</th>\n",
       "      <th>CENSUSTRACT</th>\n",
       "      <th>ADDRESS</th>\n",
       "      <th>LON</th>\n",
       "      <th>LAT</th>\n",
       "      <th>LOCATION</th>\n",
       "      <th>building_no</th>\n",
       "    </tr>\n",
       "  </thead>\n",
       "  <tbody>\n",
       "    <tr>\n",
       "      <th>0</th>\n",
       "      <td>53256</td>\n",
       "      <td>1953933</td>\n",
       "      <td>1506030028.1</td>\n",
       "      <td>ASSAULT</td>\n",
       "      <td>ASSAULT AND BATTERY/SIMPLE ASSAULT</td>\n",
       "      <td>13001.0</td>\n",
       "      <td>06/03/2015 12:00:00 AM</td>\n",
       "      <td>2</td>\n",
       "      <td>1007.0</td>\n",
       "      <td>10.0</td>\n",
       "      <td>City Council District 5</td>\n",
       "      <td>PETOSKEY-OTSEGO</td>\n",
       "      <td>5334.0</td>\n",
       "      <td>09100 PETOSKEY</td>\n",
       "      <td>-83.1221</td>\n",
       "      <td>42.3678</td>\n",
       "      <td>PETOSKEY\\n09100\\n(42.3676, -83.1219)</td>\n",
       "      <td>5586</td>\n",
       "    </tr>\n",
       "    <tr>\n",
       "      <th>1</th>\n",
       "      <td>17631</td>\n",
       "      <td>1917717</td>\n",
       "      <td>1503010158.1</td>\n",
       "      <td>LARCENY</td>\n",
       "      <td>LARCENY - PARTS AND ACCESSORIES FROM VEHICLE</td>\n",
       "      <td>23006.0</td>\n",
       "      <td>03/01/2015 12:00:00 AM</td>\n",
       "      <td>9</td>\n",
       "      <td>608.0</td>\n",
       "      <td>6.0</td>\n",
       "      <td>City Council District 7</td>\n",
       "      <td>GRANDALE</td>\n",
       "      <td>5452.0</td>\n",
       "      <td>00 PLYMOUTH AND MANSFIELD</td>\n",
       "      <td>-83.2035</td>\n",
       "      <td>42.3724</td>\n",
       "      <td>00 PLYMOUTH AND MANSFIELD\\n(42.3725, -83.2033)</td>\n",
       "      <td>12289</td>\n",
       "    </tr>\n",
       "    <tr>\n",
       "      <th>2</th>\n",
       "      <td>11207</td>\n",
       "      <td>1910955</td>\n",
       "      <td>1502080223.1</td>\n",
       "      <td>STOLEN VEHICLE</td>\n",
       "      <td>VEHICLE THEFT</td>\n",
       "      <td>24001.0</td>\n",
       "      <td>02/08/2015 12:00:00 AM</td>\n",
       "      <td>18</td>\n",
       "      <td>1105.0</td>\n",
       "      <td>11.0</td>\n",
       "      <td>City Council District 3</td>\n",
       "      <td>OUTER DRIVE VAN DYKE</td>\n",
       "      <td>5051.0</td>\n",
       "      <td>00 E 7 MILE  VAN DYKE</td>\n",
       "      <td>-83.0241</td>\n",
       "      <td>42.4338</td>\n",
       "      <td>00 E 7 MILE VAN DYKE\\n(42.4339, -83.0241)</td>\n",
       "      <td>15158</td>\n",
       "    </tr>\n",
       "    <tr>\n",
       "      <th>3</th>\n",
       "      <td>116589</td>\n",
       "      <td>2018186</td>\n",
       "      <td>1511090188.1</td>\n",
       "      <td>WEAPONS OFFENSES</td>\n",
       "      <td>WEAPONS OFFENSE (OTHER)</td>\n",
       "      <td>52003.0</td>\n",
       "      <td>11/09/2015 12:00:00 AM</td>\n",
       "      <td>12</td>\n",
       "      <td>210.0</td>\n",
       "      <td>2.0</td>\n",
       "      <td>City Council District 6</td>\n",
       "      <td>TIREMAN</td>\n",
       "      <td>NaN</td>\n",
       "      <td>06600 BARTON</td>\n",
       "      <td>-83.1381</td>\n",
       "      <td>42.3496</td>\n",
       "      <td>BARTON\\n06600\\n(42.3494, -83.1379)</td>\n",
       "      <td>22640</td>\n",
       "    </tr>\n",
       "    <tr>\n",
       "      <th>4</th>\n",
       "      <td>85790</td>\n",
       "      <td>1986862</td>\n",
       "      <td>1508239803.1</td>\n",
       "      <td>LARCENY</td>\n",
       "      <td>LARCENY - PARTS AND ACCESSORIES FROM VEHICLE</td>\n",
       "      <td>23006.0</td>\n",
       "      <td>08/14/2015 12:00:00 AM</td>\n",
       "      <td>7</td>\n",
       "      <td>309.0</td>\n",
       "      <td>3.0</td>\n",
       "      <td>City Council District 6</td>\n",
       "      <td>WEST CANFIELD</td>\n",
       "      <td>5204.0</td>\n",
       "      <td>00900 W WILLIS</td>\n",
       "      <td>-83.0692</td>\n",
       "      <td>42.3481</td>\n",
       "      <td>W WILLIS\\n00900\\n(42.3481, -83.0693)</td>\n",
       "      <td>28580</td>\n",
       "    </tr>\n",
       "  </tbody>\n",
       "</table>\n",
       "</div>"
      ],
      "text/plain": [
       "   ROWNUM   CASEID        INCINO          CATEGORY  \\\n",
       "0   53256  1953933  1506030028.1           ASSAULT   \n",
       "1   17631  1917717  1503010158.1           LARCENY   \n",
       "2   11207  1910955  1502080223.1    STOLEN VEHICLE   \n",
       "3  116589  2018186  1511090188.1  WEAPONS OFFENSES   \n",
       "4   85790  1986862  1508239803.1           LARCENY   \n",
       "\n",
       "                             OFFENSEDESCRIPTION  STATEOFFENSEFILECLASS  \\\n",
       "0            ASSAULT AND BATTERY/SIMPLE ASSAULT                13001.0   \n",
       "1  LARCENY - PARTS AND ACCESSORIES FROM VEHICLE                23006.0   \n",
       "2                                 VEHICLE THEFT                24001.0   \n",
       "3                       WEAPONS OFFENSE (OTHER)                52003.0   \n",
       "4  LARCENY - PARTS AND ACCESSORIES FROM VEHICLE                23006.0   \n",
       "\n",
       "             INCIDENTDATE  HOUR     SCA  PRECINCT                  COUNCIL  \\\n",
       "0  06/03/2015 12:00:00 AM     2  1007.0      10.0  City Council District 5   \n",
       "1  03/01/2015 12:00:00 AM     9   608.0       6.0  City Council District 7   \n",
       "2  02/08/2015 12:00:00 AM    18  1105.0      11.0  City Council District 3   \n",
       "3  11/09/2015 12:00:00 AM    12   210.0       2.0  City Council District 6   \n",
       "4  08/14/2015 12:00:00 AM     7   309.0       3.0  City Council District 6   \n",
       "\n",
       "           NEIGHBORHOOD  CENSUSTRACT                    ADDRESS      LON  \\\n",
       "0       PETOSKEY-OTSEGO       5334.0             09100 PETOSKEY -83.1221   \n",
       "1              GRANDALE       5452.0  00 PLYMOUTH AND MANSFIELD -83.2035   \n",
       "2  OUTER DRIVE VAN DYKE       5051.0      00 E 7 MILE  VAN DYKE -83.0241   \n",
       "3               TIREMAN          NaN               06600 BARTON -83.1381   \n",
       "4         WEST CANFIELD       5204.0             00900 W WILLIS -83.0692   \n",
       "\n",
       "       LAT                                        LOCATION  building_no  \n",
       "0  42.3678            PETOSKEY\\n09100\\n(42.3676, -83.1219)         5586  \n",
       "1  42.3724  00 PLYMOUTH AND MANSFIELD\\n(42.3725, -83.2033)        12289  \n",
       "2  42.4338       00 E 7 MILE VAN DYKE\\n(42.4339, -83.0241)        15158  \n",
       "3  42.3496              BARTON\\n06600\\n(42.3494, -83.1379)        22640  \n",
       "4  42.3481            W WILLIS\\n00900\\n(42.3481, -83.0693)        28580  "
      ]
     },
     "execution_count": 239,
     "metadata": {},
     "output_type": "execute_result"
    }
   ],
   "source": [
    "crime_data.head()"
   ]
  },
  {
   "cell_type": "code",
   "execution_count": 260,
   "metadata": {
    "collapsed": true
   },
   "outputs": [],
   "source": [
    "def add_label(df, building_index=False):\n",
    "    if building_index: #df's index is building no.\n",
    "        tdf = pd.merge(df, buildings_df, left_index=True, right_index=True, how='left')\n",
    "    else:\n",
    "        tdf = pd.merge(df, buildings_df, left_on='building_no', right_index=True, how='left')\n",
    "    return tdf\n",
    "\n",
    "def subsample_df(df):\n",
    "    return pd.concat([df[df.demolished == False].sample(4003),\n",
    "                        df[df.demolished == True]])\n"
   ]
  },
  {
   "cell_type": "code",
   "execution_count": 256,
   "metadata": {
    "collapsed": false
   },
   "outputs": [],
   "source": [
    "tdf = add_label(crime_data)\n",
    "tdf['dummy'] = 1"
   ]
  },
  {
   "cell_type": "code",
   "execution_count": 261,
   "metadata": {
    "collapsed": false
   },
   "outputs": [],
   "source": [
    "ttdf = tdf.pivot_table(index='building_no', columns='CATEGORY', values='dummy').fillna(0)\n",
    "ttdf = add_label(ttdf, building_index=True)"
   ]
  },
  {
   "cell_type": "code",
   "execution_count": 263,
   "metadata": {
    "collapsed": false
   },
   "outputs": [
    {
     "data": {
      "text/plain": [
       "CATEGORY\n",
       "AGGRAVATED ASSAULT                             0.003939\n",
       "ANTITRUST                                      0.003495\n",
       "ARSON                                          0.027938\n",
       "ASSAULT                                       -0.006833\n",
       "BRIBERY                                        0.004082\n",
       "BURGLARY                                      -0.025561\n",
       "CONGRESS                                       0.008132\n",
       "CONSPIRACY BY COMPUTER                         0.003117\n",
       "DAMAGE TO PROPERTY                            -0.014091\n",
       "DANGEROUS DRUGS                                0.033096\n",
       "DRUNKENNESS                                   -0.003268\n",
       "ELECTION LAWS                                  0.003439\n",
       "EMBEZZLEMENT                                   0.001760\n",
       "ENVIRONMENT                                    0.007608\n",
       "ESCAPE                                        -0.002110\n",
       "EXTORTION                                      0.001731\n",
       "FAMILY OFFENSE                                -0.003066\n",
       "FELONY DEATH FROM FLEEING VEHICLE             -0.002669\n",
       "FORGERY                                       -0.003722\n",
       "FRAUD                                         -0.021437\n",
       "GAMBLING                                       0.006099\n",
       "HEALTH-SAFETY                                  0.000704\n",
       "HOMICIDE                                       0.007029\n",
       "IMMIGRATION                                   -0.006538\n",
       "JUSTIFIABLE HOMICIDE                           0.003439\n",
       "KIDNAPING                                     -0.001529\n",
       "LARCENY                                       -0.025953\n",
       "LIQUOR                                        -0.001408\n",
       "MILITARY                                      -0.001887\n",
       "MISCELLANEOUS ARREST                          -0.001887\n",
       "NEGLIGENT HOMICIDE                             0.005650\n",
       "OBSCENITY                                      0.001644\n",
       "OBSTRUCTING JUDICIARY                          0.011204\n",
       "OBSTRUCTING THE POLICE                         0.017734\n",
       "OTHER BURGLARY                                 0.006084\n",
       "OUIL                                           0.014429\n",
       "OUIL DISPOSE OF VEHICLE TO AVOID FORFEITURE   -0.003380\n",
       "PUBLIC PEACE                                   0.007358\n",
       "REVOKED                                        0.000835\n",
       "ROBBERY                                        0.005476\n",
       "RUNAWAY                                        0.018725\n",
       "SOLICITATION                                  -0.003922\n",
       "SOVEREIGNTY                                   -0.001887\n",
       "STOLEN PROPERTY                                0.011438\n",
       "STOLEN VEHICLE                                -0.011587\n",
       "TAX REVENUE                                   -0.001783\n",
       "TRAFFIC VIOLATIONS-DRIVING ON SUSPENDED        0.016305\n",
       "TRAFFIC VIOLATIONS-MOTORCYCLE VIOLATIONS       0.020768\n",
       "VAGRANCY (OTHER)                               0.003227\n",
       "WEAPONS OFFENSES                               0.002247\n",
       "lat                                           -0.057639\n",
       "lon                                            0.067219\n",
       "demolished                                     1.000000\n",
       "Name: demolished, dtype: float64"
      ]
     },
     "execution_count": 263,
     "metadata": {},
     "output_type": "execute_result"
    }
   ],
   "source": [
    "## seems the different categories of crime does not correlate to demolishment\n",
    "ttdf.demolished = ttdf.demolished.astype(int)\n",
    "ttdf.corr()['demolished']"
   ]
  },
  {
   "cell_type": "code",
   "execution_count": 267,
   "metadata": {
    "collapsed": false
   },
   "outputs": [
    {
     "data": {
      "text/html": [
       "<div>\n",
       "<table border=\"1\" class=\"dataframe\">\n",
       "  <thead>\n",
       "    <tr style=\"text-align: right;\">\n",
       "      <th></th>\n",
       "      <th>lat</th>\n",
       "      <th>lon</th>\n",
       "    </tr>\n",
       "  </thead>\n",
       "  <tbody>\n",
       "    <tr>\n",
       "      <th>count</th>\n",
       "      <td>40269.000000</td>\n",
       "      <td>40269.000000</td>\n",
       "    </tr>\n",
       "    <tr>\n",
       "      <th>mean</th>\n",
       "      <td>42.389958</td>\n",
       "      <td>-83.108051</td>\n",
       "    </tr>\n",
       "    <tr>\n",
       "      <th>std</th>\n",
       "      <td>0.035849</td>\n",
       "      <td>0.097033</td>\n",
       "    </tr>\n",
       "    <tr>\n",
       "      <th>min</th>\n",
       "      <td>42.255342</td>\n",
       "      <td>-83.287664</td>\n",
       "    </tr>\n",
       "    <tr>\n",
       "      <th>25%</th>\n",
       "      <td>42.364167</td>\n",
       "      <td>-83.188941</td>\n",
       "    </tr>\n",
       "    <tr>\n",
       "      <th>50%</th>\n",
       "      <td>42.393257</td>\n",
       "      <td>-83.119054</td>\n",
       "    </tr>\n",
       "    <tr>\n",
       "      <th>75%</th>\n",
       "      <td>42.419537</td>\n",
       "      <td>-83.022759</td>\n",
       "    </tr>\n",
       "    <tr>\n",
       "      <th>max</th>\n",
       "      <td>42.449452</td>\n",
       "      <td>-82.910654</td>\n",
       "    </tr>\n",
       "  </tbody>\n",
       "</table>\n",
       "</div>"
      ],
      "text/plain": [
       "                lat           lon\n",
       "count  40269.000000  40269.000000\n",
       "mean      42.389958    -83.108051\n",
       "std        0.035849      0.097033\n",
       "min       42.255342    -83.287664\n",
       "25%       42.364167    -83.188941\n",
       "50%       42.393257    -83.119054\n",
       "75%       42.419537    -83.022759\n",
       "max       42.449452    -82.910654"
      ]
     },
     "execution_count": 267,
     "metadata": {},
     "output_type": "execute_result"
    }
   ],
   "source": [
    "### Remove outliers from crime data\n",
    "buildings_df.describe()"
   ]
  },
  {
   "cell_type": "code",
   "execution_count": 271,
   "metadata": {
    "collapsed": false
   },
   "outputs": [
    {
     "name": "stdout",
     "output_type": "stream",
     "text": [
      "572\n"
     ]
    }
   ],
   "source": [
    "mask = (crime_data['LAT'] >= 42.255) & (crime_data.LAT <= 42.450) \\\n",
    "       & (crime_data.LON >= -83.287) & (crime_data.LON <= -82.911)\n",
    "original_size = crime_data.shape[0]\n",
    "crime_data = crime_data[mask]\n",
    "print original_size - crime_data.shape[0]"
   ]
  },
  {
   "cell_type": "code",
   "execution_count": 158,
   "metadata": {
    "collapsed": true
   },
   "outputs": [],
   "source": [
    "train_data = pd.merge(train_data, pd.crosstab(crime_data.building_no, crime_data.CATEGORY),\n",
    "                      how='left', left_index=True, right_index=True)"
   ]
  },
  {
   "cell_type": "code",
   "execution_count": 162,
   "metadata": {
    "collapsed": true
   },
   "outputs": [],
   "source": [
    "train_data.fillna(0, inplace=True)"
   ]
  },
  {
   "cell_type": "code",
   "execution_count": 163,
   "metadata": {
    "collapsed": false
   },
   "outputs": [
    {
     "data": {
      "text/html": [
       "<div>\n",
       "<table border=\"1\" class=\"dataframe\">\n",
       "  <thead>\n",
       "    <tr style=\"text-align: right;\">\n",
       "      <th></th>\n",
       "      <th>lat</th>\n",
       "      <th>lon</th>\n",
       "      <th>violation_counts</th>\n",
       "      <th>NO PAYMENT APPLIED</th>\n",
       "      <th>NO PAYMENT ON RECORD</th>\n",
       "      <th>PAID IN FULL</th>\n",
       "      <th>PARTIAL PAYMENT MADE</th>\n",
       "      <th>AGGRAVATED ASSAULT</th>\n",
       "      <th>ANTITRUST</th>\n",
       "      <th>ARSON</th>\n",
       "      <th>...</th>\n",
       "      <th>RUNAWAY</th>\n",
       "      <th>SOLICITATION</th>\n",
       "      <th>SOVEREIGNTY</th>\n",
       "      <th>STOLEN PROPERTY</th>\n",
       "      <th>STOLEN VEHICLE</th>\n",
       "      <th>TAX REVENUE</th>\n",
       "      <th>TRAFFIC VIOLATIONS-DRIVING ON SUSPENDED</th>\n",
       "      <th>TRAFFIC VIOLATIONS-MOTORCYCLE VIOLATIONS</th>\n",
       "      <th>VAGRANCY (OTHER)</th>\n",
       "      <th>WEAPONS OFFENSES</th>\n",
       "    </tr>\n",
       "    <tr>\n",
       "      <th>demolished</th>\n",
       "      <th></th>\n",
       "      <th></th>\n",
       "      <th></th>\n",
       "      <th></th>\n",
       "      <th></th>\n",
       "      <th></th>\n",
       "      <th></th>\n",
       "      <th></th>\n",
       "      <th></th>\n",
       "      <th></th>\n",
       "      <th></th>\n",
       "      <th></th>\n",
       "      <th></th>\n",
       "      <th></th>\n",
       "      <th></th>\n",
       "      <th></th>\n",
       "      <th></th>\n",
       "      <th></th>\n",
       "      <th></th>\n",
       "      <th></th>\n",
       "      <th></th>\n",
       "    </tr>\n",
       "  </thead>\n",
       "  <tbody>\n",
       "    <tr>\n",
       "      <th>False</th>\n",
       "      <td>42.389984</td>\n",
       "      <td>-83.111373</td>\n",
       "      <td>6.437172</td>\n",
       "      <td>5.105171</td>\n",
       "      <td>0.301274</td>\n",
       "      <td>0.941794</td>\n",
       "      <td>0.088933</td>\n",
       "      <td>0.210592</td>\n",
       "      <td>0.00025</td>\n",
       "      <td>0.014739</td>\n",
       "      <td>...</td>\n",
       "      <td>0.045466</td>\n",
       "      <td>0.023982</td>\n",
       "      <td>0.0</td>\n",
       "      <td>0.008494</td>\n",
       "      <td>0.180115</td>\n",
       "      <td>0.00025</td>\n",
       "      <td>0.138646</td>\n",
       "      <td>0.787659</td>\n",
       "      <td>0.003248</td>\n",
       "      <td>0.032476</td>\n",
       "    </tr>\n",
       "    <tr>\n",
       "      <th>True</th>\n",
       "      <td>42.384212</td>\n",
       "      <td>-83.090413</td>\n",
       "      <td>18.223582</td>\n",
       "      <td>14.607045</td>\n",
       "      <td>0.804147</td>\n",
       "      <td>2.548589</td>\n",
       "      <td>0.263802</td>\n",
       "      <td>0.202848</td>\n",
       "      <td>0.00050</td>\n",
       "      <td>0.027979</td>\n",
       "      <td>...</td>\n",
       "      <td>0.018236</td>\n",
       "      <td>0.017987</td>\n",
       "      <td>0.0</td>\n",
       "      <td>0.010992</td>\n",
       "      <td>0.154134</td>\n",
       "      <td>0.00025</td>\n",
       "      <td>0.237822</td>\n",
       "      <td>0.783912</td>\n",
       "      <td>0.002498</td>\n",
       "      <td>0.032975</td>\n",
       "    </tr>\n",
       "  </tbody>\n",
       "</table>\n",
       "<p>2 rows × 57 columns</p>\n",
       "</div>"
      ],
      "text/plain": [
       "                  lat        lon  violation_counts  NO PAYMENT APPLIED  \\\n",
       "demolished                                                               \n",
       "False       42.389984 -83.111373          6.437172            5.105171   \n",
       "True        42.384212 -83.090413         18.223582           14.607045   \n",
       "\n",
       "            NO PAYMENT ON RECORD  PAID IN FULL  PARTIAL PAYMENT MADE  \\\n",
       "demolished                                                             \n",
       "False                   0.301274      0.941794              0.088933   \n",
       "True                    0.804147      2.548589              0.263802   \n",
       "\n",
       "            AGGRAVATED ASSAULT  ANTITRUST     ARSON        ...         \\\n",
       "demolished                                                 ...          \n",
       "False                 0.210592    0.00025  0.014739        ...          \n",
       "True                  0.202848    0.00050  0.027979        ...          \n",
       "\n",
       "             RUNAWAY  SOLICITATION  SOVEREIGNTY  STOLEN PROPERTY  \\\n",
       "demolished                                                         \n",
       "False       0.045466      0.023982          0.0         0.008494   \n",
       "True        0.018236      0.017987          0.0         0.010992   \n",
       "\n",
       "            STOLEN VEHICLE  TAX REVENUE  \\\n",
       "demolished                                \n",
       "False             0.180115      0.00025   \n",
       "True              0.154134      0.00025   \n",
       "\n",
       "            TRAFFIC VIOLATIONS-DRIVING ON SUSPENDED  \\\n",
       "demolished                                            \n",
       "False                                      0.138646   \n",
       "True                                       0.237822   \n",
       "\n",
       "            TRAFFIC VIOLATIONS-MOTORCYCLE VIOLATIONS  VAGRANCY (OTHER)  \\\n",
       "demolished                                                               \n",
       "False                                       0.787659          0.003248   \n",
       "True                                        0.783912          0.002498   \n",
       "\n",
       "            WEAPONS OFFENSES  \n",
       "demolished                    \n",
       "False               0.032476  \n",
       "True                0.032975  \n",
       "\n",
       "[2 rows x 57 columns]"
      ]
     },
     "execution_count": 163,
     "metadata": {},
     "output_type": "execute_result"
    }
   ],
   "source": [
    "train_data.groupby('demolished').mean()"
   ]
  },
  {
   "cell_type": "code",
   "execution_count": 171,
   "metadata": {
    "collapsed": false
   },
   "outputs": [
    {
     "data": {
      "text/plain": [
       "array([[<matplotlib.axes._subplots.AxesSubplot object at 0x7fe2ad018510>,\n",
       "        <matplotlib.axes._subplots.AxesSubplot object at 0x7fe2e665c8d0>]], dtype=object)"
      ]
     },
     "execution_count": 171,
     "metadata": {},
     "output_type": "execute_result"
    },
    {
     "data": {
      "image/png": "[encoded data removed]",
      "text/plain": [
       "<matplotlib.figure.Figure at 0x7fe2acd8bc10>"
      ]
     },
     "metadata": {},
     "output_type": "display_data"
    }
   ],
   "source": [
    "pd.crosstab(train_data['NO PAYMENT ON RECORD'], train_data.demolished).hist()"
   ]
  },
  {
   "cell_type": "markdown",
   "metadata": {},
   "source": [
    "## Training Model"
   ]
  },
  {
   "cell_type": "code",
   "execution_count": 187,
   "metadata": {
    "collapsed": false
   },
   "outputs": [],
   "source": [
    "train_X = train_data.drop(['demolished', 'lat', 'lon'], axis=1)\n",
    "train_y = train_data.demolished"
   ]
  },
  {
   "cell_type": "code",
   "execution_count": 106,
   "metadata": {
    "collapsed": true
   },
   "outputs": [],
   "source": [
    "from sklearn.linear_model.logistic import LogisticRegression\n",
    "from sklearn import cross_validation"
   ]
  },
  {
   "cell_type": "code",
   "execution_count": 188,
   "metadata": {
    "collapsed": true
   },
   "outputs": [],
   "source": [
    "model1 = LogisticRegression(penalty='l1')"
   ]
  },
  {
   "cell_type": "code",
   "execution_count": 164,
   "metadata": {
    "collapsed": false
   },
   "outputs": [
    {
     "data": {
      "text/plain": [
       "LogisticRegression(C=1.0, class_weight=None, dual=False, fit_intercept=True,\n",
       "          intercept_scaling=1, max_iter=100, multi_class='ovr', n_jobs=1,\n",
       "          penalty='l1', random_state=None, solver='liblinear', tol=0.0001,\n",
       "          verbose=0, warm_start=False)"
      ]
     },
     "execution_count": 164,
     "metadata": {},
     "output_type": "execute_result"
    }
   ],
   "source": [
    "model1.fit(train_X, train_data.demolished)"
   ]
  },
  {
   "cell_type": "code",
   "execution_count": 194,
   "metadata": {
    "collapsed": false
   },
   "outputs": [
    {
     "data": {
      "text/plain": [
       "array([ 0.6741573 ,  0.64794007,  0.62796504,  0.52875   ,  0.408125  ])"
      ]
     },
     "execution_count": 194,
     "metadata": {},
     "output_type": "execute_result"
    }
   ],
   "source": [
    "cross_validation.cross_val_score(model1, train_X.values, train_y.values,\n",
    "                                 cv=5, scoring='accuracy')"
   ]
  },
  {
   "cell_type": "code",
   "execution_count": null,
   "metadata": {
    "collapsed": true
   },
   "outputs": [],
   "source": []
  },
  {
   "cell_type": "code",
   "execution_count": null,
   "metadata": {
    "collapsed": true
   },
   "outputs": [],
   "source": []
  },
  {
   "cell_type": "code",
   "execution_count": 108,
   "metadata": {
    "collapsed": true
   },
   "outputs": [],
   "source": [
    "from sklearn.ensemble import RandomForestClassifier"
   ]
  },
  {
   "cell_type": "code",
   "execution_count": 135,
   "metadata": {
    "collapsed": true
   },
   "outputs": [],
   "source": [
    "model2 = RandomForestClassifier(n_estimators=100, max_depth=5, min_samples_split=10, )"
   ]
  },
  {
   "cell_type": "code",
   "execution_count": 180,
   "metadata": {
    "collapsed": false
   },
   "outputs": [
    {
     "data": {
      "text/plain": [
       "RandomForestClassifier(bootstrap=True, class_weight=None, criterion='gini',\n",
       "            max_depth=5, max_features='auto', max_leaf_nodes=None,\n",
       "            min_samples_leaf=1, min_samples_split=10,\n",
       "            min_weight_fraction_leaf=0.0, n_estimators=100, n_jobs=1,\n",
       "            oob_score=False, random_state=None, verbose=0,\n",
       "            warm_start=False)"
      ]
     },
     "execution_count": 180,
     "metadata": {},
     "output_type": "execute_result"
    }
   ],
   "source": [
    "model2.fit(train_X, train_data.demolished)"
   ]
  },
  {
   "cell_type": "code",
   "execution_count": 224,
   "metadata": {
    "collapsed": false
   },
   "outputs": [
    {
     "data": {
      "text/plain": [
       "array([ 0.69787765,  0.67977528,  0.59862672,  0.501875  ,  0.306875  ])"
      ]
     },
     "execution_count": 224,
     "metadata": {},
     "output_type": "execute_result"
    }
   ],
   "source": [
    "cross_validation.cross_val_score(model2, train_X, train_y,\n",
    "                                 cv=5, scoring='accuracy')"
   ]
  },
  {
   "cell_type": "code",
   "execution_count": 185,
   "metadata": {
    "collapsed": false
   },
   "outputs": [
    {
     "data": {
      "text/plain": [
       "[(0.29414952528748634, 'NO PAYMENT APPLIED'),\n",
       " (0.29052422833395142, 'violation_counts'),\n",
       " (0.047172637259436156, 'LARCENY'),\n",
       " (0.046133231531382143, 'PAID IN FULL'),\n",
       " (0.036310744109957903, 'PARTIAL PAYMENT MADE'),\n",
       " (0.029955798064190572, 'TRAFFIC VIOLATIONS-MOTORCYCLE VIOLATIONS'),\n",
       " (0.028635637594312514, 'NO PAYMENT ON RECORD'),\n",
       " (0.020911230073017092, 'DAMAGE TO PROPERTY'),\n",
       " (0.018111665011522046, 'BURGLARY'),\n",
       " (0.016593042158859265, 'DANGEROUS DRUGS'),\n",
       " (0.015129747704656698, 'FRAUD'),\n",
       " (0.014498253683197279, 'ARSON'),\n",
       " (0.014470759113003882, 'ASSAULT'),\n",
       " (0.01417795437067081, 'TRAFFIC VIOLATIONS-DRIVING ON SUSPENDED'),\n",
       " (0.011221322454670486, 'ROBBERY'),\n",
       " (0.010909277340118572, 'AGGRAVATED ASSAULT'),\n",
       " (0.010619894152438856, 'OBSTRUCTING JUDICIARY'),\n",
       " (0.0092247931743124952, 'STOLEN VEHICLE'),\n",
       " (0.0083097459265328404, 'ESCAPE'),\n",
       " (0.0073972523194542374, 'WEAPONS OFFENSES'),\n",
       " (0.0061357665371652523, 'SOLICITATION'),\n",
       " (0.0059282708171121655, 'RUNAWAY'),\n",
       " (0.0046685561303629738, 'STOLEN PROPERTY'),\n",
       " (0.0043753908347029377, 'HEALTH-SAFETY'),\n",
       " (0.0042646962401917364, 'FAMILY OFFENSE'),\n",
       " (0.0036559780065827966, 'PUBLIC PEACE'),\n",
       " (0.0036267173612338516, 'OUIL DISPOSE OF VEHICLE TO AVOID FORFEITURE'),\n",
       " (0.0035886932476355258, 'BRIBERY'),\n",
       " (0.00315581928355466, 'OBSTRUCTING THE POLICE'),\n",
       " (0.0021382316434256738, 'FORGERY'),\n",
       " (0.0021037283628014842, 'OUIL'),\n",
       " (0.001634296934621105, 'EXTORTION'),\n",
       " (0.0015832169744755384, 'HOMICIDE'),\n",
       " (0.0014136810596612848, 'VAGRANCY (OTHER)'),\n",
       " (0.0013107865354547513, 'OTHER BURGLARY'),\n",
       " (0.0010712480775369156, 'KIDNAPING'),\n",
       " (0.00074939073251803728, 'REVOKED'),\n",
       " (0.00074301181343307742, 'CONSPIRACY BY COMPUTER'),\n",
       " (0.00072702981496199125, 'ENVIRONMENT'),\n",
       " (0.00069086911066199681, 'LIQUOR'),\n",
       " (0.00047988766424367701, 'IMMIGRATION'),\n",
       " (0.00044860179109398532, 'NEGLIGENT HOMICIDE'),\n",
       " (0.00023456072729873109, 'CONGRESS'),\n",
       " (0.00022552213712615218, 'OBSCENITY'),\n",
       " (0.00018948772760569996, 'EMBEZZLEMENT'),\n",
       " (0.00015488262449343584, 'ANTITRUST'),\n",
       " (0.00013002715151659946, 'TAX REVENUE'),\n",
       " (6.1085733189973377e-05, 'ELECTION LAWS'),\n",
       " (5.3825262166371037e-05, 'JUSTIFIABLE HOMICIDE'),\n",
       " (0.0, 'SOVEREIGNTY'),\n",
       " (0.0, 'MISCELLANEOUS ARREST'),\n",
       " (0.0, 'MILITARY'),\n",
       " (0.0, 'GAMBLING'),\n",
       " (0.0, 'FELONY DEATH FROM FLEEING VEHICLE'),\n",
       " (0.0, 'DRUNKENNESS')]"
      ]
     },
     "execution_count": 185,
     "metadata": {},
     "output_type": "execute_result"
    }
   ],
   "source": [
    "sorted(zip(model2.feature_importances_, train_X.columns), reverse=True, )"
   ]
  },
  {
   "cell_type": "code",
   "execution_count": 191,
   "metadata": {
    "collapsed": false
   },
   "outputs": [
    {
     "data": {
      "text/plain": [
       "array([ 1.        ,  0.96666667,  0.93333333,  0.9       ,  1.        ])"
      ]
     },
     "execution_count": 191,
     "metadata": {},
     "output_type": "execute_result"
    }
   ],
   "source": [
    "import sklearn.datasets\n",
    "import sklearn.cross_validation\n",
    "import sklearn.linear_model\n",
    "d = sklearn.datasets.load_iris()\n",
    "X = d.data\n",
    "y = d.target\n",
    "sklearn.cross_validation.cross_val_score(sklearn.linear_model.LogisticRegression(), X, y, cv=5, scoring='accuracy')"
   ]
  },
  {
   "cell_type": "code",
   "execution_count": 223,
   "metadata": {
    "collapsed": false
   },
   "outputs": [
    {
     "data": {
      "text/plain": [
       "array([ 0.70599251,  0.66354557,  0.61735331,  0.496875  ,  0.40875   ])"
      ]
     },
     "execution_count": 223,
     "metadata": {},
     "output_type": "execute_result"
    }
   ],
   "source": [
    "sklearn.cross_validation.cross_val_score(sklearn.linear_model.LogisticRegression(), train_X[['violation_counts', 'NO PAYMENT APPLIED']].values, train_y.astype(int).values, cv=5, scoring='accuracy')"
   ]
  },
  {
   "cell_type": "code",
   "execution_count": 222,
   "metadata": {
    "collapsed": false
   },
   "outputs": [
    {
     "data": {
      "text/plain": [
       "array([ 0.49937578,  0.5       ,  0.49937578,  0.5       ,  0.5       ])"
      ]
     },
     "execution_count": 222,
     "metadata": {},
     "output_type": "execute_result"
    }
   ],
   "source": [
    "sklearn.cross_validation.cross_val_score(sklearn.linear_model.LogisticRegression(), train_X[['DRUNKENNESS', 'GAMBLING']].values, train_y.astype(int).values, cv=5, scoring='accuracy')"
   ]
  },
  {
   "cell_type": "code",
   "execution_count": null,
   "metadata": {
    "collapsed": true
   },
   "outputs": [],
   "source": []
  }
 ],
 "metadata": {
  "kernelspec": {
   "display_name": "Python 2",
   "language": "python",
   "name": "python2"
  },
  "language_info": {
   "codemirror_mode": {
    "name": "ipython",
    "version": 2
   },
   "file_extension": ".py",
   "mimetype": "text/x-python",
   "name": "python",
   "nbconvert_exporter": "python",
   "pygments_lexer": "ipython2",
   "version": "2.7.6"
  }
 },
 "nbformat": 4,
 "nbformat_minor": 0
}
