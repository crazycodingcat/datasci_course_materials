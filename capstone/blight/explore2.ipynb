{
 "cells": [
  {
   "cell_type": "code",
   "execution_count": 1,
   "metadata": {
    "collapsed": true
   },
   "outputs": [],
   "source": [
    "import pandas as pd\n",
    "import numpy as np\n",
    "import matplotlib.pyplot as plt\n",
    "import re\n",
    "%matplotlib inline"
   ]
  },
  {
   "cell_type": "code",
   "execution_count": 3,
   "metadata": {
    "collapsed": false
   },
   "outputs": [
    {
     "name": "stdout",
     "output_type": "stream",
     "text": [
      "_97bd1c1e5df9537bb13398c9898deed7_detroit-blight-violations.csv\r\n",
      "buildings.csv\r\n",
      "_dcebfb2135a2bf5a6392493bd61aba22_detroit-311.csv\r\n",
      "_dcebfb2135a2bf5a6392493bd61aba22_detroit-crime.csv\r\n",
      "_dcebfb2135a2bf5a6392493bd61aba22_detroit-demolition-permits.tsv\r\n"
     ]
    }
   ],
   "source": [
    "!ls data/"
   ]
  },
  {
   "cell_type": "code",
   "execution_count": 5,
   "metadata": {
    "collapsed": false
   },
   "outputs": [
    {
     "data": {
      "text/plain": [
       "(119931, 17)"
      ]
     },
     "execution_count": 5,
     "metadata": {},
     "output_type": "execute_result"
    }
   ],
   "source": [
    "crime_data = pd.read_csv(\"data/_dcebfb2135a2bf5a6392493bd61aba22_detroit-crime.csv\")\n",
    "crime_data.shape"
   ]
  },
  {
   "cell_type": "code",
   "execution_count": 6,
   "metadata": {
    "collapsed": false
   },
   "outputs": [
    {
     "data": {
      "text/html": [
       "<div>\n",
       "<table border=\"1\" class=\"dataframe\">\n",
       "  <thead>\n",
       "    <tr style=\"text-align: right;\">\n",
       "      <th></th>\n",
       "      <th>ROWNUM</th>\n",
       "      <th>CASEID</th>\n",
       "      <th>INCINO</th>\n",
       "      <th>CATEGORY</th>\n",
       "      <th>OFFENSEDESCRIPTION</th>\n",
       "      <th>STATEOFFENSEFILECLASS</th>\n",
       "      <th>INCIDENTDATE</th>\n",
       "      <th>HOUR</th>\n",
       "      <th>SCA</th>\n",
       "      <th>PRECINCT</th>\n",
       "      <th>COUNCIL</th>\n",
       "      <th>NEIGHBORHOOD</th>\n",
       "      <th>CENSUSTRACT</th>\n",
       "      <th>ADDRESS</th>\n",
       "      <th>LON</th>\n",
       "      <th>LAT</th>\n",
       "      <th>LOCATION</th>\n",
       "    </tr>\n",
       "  </thead>\n",
       "  <tbody>\n",
       "    <tr>\n",
       "      <th>0</th>\n",
       "      <td>53256</td>\n",
       "      <td>1953933</td>\n",
       "      <td>1506030028.1</td>\n",
       "      <td>ASSAULT</td>\n",
       "      <td>ASSAULT AND BATTERY/SIMPLE ASSAULT</td>\n",
       "      <td>13001.0</td>\n",
       "      <td>06/03/2015 12:00:00 AM</td>\n",
       "      <td>2</td>\n",
       "      <td>1007.0</td>\n",
       "      <td>10.0</td>\n",
       "      <td>City Council District 5</td>\n",
       "      <td>PETOSKEY-OTSEGO</td>\n",
       "      <td>5334.0</td>\n",
       "      <td>09100 PETOSKEY</td>\n",
       "      <td>-83.1221</td>\n",
       "      <td>42.3678</td>\n",
       "      <td>PETOSKEY\\n09100\\n(42.3676, -83.1219)</td>\n",
       "    </tr>\n",
       "    <tr>\n",
       "      <th>1</th>\n",
       "      <td>17631</td>\n",
       "      <td>1917717</td>\n",
       "      <td>1503010158.1</td>\n",
       "      <td>LARCENY</td>\n",
       "      <td>LARCENY - PARTS AND ACCESSORIES FROM VEHICLE</td>\n",
       "      <td>23006.0</td>\n",
       "      <td>03/01/2015 12:00:00 AM</td>\n",
       "      <td>9</td>\n",
       "      <td>608.0</td>\n",
       "      <td>6.0</td>\n",
       "      <td>City Council District 7</td>\n",
       "      <td>GRANDALE</td>\n",
       "      <td>5452.0</td>\n",
       "      <td>00 PLYMOUTH AND MANSFIELD</td>\n",
       "      <td>-83.2035</td>\n",
       "      <td>42.3724</td>\n",
       "      <td>00 PLYMOUTH AND MANSFIELD\\n(42.3725, -83.2033)</td>\n",
       "    </tr>\n",
       "    <tr>\n",
       "      <th>2</th>\n",
       "      <td>11207</td>\n",
       "      <td>1910955</td>\n",
       "      <td>1502080223.1</td>\n",
       "      <td>STOLEN VEHICLE</td>\n",
       "      <td>VEHICLE THEFT</td>\n",
       "      <td>24001.0</td>\n",
       "      <td>02/08/2015 12:00:00 AM</td>\n",
       "      <td>18</td>\n",
       "      <td>1105.0</td>\n",
       "      <td>11.0</td>\n",
       "      <td>City Council District 3</td>\n",
       "      <td>OUTER DRIVE VAN DYKE</td>\n",
       "      <td>5051.0</td>\n",
       "      <td>00 E 7 MILE  VAN DYKE</td>\n",
       "      <td>-83.0241</td>\n",
       "      <td>42.4338</td>\n",
       "      <td>00 E 7 MILE VAN DYKE\\n(42.4339, -83.0241)</td>\n",
       "    </tr>\n",
       "    <tr>\n",
       "      <th>3</th>\n",
       "      <td>116589</td>\n",
       "      <td>2018186</td>\n",
       "      <td>1511090188.1</td>\n",
       "      <td>WEAPONS OFFENSES</td>\n",
       "      <td>WEAPONS OFFENSE (OTHER)</td>\n",
       "      <td>52003.0</td>\n",
       "      <td>11/09/2015 12:00:00 AM</td>\n",
       "      <td>12</td>\n",
       "      <td>210.0</td>\n",
       "      <td>2.0</td>\n",
       "      <td>City Council District 6</td>\n",
       "      <td>TIREMAN</td>\n",
       "      <td>NaN</td>\n",
       "      <td>06600 BARTON</td>\n",
       "      <td>-83.1381</td>\n",
       "      <td>42.3496</td>\n",
       "      <td>BARTON\\n06600\\n(42.3494, -83.1379)</td>\n",
       "    </tr>\n",
       "    <tr>\n",
       "      <th>4</th>\n",
       "      <td>85790</td>\n",
       "      <td>1986862</td>\n",
       "      <td>1508239803.1</td>\n",
       "      <td>LARCENY</td>\n",
       "      <td>LARCENY - PARTS AND ACCESSORIES FROM VEHICLE</td>\n",
       "      <td>23006.0</td>\n",
       "      <td>08/14/2015 12:00:00 AM</td>\n",
       "      <td>7</td>\n",
       "      <td>309.0</td>\n",
       "      <td>3.0</td>\n",
       "      <td>City Council District 6</td>\n",
       "      <td>WEST CANFIELD</td>\n",
       "      <td>5204.0</td>\n",
       "      <td>00900 W WILLIS</td>\n",
       "      <td>-83.0692</td>\n",
       "      <td>42.3481</td>\n",
       "      <td>W WILLIS\\n00900\\n(42.3481, -83.0693)</td>\n",
       "    </tr>\n",
       "  </tbody>\n",
       "</table>\n",
       "</div>"
      ],
      "text/plain": [
       "   ROWNUM   CASEID        INCINO          CATEGORY  \\\n",
       "0   53256  1953933  1506030028.1           ASSAULT   \n",
       "1   17631  1917717  1503010158.1           LARCENY   \n",
       "2   11207  1910955  1502080223.1    STOLEN VEHICLE   \n",
       "3  116589  2018186  1511090188.1  WEAPONS OFFENSES   \n",
       "4   85790  1986862  1508239803.1           LARCENY   \n",
       "\n",
       "                             OFFENSEDESCRIPTION  STATEOFFENSEFILECLASS  \\\n",
       "0            ASSAULT AND BATTERY/SIMPLE ASSAULT                13001.0   \n",
       "1  LARCENY - PARTS AND ACCESSORIES FROM VEHICLE                23006.0   \n",
       "2                                 VEHICLE THEFT                24001.0   \n",
       "3                       WEAPONS OFFENSE (OTHER)                52003.0   \n",
       "4  LARCENY - PARTS AND ACCESSORIES FROM VEHICLE                23006.0   \n",
       "\n",
       "             INCIDENTDATE  HOUR     SCA  PRECINCT                  COUNCIL  \\\n",
       "0  06/03/2015 12:00:00 AM     2  1007.0      10.0  City Council District 5   \n",
       "1  03/01/2015 12:00:00 AM     9   608.0       6.0  City Council District 7   \n",
       "2  02/08/2015 12:00:00 AM    18  1105.0      11.0  City Council District 3   \n",
       "3  11/09/2015 12:00:00 AM    12   210.0       2.0  City Council District 6   \n",
       "4  08/14/2015 12:00:00 AM     7   309.0       3.0  City Council District 6   \n",
       "\n",
       "           NEIGHBORHOOD  CENSUSTRACT                    ADDRESS      LON  \\\n",
       "0       PETOSKEY-OTSEGO       5334.0             09100 PETOSKEY -83.1221   \n",
       "1              GRANDALE       5452.0  00 PLYMOUTH AND MANSFIELD -83.2035   \n",
       "2  OUTER DRIVE VAN DYKE       5051.0      00 E 7 MILE  VAN DYKE -83.0241   \n",
       "3               TIREMAN          NaN               06600 BARTON -83.1381   \n",
       "4         WEST CANFIELD       5204.0             00900 W WILLIS -83.0692   \n",
       "\n",
       "       LAT                                        LOCATION  \n",
       "0  42.3678            PETOSKEY\\n09100\\n(42.3676, -83.1219)  \n",
       "1  42.3724  00 PLYMOUTH AND MANSFIELD\\n(42.3725, -83.2033)  \n",
       "2  42.4338       00 E 7 MILE VAN DYKE\\n(42.4339, -83.0241)  \n",
       "3  42.3496              BARTON\\n06600\\n(42.3494, -83.1379)  \n",
       "4  42.3481            W WILLIS\\n00900\\n(42.3481, -83.0693)  "
      ]
     },
     "execution_count": 6,
     "metadata": {},
     "output_type": "execute_result"
    }
   ],
   "source": [
    "crime_data.head()"
   ]
  },
  {
   "cell_type": "code",
   "execution_count": 7,
   "metadata": {
    "collapsed": false
   },
   "outputs": [
    {
     "data": {
      "text/plain": [
       "Index([u'ROWNUM', u'CASEID', u'INCINO', u'CATEGORY', u'OFFENSEDESCRIPTION',\n",
       "       u'STATEOFFENSEFILECLASS', u'INCIDENTDATE', u'HOUR', u'SCA', u'PRECINCT',\n",
       "       u'COUNCIL', u'NEIGHBORHOOD', u'CENSUSTRACT', u'ADDRESS', u'LON', u'LAT',\n",
       "       u'LOCATION'],\n",
       "      dtype='object')"
      ]
     },
     "execution_count": 7,
     "metadata": {},
     "output_type": "execute_result"
    }
   ],
   "source": [
    "crime_data.columns"
   ]
  },
  {
   "cell_type": "code",
   "execution_count": 8,
   "metadata": {
    "collapsed": false
   },
   "outputs": [
    {
     "data": {
      "text/html": [
       "<div>\n",
       "<table border=\"1\" class=\"dataframe\">\n",
       "  <thead>\n",
       "    <tr style=\"text-align: right;\">\n",
       "      <th></th>\n",
       "      <th>PERMIT_NO</th>\n",
       "      <th>PERMIT_APPLIED</th>\n",
       "      <th>PERMIT_ISSUED</th>\n",
       "      <th>PERMIT_EXPIRES</th>\n",
       "      <th>SITE_ADDRESS</th>\n",
       "      <th>BETWEEN1</th>\n",
       "      <th>PARCEL_NO</th>\n",
       "      <th>LOT_NUMBER</th>\n",
       "      <th>SUBDIVISION</th>\n",
       "      <th>CASE_TYPE</th>\n",
       "      <th>...</th>\n",
       "      <th>CONTRACTOR_ADDRESS1</th>\n",
       "      <th>CONTRACTOR_ADDRESS2</th>\n",
       "      <th>CONTRACTOR_CITY</th>\n",
       "      <th>CONTRACTOR_STATE</th>\n",
       "      <th>CONTRACTOR_ZIP</th>\n",
       "      <th>CONDITION_FOR_APPROVAL</th>\n",
       "      <th>site_location</th>\n",
       "      <th>owner_location</th>\n",
       "      <th>contractor_location</th>\n",
       "      <th>geom</th>\n",
       "    </tr>\n",
       "  </thead>\n",
       "  <tbody>\n",
       "    <tr>\n",
       "      <th>0</th>\n",
       "      <td>BLD2015-03955</td>\n",
       "      <td>8/28/15</td>\n",
       "      <td>8/28/15</td>\n",
       "      <td>NaN</td>\n",
       "      <td>4331  BARHAM</td>\n",
       "      <td>BETWEEN VOIGHT AND WAVENEY</td>\n",
       "      <td>21 65525-6</td>\n",
       "      <td>S15</td>\n",
       "      <td>NaN</td>\n",
       "      <td>BLD</td>\n",
       "      <td>...</td>\n",
       "      <td>13500 FOLEY</td>\n",
       "      <td>NaN</td>\n",
       "      <td>DETROIT</td>\n",
       "      <td>NaN</td>\n",
       "      <td>48227.0</td>\n",
       "      <td>NaN</td>\n",
       "      <td>4331 BARHAM\\nDetroit, MI\\n(42.394106, -82.9474)</td>\n",
       "      <td>65 CADILLAC\\nDETROIT, MI\\n(42.331741326000042,...</td>\n",
       "      <td>13500 FOLEY\\nDETROIT, MI\\n(42.379332, -83.177501)</td>\n",
       "      <td>NaN</td>\n",
       "    </tr>\n",
       "    <tr>\n",
       "      <th>1</th>\n",
       "      <td>BLD2015-04083</td>\n",
       "      <td>8/28/15</td>\n",
       "      <td>8/28/15</td>\n",
       "      <td>NaN</td>\n",
       "      <td>9707  BESSEMORE</td>\n",
       "      <td>BETWEEN VINTON AND GRATIOT</td>\n",
       "      <td>19 2312.</td>\n",
       "      <td>40</td>\n",
       "      <td>NaN</td>\n",
       "      <td>BLD</td>\n",
       "      <td>...</td>\n",
       "      <td>13500 FOLEY</td>\n",
       "      <td>NaN</td>\n",
       "      <td>DETROIT</td>\n",
       "      <td>NaN</td>\n",
       "      <td>48227.0</td>\n",
       "      <td>NaN</td>\n",
       "      <td>9707 BESSEMORE\\nDetroit, MI\\n(42.395122, -83.0...</td>\n",
       "      <td>65 CADILLAC\\nDETROIT, MI\\n(42.331741326000042,...</td>\n",
       "      <td>13500 FOLEY\\nDETROIT, MI\\n(42.379332, -83.177501)</td>\n",
       "      <td>NaN</td>\n",
       "    </tr>\n",
       "    <tr>\n",
       "      <th>2</th>\n",
       "      <td>BLD2015-03976</td>\n",
       "      <td>8/28/15</td>\n",
       "      <td>8/28/15</td>\n",
       "      <td>NaN</td>\n",
       "      <td>5315  BERKSHIRE</td>\n",
       "      <td>BETWEEN SOUTHAMPTON AND FRANKFORT</td>\n",
       "      <td>21 69321.</td>\n",
       "      <td>445</td>\n",
       "      <td>NaN</td>\n",
       "      <td>BLD</td>\n",
       "      <td>...</td>\n",
       "      <td>13500 FOLEY</td>\n",
       "      <td>NaN</td>\n",
       "      <td>DETROIT</td>\n",
       "      <td>NaN</td>\n",
       "      <td>48227.0</td>\n",
       "      <td>NaN</td>\n",
       "      <td>5315 BERKSHIRE\\nDetroit, MI\\n(42.40322, -82.94...</td>\n",
       "      <td>65 CADILLAC\\nDETROIT, MI\\n(42.331741326000042,...</td>\n",
       "      <td>13500 FOLEY\\nDETROIT, MI\\n(42.379332, -83.177501)</td>\n",
       "      <td>NaN</td>\n",
       "    </tr>\n",
       "    <tr>\n",
       "      <th>3</th>\n",
       "      <td>BLD2015-03781</td>\n",
       "      <td>8/28/15</td>\n",
       "      <td>8/28/15</td>\n",
       "      <td>NaN</td>\n",
       "      <td>16670  BRINGARD DR</td>\n",
       "      <td>BETWEEN CUSHING AND SHAKESPEARE</td>\n",
       "      <td>21 25930.</td>\n",
       "      <td>97</td>\n",
       "      <td>NaN</td>\n",
       "      <td>BLD</td>\n",
       "      <td>...</td>\n",
       "      <td>13500 FOLEY</td>\n",
       "      <td>NaN</td>\n",
       "      <td>DETROIT</td>\n",
       "      <td>NaN</td>\n",
       "      <td>48227.0</td>\n",
       "      <td>NaN</td>\n",
       "      <td>16670 BRINGARD DR\\nDetroit, MI\\n(42.44664, -82...</td>\n",
       "      <td>65 CADILLAC\\nDETROIT, MI\\n(42.331741326000042,...</td>\n",
       "      <td>13500 FOLEY\\nDETROIT, MI\\n(42.379332, -83.177501)</td>\n",
       "      <td>NaN</td>\n",
       "    </tr>\n",
       "    <tr>\n",
       "      <th>4</th>\n",
       "      <td>BLD2015-03677</td>\n",
       "      <td>8/28/15</td>\n",
       "      <td>8/28/15</td>\n",
       "      <td>NaN</td>\n",
       "      <td>1454  BEATRICE</td>\n",
       "      <td>BETWEEN TORONTO AND GILROY</td>\n",
       "      <td>20 12871.012</td>\n",
       "      <td>21</td>\n",
       "      <td>NaN</td>\n",
       "      <td>BLD</td>\n",
       "      <td>...</td>\n",
       "      <td>13500 FOLEY</td>\n",
       "      <td>NaN</td>\n",
       "      <td>DETROIT</td>\n",
       "      <td>NaN</td>\n",
       "      <td>48227.0</td>\n",
       "      <td>NaN</td>\n",
       "      <td>1454 BEATRICE\\nDetroit, MI\\n(42.276956, -83.14...</td>\n",
       "      <td>65 CADILLAC\\nDETROIT, MI\\n(42.331741326000042,...</td>\n",
       "      <td>13500 FOLEY\\nDETROIT, MI\\n(42.379332, -83.177501)</td>\n",
       "      <td>NaN</td>\n",
       "    </tr>\n",
       "  </tbody>\n",
       "</table>\n",
       "<p>5 rows × 55 columns</p>\n",
       "</div>"
      ],
      "text/plain": [
       "       PERMIT_NO PERMIT_APPLIED PERMIT_ISSUED PERMIT_EXPIRES  \\\n",
       "0  BLD2015-03955        8/28/15       8/28/15            NaN   \n",
       "1  BLD2015-04083        8/28/15       8/28/15            NaN   \n",
       "2  BLD2015-03976        8/28/15       8/28/15            NaN   \n",
       "3  BLD2015-03781        8/28/15       8/28/15            NaN   \n",
       "4  BLD2015-03677        8/28/15       8/28/15            NaN   \n",
       "\n",
       "         SITE_ADDRESS                           BETWEEN1     PARCEL_NO  \\\n",
       "0        4331  BARHAM         BETWEEN VOIGHT AND WAVENEY    21 65525-6   \n",
       "1     9707  BESSEMORE         BETWEEN VINTON AND GRATIOT      19 2312.   \n",
       "2     5315  BERKSHIRE  BETWEEN SOUTHAMPTON AND FRANKFORT     21 69321.   \n",
       "3  16670  BRINGARD DR    BETWEEN CUSHING AND SHAKESPEARE     21 25930.   \n",
       "4      1454  BEATRICE         BETWEEN TORONTO AND GILROY  20 12871.012   \n",
       "\n",
       "  LOT_NUMBER SUBDIVISION CASE_TYPE ...  CONTRACTOR_ADDRESS1  \\\n",
       "0        S15         NaN       BLD ...          13500 FOLEY   \n",
       "1         40         NaN       BLD ...          13500 FOLEY   \n",
       "2        445         NaN       BLD ...          13500 FOLEY   \n",
       "3         97         NaN       BLD ...          13500 FOLEY   \n",
       "4         21         NaN       BLD ...          13500 FOLEY   \n",
       "\n",
       "  CONTRACTOR_ADDRESS2 CONTRACTOR_CITY  CONTRACTOR_STATE  CONTRACTOR_ZIP  \\\n",
       "0                 NaN         DETROIT               NaN         48227.0   \n",
       "1                 NaN         DETROIT               NaN         48227.0   \n",
       "2                 NaN         DETROIT               NaN         48227.0   \n",
       "3                 NaN         DETROIT               NaN         48227.0   \n",
       "4                 NaN         DETROIT               NaN         48227.0   \n",
       "\n",
       "   CONDITION_FOR_APPROVAL                                      site_location  \\\n",
       "0                     NaN    4331 BARHAM\\nDetroit, MI\\n(42.394106, -82.9474)   \n",
       "1                     NaN  9707 BESSEMORE\\nDetroit, MI\\n(42.395122, -83.0...   \n",
       "2                     NaN  5315 BERKSHIRE\\nDetroit, MI\\n(42.40322, -82.94...   \n",
       "3                     NaN  16670 BRINGARD DR\\nDetroit, MI\\n(42.44664, -82...   \n",
       "4                     NaN  1454 BEATRICE\\nDetroit, MI\\n(42.276956, -83.14...   \n",
       "\n",
       "                                      owner_location  \\\n",
       "0  65 CADILLAC\\nDETROIT, MI\\n(42.331741326000042,...   \n",
       "1  65 CADILLAC\\nDETROIT, MI\\n(42.331741326000042,...   \n",
       "2  65 CADILLAC\\nDETROIT, MI\\n(42.331741326000042,...   \n",
       "3  65 CADILLAC\\nDETROIT, MI\\n(42.331741326000042,...   \n",
       "4  65 CADILLAC\\nDETROIT, MI\\n(42.331741326000042,...   \n",
       "\n",
       "                                 contractor_location geom  \n",
       "0  13500 FOLEY\\nDETROIT, MI\\n(42.379332, -83.177501)  NaN  \n",
       "1  13500 FOLEY\\nDETROIT, MI\\n(42.379332, -83.177501)  NaN  \n",
       "2  13500 FOLEY\\nDETROIT, MI\\n(42.379332, -83.177501)  NaN  \n",
       "3  13500 FOLEY\\nDETROIT, MI\\n(42.379332, -83.177501)  NaN  \n",
       "4  13500 FOLEY\\nDETROIT, MI\\n(42.379332, -83.177501)  NaN  \n",
       "\n",
       "[5 rows x 55 columns]"
      ]
     },
     "execution_count": 8,
     "metadata": {},
     "output_type": "execute_result"
    }
   ],
   "source": [
    "demolition_data = pd.read_csv(\"data/_dcebfb2135a2bf5a6392493bd61aba22_detroit-demolition-permits.tsv\", sep='\\t')\n",
    "demolition_data.head()"
   ]
  },
  {
   "cell_type": "code",
   "execution_count": 9,
   "metadata": {
    "collapsed": false
   },
   "outputs": [
    {
     "data": {
      "text/plain": [
       "(7133, 55)"
      ]
     },
     "execution_count": 9,
     "metadata": {},
     "output_type": "execute_result"
    }
   ],
   "source": [
    "demolition_data.shape"
   ]
  },
  {
   "cell_type": "code",
   "execution_count": 10,
   "metadata": {
    "collapsed": false
   },
   "outputs": [
    {
     "name": "stdout",
     "output_type": "stream",
     "text": [
      "<class 'pandas.core.frame.DataFrame'>\n",
      "RangeIndex: 7133 entries, 0 to 7132\n",
      "Data columns (total 55 columns):\n",
      "PERMIT_NO                 7133 non-null object\n",
      "PERMIT_APPLIED            7133 non-null object\n",
      "PERMIT_ISSUED             7133 non-null object\n",
      "PERMIT_EXPIRES            6953 non-null object\n",
      "SITE_ADDRESS              7133 non-null object\n",
      "BETWEEN1                  7091 non-null object\n",
      "PARCEL_NO                 7133 non-null object\n",
      "LOT_NUMBER                7062 non-null object\n",
      "SUBDIVISION               6087 non-null object\n",
      "CASE_TYPE                 7133 non-null object\n",
      "CASE_DESCRIPTION          7133 non-null object\n",
      "LEGAL_USE                 6689 non-null object\n",
      "ESTIMATED_COST            342 non-null object\n",
      "PARCEL_SIZE               7088 non-null float64\n",
      "PARCEL_CLUSTER_SECTOR     7122 non-null float64\n",
      "STORIES                   5707 non-null float64\n",
      "PARCEL_FLOOR_AREA         7088 non-null float64\n",
      "PARCEL_GROUND_AREA        7088 non-null float64\n",
      "PRC_AKA_ADDRESS           293 non-null object\n",
      "BLD_PERMIT_TYPE           7133 non-null object\n",
      "PERMIT_DESCRIPTION        5859 non-null object\n",
      "BLD_PERMIT_DESC           6142 non-null object\n",
      "BLD_TYPE_USE              7081 non-null object\n",
      "RESIDENTIAL               7133 non-null object\n",
      "DESCRIPTION               5859 non-null object\n",
      "BLD_TYPE_CONST_COD        6932 non-null object\n",
      "BLD_ZONING_DIST           2414 non-null object\n",
      "BLD_USE_GROUP             6688 non-null object\n",
      "BLD_BASEMENT              6277 non-null object\n",
      "FEE_TYPE                  7133 non-null object\n",
      "CSM_CASENO                7133 non-null object\n",
      "CSF_CREATED_BY            7133 non-null object\n",
      "SEQ_NO                    7133 non-null int64\n",
      "PCF_AMT_PD                5859 non-null object\n",
      "PCF_AMT_DUE               7133 non-null object\n",
      "PCF_UPDATED               6662 non-null object\n",
      "OWNER_LAST_NAME           7105 non-null object\n",
      "OWNER_FIRST_NAME          769 non-null object\n",
      "OWNER_ADDRESS1            7133 non-null object\n",
      "OWNER_ADDRESS2            1528 non-null object\n",
      "OWNER_CITY                7133 non-null object\n",
      "OWNER_STATE               7133 non-null object\n",
      "OWNER_ZIP                 6554 non-null object\n",
      "CONTRACTOR_LAST_NAME      7072 non-null object\n",
      "CONTRACTOR_FIRST_NAME     36 non-null object\n",
      "CONTRACTOR_ADDRESS1       7133 non-null object\n",
      "CONTRACTOR_ADDRESS2       1722 non-null object\n",
      "CONTRACTOR_CITY           7133 non-null object\n",
      "CONTRACTOR_STATE          6151 non-null object\n",
      "CONTRACTOR_ZIP            6954 non-null float64\n",
      "CONDITION_FOR_APPROVAL    2 non-null object\n",
      "site_location             6330 non-null object\n",
      "owner_location            6328 non-null object\n",
      "contractor_location       6152 non-null object\n",
      "geom                      41 non-null object\n",
      "dtypes: float64(6), int64(1), object(48)\n",
      "memory usage: 3.0+ MB\n"
     ]
    }
   ],
   "source": [
    "demolition_data.info()"
   ]
  },
  {
   "cell_type": "code",
   "execution_count": 11,
   "metadata": {
    "collapsed": false
   },
   "outputs": [
    {
     "data": {
      "text/plain": [
       "array(['Building Permit'], dtype=object)"
      ]
     },
     "execution_count": 11,
     "metadata": {},
     "output_type": "execute_result"
    }
   ],
   "source": [
    "demolition_data.CASE_DESCRIPTION.unique()"
   ]
  },
  {
   "cell_type": "code",
   "execution_count": 12,
   "metadata": {
    "collapsed": false
   },
   "outputs": [
    {
     "data": {
      "text/plain": [
       "array(['BLD'], dtype=object)"
      ]
     },
     "execution_count": 12,
     "metadata": {},
     "output_type": "execute_result"
    }
   ],
   "source": [
    "demolition_data.CASE_TYPE.unique()"
   ]
  },
  {
   "cell_type": "code",
   "execution_count": 13,
   "metadata": {
    "collapsed": false
   },
   "outputs": [
    {
     "data": {
      "text/plain": [
       "array([nan, 'Dismantle'], dtype=object)"
      ]
     },
     "execution_count": 13,
     "metadata": {},
     "output_type": "execute_result"
    }
   ],
   "source": [
    "demolition_data.PERMIT_DESCRIPTION.unique()"
   ]
  },
  {
   "cell_type": "code",
   "execution_count": 14,
   "metadata": {
    "collapsed": false
   },
   "outputs": [
    {
     "data": {
      "text/plain": [
       "array(['Dismantle', 'DISM'], dtype=object)"
      ]
     },
     "execution_count": 14,
     "metadata": {},
     "output_type": "execute_result"
    }
   ],
   "source": [
    "demolition_data.BLD_PERMIT_TYPE.unique()"
   ]
  },
  {
   "cell_type": "code",
   "execution_count": 15,
   "metadata": {
    "collapsed": true
   },
   "outputs": [],
   "source": [
    "def add_latlon(df, col):\n",
    "    \"\"\"Add latlon column to the df by extracting from col\"\"\"\n",
    "    df_ = df.copy()    \n",
    "    df_[col] = df_[col].fillna('')\n",
    "\n",
    "    geo_pat = re.compile('\\((.+), (.+)\\)')\n",
    "    df_['lat'] = df_[col].apply(lambda x: float(re.search(geo_pat, x).group(1)) if re.search(geo_pat, x) else np.nan)\n",
    "    df_['lon'] = df_[col].apply(lambda x: float(re.search(geo_pat, x).group(2)) if re.search(geo_pat, x) else np.nan)\n",
    "#     geo_pat = re.compile('\\((.+)\\)')\n",
    "#     df_['latlon'] = df_[col].apply(lambda x: re.search(geo_pat, x).group(1) if re.search(geo_pat, x) else np.nan)\n",
    "\n",
    "    return df_"
   ]
  },
  {
   "cell_type": "code",
   "execution_count": 16,
   "metadata": {
    "collapsed": true
   },
   "outputs": [],
   "source": [
    "from geopy.distance import distance\n",
    "def get_distance(A, B):\n",
    "    return distance((A[0], A[1]), (B[0], B[1])).meters"
   ]
  },
  {
   "cell_type": "code",
   "execution_count": 17,
   "metadata": {
    "collapsed": false
   },
   "outputs": [],
   "source": [
    "demolition_df = demolition_data.dropna(subset=['site_location'])\n",
    "demolition_df = add_latlon(demolition_df, 'site_location')"
   ]
  },
  {
   "cell_type": "code",
   "execution_count": 18,
   "metadata": {
    "collapsed": false
   },
   "outputs": [
    {
     "data": {
      "text/plain": [
       "0    42.394106\n",
       "1    42.395122\n",
       "2    42.403220\n",
       "3    42.446640\n",
       "4    42.276956\n",
       "Name: lat, dtype: float64"
      ]
     },
     "execution_count": 18,
     "metadata": {},
     "output_type": "execute_result"
    }
   ],
   "source": [
    "demolition_df.lat.head()"
   ]
  },
  {
   "cell_type": "code",
   "execution_count": 19,
   "metadata": {
    "collapsed": true
   },
   "outputs": [],
   "source": [
    "buildings_df = pd.read_csv(\"data/buildings.csv\", index_col='No')"
   ]
  },
  {
   "cell_type": "code",
   "execution_count": 75,
   "metadata": {
    "collapsed": false
   },
   "outputs": [],
   "source": [
    "# def get_buildings(lat, lon, r=20):\n",
    "#     \"\"\"Given lat, lon, return building No. from building_df.\n",
    "#     Building is defined as a circle of radius 20m\n",
    "#     \"\"\"\n",
    "#     try:\n",
    "#         dist = buildings_df.apply(lambda x: get_distance((x.lat, x.lon), (lat, lon)), axis=1)\n",
    "#         return dist[dist < r].index.to_list()\n",
    "#     except AttributeError:\n",
    "#         return ''"
   ]
  },
  {
   "cell_type": "markdown",
   "metadata": {},
   "source": [
    "### Use knn model for labeling new data\n",
    "row-wise calculation is too slow. knn uses tree structure and parallelization to speed up"
   ]
  },
  {
   "cell_type": "code",
   "execution_count": 20,
   "metadata": {
    "collapsed": true
   },
   "outputs": [],
   "source": [
    "from sklearn.neighbors import KNeighborsClassifier"
   ]
  },
  {
   "cell_type": "code",
   "execution_count": 21,
   "metadata": {
    "collapsed": false
   },
   "outputs": [],
   "source": [
    "model = KNeighborsClassifier(n_neighbors=1, algorithm='kd_tree', n_jobs=10)"
   ]
  },
  {
   "cell_type": "code",
   "execution_count": 22,
   "metadata": {
    "collapsed": false
   },
   "outputs": [
    {
     "data": {
      "text/plain": [
       "KNeighborsClassifier(algorithm='kd_tree', leaf_size=30, metric='minkowski',\n",
       "           metric_params=None, n_jobs=10, n_neighbors=1, p=2,\n",
       "           weights='uniform')"
      ]
     },
     "execution_count": 22,
     "metadata": {},
     "output_type": "execute_result"
    }
   ],
   "source": [
    "model.fit(buildings_df[['lat', 'lon']].values, buildings_df.index)"
   ]
  },
  {
   "cell_type": "code",
   "execution_count": 23,
   "metadata": {
    "collapsed": false
   },
   "outputs": [
    {
     "data": {
      "text/html": [
       "<div>\n",
       "<table border=\"1\" class=\"dataframe\">\n",
       "  <thead>\n",
       "    <tr style=\"text-align: right;\">\n",
       "      <th></th>\n",
       "      <th>lat</th>\n",
       "      <th>lon</th>\n",
       "    </tr>\n",
       "    <tr>\n",
       "      <th>No</th>\n",
       "      <th></th>\n",
       "      <th></th>\n",
       "    </tr>\n",
       "  </thead>\n",
       "  <tbody>\n",
       "    <tr>\n",
       "      <th>0</th>\n",
       "      <td>42.363186</td>\n",
       "      <td>-83.091669</td>\n",
       "    </tr>\n",
       "    <tr>\n",
       "      <th>1</th>\n",
       "      <td>42.429329</td>\n",
       "      <td>-83.220389</td>\n",
       "    </tr>\n",
       "    <tr>\n",
       "      <th>2</th>\n",
       "      <td>42.428929</td>\n",
       "      <td>-83.227529</td>\n",
       "    </tr>\n",
       "    <tr>\n",
       "      <th>3</th>\n",
       "      <td>42.441671</td>\n",
       "      <td>-83.144992</td>\n",
       "    </tr>\n",
       "    <tr>\n",
       "      <th>4</th>\n",
       "      <td>42.418294</td>\n",
       "      <td>-83.153599</td>\n",
       "    </tr>\n",
       "  </tbody>\n",
       "</table>\n",
       "</div>"
      ],
      "text/plain": [
       "          lat        lon\n",
       "No                      \n",
       "0   42.363186 -83.091669\n",
       "1   42.429329 -83.220389\n",
       "2   42.428929 -83.227529\n",
       "3   42.441671 -83.144992\n",
       "4   42.418294 -83.153599"
      ]
     },
     "execution_count": 23,
     "metadata": {},
     "output_type": "execute_result"
    }
   ],
   "source": [
    "buildings_df.head()"
   ]
  },
  {
   "cell_type": "code",
   "execution_count": 24,
   "metadata": {
    "collapsed": false
   },
   "outputs": [],
   "source": [
    "X = demolition_df[['lat', 'lon']].dropna()\n",
    "X['building_no'] = model.predict(X.values)"
   ]
  },
  {
   "cell_type": "code",
   "execution_count": 33,
   "metadata": {
    "collapsed": false
   },
   "outputs": [
    {
     "data": {
      "text/plain": [
       "4003"
      ]
     },
     "execution_count": 33,
     "metadata": {},
     "output_type": "execute_result"
    }
   ],
   "source": [
    "## total number of demolished buildings\n",
    "len(X.building_no.unique())"
   ]
  },
  {
   "cell_type": "code",
   "execution_count": 28,
   "metadata": {
    "collapsed": false
   },
   "outputs": [
    {
     "data": {
      "text/plain": [
       "True"
      ]
     },
     "execution_count": 28,
     "metadata": {},
     "output_type": "execute_result"
    }
   ],
   "source": [
    "1 in X.building_no"
   ]
  },
  {
   "cell_type": "code",
   "execution_count": 29,
   "metadata": {
    "collapsed": true
   },
   "outputs": [],
   "source": [
    "buildings_df['demolished'] = buildings_df.index.isin(X.building_no)"
   ]
  },
  {
   "cell_type": "code",
   "execution_count": 36,
   "metadata": {
    "collapsed": false
   },
   "outputs": [
    {
     "data": {
      "text/html": [
       "<div>\n",
       "<table border=\"1\" class=\"dataframe\">\n",
       "  <thead>\n",
       "    <tr style=\"text-align: right;\">\n",
       "      <th></th>\n",
       "      <th>lat</th>\n",
       "      <th>lon</th>\n",
       "      <th>demolished</th>\n",
       "    </tr>\n",
       "    <tr>\n",
       "      <th>No</th>\n",
       "      <th></th>\n",
       "      <th></th>\n",
       "      <th></th>\n",
       "    </tr>\n",
       "  </thead>\n",
       "  <tbody>\n",
       "    <tr>\n",
       "      <th>0</th>\n",
       "      <td>42.363186</td>\n",
       "      <td>-83.091669</td>\n",
       "      <td>False</td>\n",
       "    </tr>\n",
       "    <tr>\n",
       "      <th>1</th>\n",
       "      <td>42.429329</td>\n",
       "      <td>-83.220389</td>\n",
       "      <td>False</td>\n",
       "    </tr>\n",
       "    <tr>\n",
       "      <th>2</th>\n",
       "      <td>42.428929</td>\n",
       "      <td>-83.227529</td>\n",
       "      <td>False</td>\n",
       "    </tr>\n",
       "    <tr>\n",
       "      <th>3</th>\n",
       "      <td>42.441671</td>\n",
       "      <td>-83.144992</td>\n",
       "      <td>False</td>\n",
       "    </tr>\n",
       "    <tr>\n",
       "      <th>4</th>\n",
       "      <td>42.418294</td>\n",
       "      <td>-83.153599</td>\n",
       "      <td>False</td>\n",
       "    </tr>\n",
       "    <tr>\n",
       "      <th>5</th>\n",
       "      <td>42.420965</td>\n",
       "      <td>-83.153742</td>\n",
       "      <td>False</td>\n",
       "    </tr>\n",
       "    <tr>\n",
       "      <th>6</th>\n",
       "      <td>42.331681</td>\n",
       "      <td>-83.047996</td>\n",
       "      <td>True</td>\n",
       "    </tr>\n",
       "    <tr>\n",
       "      <th>7</th>\n",
       "      <td>42.427744</td>\n",
       "      <td>-83.144551</td>\n",
       "      <td>False</td>\n",
       "    </tr>\n",
       "    <tr>\n",
       "      <th>8</th>\n",
       "      <td>42.352897</td>\n",
       "      <td>-83.223485</td>\n",
       "      <td>False</td>\n",
       "    </tr>\n",
       "    <tr>\n",
       "      <th>9</th>\n",
       "      <td>42.355041</td>\n",
       "      <td>-83.226089</td>\n",
       "      <td>True</td>\n",
       "    </tr>\n",
       "  </tbody>\n",
       "</table>\n",
       "</div>"
      ],
      "text/plain": [
       "          lat        lon demolished\n",
       "No                                 \n",
       "0   42.363186 -83.091669      False\n",
       "1   42.429329 -83.220389      False\n",
       "2   42.428929 -83.227529      False\n",
       "3   42.441671 -83.144992      False\n",
       "4   42.418294 -83.153599      False\n",
       "5   42.420965 -83.153742      False\n",
       "6   42.331681 -83.047996       True\n",
       "7   42.427744 -83.144551      False\n",
       "8   42.352897 -83.223485      False\n",
       "9   42.355041 -83.226089       True"
      ]
     },
     "execution_count": 36,
     "metadata": {},
     "output_type": "execute_result"
    }
   ],
   "source": [
    "buildings_df.head(10)"
   ]
  },
  {
   "cell_type": "code",
   "execution_count": 34,
   "metadata": {
    "collapsed": false
   },
   "outputs": [
    {
     "data": {
      "text/plain": [
       "False    36266\n",
       "True      4003\n",
       "Name: demolished, dtype: int64"
      ]
     },
     "execution_count": 34,
     "metadata": {},
     "output_type": "execute_result"
    }
   ],
   "source": [
    "buildings_df.demolished.value_counts()"
   ]
  },
  {
   "cell_type": "code",
   "execution_count": 39,
   "metadata": {
    "collapsed": false
   },
   "outputs": [
    {
     "data": {
      "text/html": [
       "<div>\n",
       "<table border=\"1\" class=\"dataframe\">\n",
       "  <thead>\n",
       "    <tr style=\"text-align: right;\">\n",
       "      <th></th>\n",
       "      <th>lat</th>\n",
       "      <th>lon</th>\n",
       "      <th>demolished</th>\n",
       "    </tr>\n",
       "    <tr>\n",
       "      <th>No</th>\n",
       "      <th></th>\n",
       "      <th></th>\n",
       "      <th></th>\n",
       "    </tr>\n",
       "  </thead>\n",
       "  <tbody>\n",
       "    <tr>\n",
       "      <th>12636</th>\n",
       "      <td>42.408171</td>\n",
       "      <td>-82.951760</td>\n",
       "      <td>False</td>\n",
       "    </tr>\n",
       "    <tr>\n",
       "      <th>18964</th>\n",
       "      <td>42.412497</td>\n",
       "      <td>-82.939351</td>\n",
       "      <td>False</td>\n",
       "    </tr>\n",
       "    <tr>\n",
       "      <th>11041</th>\n",
       "      <td>42.408625</td>\n",
       "      <td>-83.066891</td>\n",
       "      <td>False</td>\n",
       "    </tr>\n",
       "    <tr>\n",
       "      <th>15381</th>\n",
       "      <td>42.433239</td>\n",
       "      <td>-83.243318</td>\n",
       "      <td>False</td>\n",
       "    </tr>\n",
       "    <tr>\n",
       "      <th>17577</th>\n",
       "      <td>42.391961</td>\n",
       "      <td>-83.127654</td>\n",
       "      <td>False</td>\n",
       "    </tr>\n",
       "    <tr>\n",
       "      <th>16843</th>\n",
       "      <td>42.389300</td>\n",
       "      <td>-83.166612</td>\n",
       "      <td>False</td>\n",
       "    </tr>\n",
       "    <tr>\n",
       "      <th>37289</th>\n",
       "      <td>42.415851</td>\n",
       "      <td>-83.233864</td>\n",
       "      <td>False</td>\n",
       "    </tr>\n",
       "    <tr>\n",
       "      <th>27733</th>\n",
       "      <td>42.401849</td>\n",
       "      <td>-83.146057</td>\n",
       "      <td>False</td>\n",
       "    </tr>\n",
       "    <tr>\n",
       "      <th>21841</th>\n",
       "      <td>42.367072</td>\n",
       "      <td>-83.192904</td>\n",
       "      <td>False</td>\n",
       "    </tr>\n",
       "    <tr>\n",
       "      <th>8666</th>\n",
       "      <td>42.400893</td>\n",
       "      <td>-82.986721</td>\n",
       "      <td>False</td>\n",
       "    </tr>\n",
       "  </tbody>\n",
       "</table>\n",
       "</div>"
      ],
      "text/plain": [
       "             lat        lon demolished\n",
       "No                                    \n",
       "12636  42.408171 -82.951760      False\n",
       "18964  42.412497 -82.939351      False\n",
       "11041  42.408625 -83.066891      False\n",
       "15381  42.433239 -83.243318      False\n",
       "17577  42.391961 -83.127654      False\n",
       "16843  42.389300 -83.166612      False\n",
       "37289  42.415851 -83.233864      False\n",
       "27733  42.401849 -83.146057      False\n",
       "21841  42.367072 -83.192904      False\n",
       "8666   42.400893 -82.986721      False"
      ]
     },
     "execution_count": 39,
     "metadata": {},
     "output_type": "execute_result"
    }
   ],
   "source": [
    "buildings_df[buildings_df.demolished == False].sample(10)"
   ]
  },
  {
   "cell_type": "code",
   "execution_count": 40,
   "metadata": {
    "collapsed": true
   },
   "outputs": [],
   "source": [
    "train_data = pd.concat([buildings_df[buildings_df.demolished == False].sample(4003),\n",
    "                        buildings_df[buildings_df.demolished == True]])"
   ]
  },
  {
   "cell_type": "markdown",
   "metadata": {},
   "source": [
    "### Try simplest model: use single feature - No. of blight violations"
   ]
  },
  {
   "cell_type": "code",
   "execution_count": 42,
   "metadata": {
    "collapsed": false
   },
   "outputs": [
    {
     "name": "stderr",
     "output_type": "stream",
     "text": [
      "/usr/local/lib/python2.7/dist-packages/IPython/core/interactiveshell.py:2902: DtypeWarning: Columns (6,10,11,12) have mixed types. Specify dtype option on import or set low_memory=False.\n",
      "  interactivity=interactivity, compiler=compiler, result=result)\n"
     ]
    },
    {
     "data": {
      "text/html": [
       "<div>\n",
       "<table border=\"1\" class=\"dataframe\">\n",
       "  <thead>\n",
       "    <tr style=\"text-align: right;\">\n",
       "      <th></th>\n",
       "      <th>TicketID</th>\n",
       "      <th>TicketNumber</th>\n",
       "      <th>AgencyName</th>\n",
       "      <th>ViolName</th>\n",
       "      <th>ViolationStreetNumber</th>\n",
       "      <th>ViolationStreetName</th>\n",
       "      <th>MailingStreetNumber</th>\n",
       "      <th>MailingStreetName</th>\n",
       "      <th>MailingCity</th>\n",
       "      <th>MailingState</th>\n",
       "      <th>...</th>\n",
       "      <th>AdminFee</th>\n",
       "      <th>LateFee</th>\n",
       "      <th>StateFee</th>\n",
       "      <th>CleanUpCost</th>\n",
       "      <th>JudgmentAmt</th>\n",
       "      <th>PaymentStatus</th>\n",
       "      <th>Void</th>\n",
       "      <th>ViolationCategory</th>\n",
       "      <th>ViolationAddress</th>\n",
       "      <th>MailingAddress</th>\n",
       "    </tr>\n",
       "  </thead>\n",
       "  <tbody>\n",
       "    <tr>\n",
       "      <th>0</th>\n",
       "      <td>26288</td>\n",
       "      <td>05000001DAH</td>\n",
       "      <td>Department of Public Works</td>\n",
       "      <td>Group, LLC, Grand Holding</td>\n",
       "      <td>2566</td>\n",
       "      <td>GRAND BLVD</td>\n",
       "      <td>743</td>\n",
       "      <td>Beaubien, Ste. 201</td>\n",
       "      <td>Detroit</td>\n",
       "      <td>MI</td>\n",
       "      <td>...</td>\n",
       "      <td>$20.00</td>\n",
       "      <td>$150.00</td>\n",
       "      <td>$10.00</td>\n",
       "      <td>$0.00</td>\n",
       "      <td>$1680.00</td>\n",
       "      <td>PAID IN FULL</td>\n",
       "      <td>0.0</td>\n",
       "      <td>0</td>\n",
       "      <td>2566 GRAND BLVD\\nDetroit, MI\\n(42.363182370000...</td>\n",
       "      <td>743 Beaubien\\nDetroit, MI 48226\\n(42.333730630...</td>\n",
       "    </tr>\n",
       "    <tr>\n",
       "      <th>1</th>\n",
       "      <td>19800</td>\n",
       "      <td>05000025DAH</td>\n",
       "      <td>Department of Public Works</td>\n",
       "      <td>JACKSON, RAECHELLE</td>\n",
       "      <td>19014</td>\n",
       "      <td>ASHTON</td>\n",
       "      <td>20501</td>\n",
       "      <td>HEYDEN</td>\n",
       "      <td>DETROIT</td>\n",
       "      <td>MI</td>\n",
       "      <td>...</td>\n",
       "      <td>$20.00</td>\n",
       "      <td>$10.00</td>\n",
       "      <td>$10.00</td>\n",
       "      <td>$0.00</td>\n",
       "      <td>$140.00</td>\n",
       "      <td>NO PAYMENT APPLIED</td>\n",
       "      <td>0.0</td>\n",
       "      <td>0</td>\n",
       "      <td>19014 ASHTON\\nDetroit, MI\\n(42.429390762000025...</td>\n",
       "      <td>20501 HEYDEN\\nDETROIT, MI 48219\\n(42.442177633...</td>\n",
       "    </tr>\n",
       "    <tr>\n",
       "      <th>2</th>\n",
       "      <td>19804</td>\n",
       "      <td>05000026DAH</td>\n",
       "      <td>Department of Public Works</td>\n",
       "      <td>TALTON, CAROL ANN</td>\n",
       "      <td>18735</td>\n",
       "      <td>STAHELIN</td>\n",
       "      <td>18735</td>\n",
       "      <td>STAHELI N</td>\n",
       "      <td>DETROIT</td>\n",
       "      <td>MI</td>\n",
       "      <td>...</td>\n",
       "      <td>$20.00</td>\n",
       "      <td>$10.00</td>\n",
       "      <td>$10.00</td>\n",
       "      <td>$0.00</td>\n",
       "      <td>$140.00</td>\n",
       "      <td>PAID IN FULL</td>\n",
       "      <td>0.0</td>\n",
       "      <td>0</td>\n",
       "      <td>18735 STAHELIN\\nDetroit, MI\\n(42.4287074590000...</td>\n",
       "      <td>18735 STAHELI N\\nDETROIT, MI 48219\\n(42.428707...</td>\n",
       "    </tr>\n",
       "    <tr>\n",
       "      <th>3</th>\n",
       "      <td>20208</td>\n",
       "      <td>05000027DAH</td>\n",
       "      <td>Department of Public Works</td>\n",
       "      <td>BONNER, DARRYL E.</td>\n",
       "      <td>20125</td>\n",
       "      <td>MONICA</td>\n",
       "      <td>25335</td>\n",
       "      <td>PEEKSKILL</td>\n",
       "      <td>SOUTHFIELD</td>\n",
       "      <td>MI</td>\n",
       "      <td>...</td>\n",
       "      <td>$20.00</td>\n",
       "      <td>$10.00</td>\n",
       "      <td>$10.00</td>\n",
       "      <td>$0.00</td>\n",
       "      <td>$140.00</td>\n",
       "      <td>NO PAYMENT APPLIED</td>\n",
       "      <td>0.0</td>\n",
       "      <td>0</td>\n",
       "      <td>20125 MONICA\\nDetroit, MI\\n(42.44169828400004,...</td>\n",
       "      <td>25335 PEEKSKILL\\nSOUTHFIELD, MI 48043\\n(42.475...</td>\n",
       "    </tr>\n",
       "    <tr>\n",
       "      <th>4</th>\n",
       "      <td>20211</td>\n",
       "      <td>05000028DAH</td>\n",
       "      <td>Department of Public Works</td>\n",
       "      <td>GREGORY, JAMES LEE</td>\n",
       "      <td>17397</td>\n",
       "      <td>PRAIRIE</td>\n",
       "      <td>17397</td>\n",
       "      <td>PRAIRIE</td>\n",
       "      <td>DETROIT</td>\n",
       "      <td>MI</td>\n",
       "      <td>...</td>\n",
       "      <td>$20.00</td>\n",
       "      <td>$10.00</td>\n",
       "      <td>$10.00</td>\n",
       "      <td>$0.00</td>\n",
       "      <td>$140.00</td>\n",
       "      <td>PAID IN FULL</td>\n",
       "      <td>0.0</td>\n",
       "      <td>0</td>\n",
       "      <td>17397 PRAIRIE\\nDetroit, MI\\n(42.42031769500005...</td>\n",
       "      <td>17397 PRAIRIE\\nDETROIT, MI 48221\\n(42.42031769...</td>\n",
       "    </tr>\n",
       "  </tbody>\n",
       "</table>\n",
       "<p>5 rows × 31 columns</p>\n",
       "</div>"
      ],
      "text/plain": [
       "   TicketID TicketNumber                  AgencyName  \\\n",
       "0     26288  05000001DAH  Department of Public Works   \n",
       "1     19800  05000025DAH  Department of Public Works   \n",
       "2     19804  05000026DAH  Department of Public Works   \n",
       "3     20208  05000027DAH  Department of Public Works   \n",
       "4     20211  05000028DAH  Department of Public Works   \n",
       "\n",
       "                    ViolName  ViolationStreetNumber ViolationStreetName  \\\n",
       "0  Group, LLC, Grand Holding                   2566    GRAND BLVD         \n",
       "1        JACKSON, RAECHELLE                   19014    ASHTON             \n",
       "2          TALTON, CAROL ANN                  18735    STAHELIN           \n",
       "3          BONNER, DARRYL E.                  20125    MONICA             \n",
       "4         GREGORY, JAMES LEE                  17397    PRAIRIE            \n",
       "\n",
       "  MailingStreetNumber   MailingStreetName MailingCity MailingState  \\\n",
       "0                 743  Beaubien, Ste. 201     Detroit           MI   \n",
       "1               20501              HEYDEN     DETROIT           MI   \n",
       "2               18735           STAHELI N     DETROIT           MI   \n",
       "3               25335           PEEKSKILL  SOUTHFIELD           MI   \n",
       "4               17397             PRAIRIE     DETROIT           MI   \n",
       "\n",
       "                         ...                         AdminFee  LateFee  \\\n",
       "0                        ...                           $20.00  $150.00   \n",
       "1                        ...                           $20.00   $10.00   \n",
       "2                        ...                           $20.00   $10.00   \n",
       "3                        ...                           $20.00   $10.00   \n",
       "4                        ...                           $20.00   $10.00   \n",
       "\n",
       "  StateFee CleanUpCost JudgmentAmt       PaymentStatus Void ViolationCategory  \\\n",
       "0   $10.00       $0.00    $1680.00        PAID IN FULL  0.0                 0   \n",
       "1   $10.00       $0.00     $140.00  NO PAYMENT APPLIED  0.0                 0   \n",
       "2   $10.00       $0.00     $140.00        PAID IN FULL  0.0                 0   \n",
       "3   $10.00       $0.00     $140.00  NO PAYMENT APPLIED  0.0                 0   \n",
       "4   $10.00       $0.00     $140.00        PAID IN FULL  0.0                 0   \n",
       "\n",
       "                                    ViolationAddress  \\\n",
       "0  2566 GRAND BLVD\\nDetroit, MI\\n(42.363182370000...   \n",
       "1  19014 ASHTON\\nDetroit, MI\\n(42.429390762000025...   \n",
       "2  18735 STAHELIN\\nDetroit, MI\\n(42.4287074590000...   \n",
       "3  20125 MONICA\\nDetroit, MI\\n(42.44169828400004,...   \n",
       "4  17397 PRAIRIE\\nDetroit, MI\\n(42.42031769500005...   \n",
       "\n",
       "                                      MailingAddress  \n",
       "0  743 Beaubien\\nDetroit, MI 48226\\n(42.333730630...  \n",
       "1  20501 HEYDEN\\nDETROIT, MI 48219\\n(42.442177633...  \n",
       "2  18735 STAHELI N\\nDETROIT, MI 48219\\n(42.428707...  \n",
       "3  25335 PEEKSKILL\\nSOUTHFIELD, MI 48043\\n(42.475...  \n",
       "4  17397 PRAIRIE\\nDETROIT, MI 48221\\n(42.42031769...  \n",
       "\n",
       "[5 rows x 31 columns]"
      ]
     },
     "execution_count": 42,
     "metadata": {},
     "output_type": "execute_result"
    }
   ],
   "source": [
    "incident_data = pd.read_csv(\"data/_97bd1c1e5df9537bb13398c9898deed7_detroit-blight-violations.csv\")\n",
    "incident_data.head()"
   ]
  },
  {
   "cell_type": "code",
   "execution_count": 44,
   "metadata": {
    "collapsed": true
   },
   "outputs": [],
   "source": [
    "inci_df = incident_data.copy()\n",
    "geo_pat = re.compile('\\((.+), (.+)\\)')\n",
    "inci_df['lat'] = inci_df.ViolationAddress.apply(lambda x: float(re.search(geo_pat, x).group(1)))\n",
    "inci_df['lon'] = inci_df.ViolationAddress.apply(lambda x: float(re.search(geo_pat, x).group(2)))"
   ]
  },
  {
   "cell_type": "markdown",
   "metadata": {},
   "source": [
    "#### build feature:\n",
    "- number of blight violations for each building"
   ]
  },
  {
   "cell_type": "code",
   "execution_count": 47,
   "metadata": {
    "collapsed": false
   },
   "outputs": [],
   "source": [
    "inci_df['building_no'] = model.predict(inci_df[['lat', 'lon']])"
   ]
  },
  {
   "cell_type": "code",
   "execution_count": 48,
   "metadata": {
    "collapsed": true
   },
   "outputs": [],
   "source": [
    "building_violation_counts = inci_df.building_no.value_counts()\n"
   ]
  },
  {
   "cell_type": "code",
   "execution_count": 51,
   "metadata": {
    "collapsed": false
   },
   "outputs": [
    {
     "data": {
      "text/plain": [
       "6        21114\n",
       "101       4467\n",
       "90        2004\n",
       "412       1713\n",
       "606       1372\n",
       "728       1142\n",
       "233        756\n",
       "442        742\n",
       "1360       639\n",
       "1407       626\n",
       "163        496\n",
       "683        414\n",
       "1369       326\n",
       "2147       306\n",
       "998        210\n",
       "85         205\n",
       "27371      184\n",
       "1120       154\n",
       "4092       150\n",
       "8223       148\n",
       "921        148\n",
       "20         147\n",
       "307        146\n",
       "1765       123\n",
       "3819       111\n",
       "4970       108\n",
       "1958       105\n",
       "430        104\n",
       "980        103\n",
       "460        102\n",
       "         ...  \n",
       "36978        1\n",
       "34929        1\n",
       "32880        1\n",
       "32391        1\n",
       "34456        1\n",
       "40091        1\n",
       "31784        1\n",
       "36505        1\n",
       "38554        1\n",
       "31221        1\n",
       "31706        1\n",
       "32647        1\n",
       "39027        1\n",
       "35894        1\n",
       "33847        1\n",
       "36249        1\n",
       "34200        1\n",
       "35008        1\n",
       "33787        1\n",
       "32851        1\n",
       "35307        1\n",
       "33258        1\n",
       "39882        1\n",
       "32040        1\n",
       "32135        1\n",
       "34898        1\n",
       "36945        1\n",
       "38992        1\n",
       "39640        1\n",
       "36761        1\n",
       "Name: building_no, dtype: int64"
      ]
     },
     "execution_count": 51,
     "metadata": {},
     "output_type": "execute_result"
    }
   ],
   "source": [
    "building_violation_counts"
   ]
  },
  {
   "cell_type": "code",
   "execution_count": 56,
   "metadata": {
    "collapsed": true
   },
   "outputs": [],
   "source": [
    "train_data['violation_counts'] = building_violation_counts[train_data.index]"
   ]
  },
  {
   "cell_type": "code",
   "execution_count": 64,
   "metadata": {
    "collapsed": false
   },
   "outputs": [
    {
     "data": {
      "text/html": [
       "<div>\n",
       "<table border=\"1\" class=\"dataframe\">\n",
       "  <thead>\n",
       "    <tr style=\"text-align: right;\">\n",
       "      <th></th>\n",
       "      <th>lat</th>\n",
       "      <th>lon</th>\n",
       "      <th>demolished</th>\n",
       "      <th>violation_counts</th>\n",
       "    </tr>\n",
       "    <tr>\n",
       "      <th>No</th>\n",
       "      <th></th>\n",
       "      <th></th>\n",
       "      <th></th>\n",
       "      <th></th>\n",
       "    </tr>\n",
       "  </thead>\n",
       "  <tbody>\n",
       "    <tr>\n",
       "      <th>22441</th>\n",
       "      <td>42.364436</td>\n",
       "      <td>-83.015968</td>\n",
       "      <td>False</td>\n",
       "      <td>3</td>\n",
       "    </tr>\n",
       "    <tr>\n",
       "      <th>29255</th>\n",
       "      <td>42.393122</td>\n",
       "      <td>-82.942291</td>\n",
       "      <td>False</td>\n",
       "      <td>4</td>\n",
       "    </tr>\n",
       "    <tr>\n",
       "      <th>29728</th>\n",
       "      <td>42.429585</td>\n",
       "      <td>-83.205227</td>\n",
       "      <td>False</td>\n",
       "      <td>5</td>\n",
       "    </tr>\n",
       "    <tr>\n",
       "      <th>30951</th>\n",
       "      <td>42.293303</td>\n",
       "      <td>-83.137300</td>\n",
       "      <td>False</td>\n",
       "      <td>3</td>\n",
       "    </tr>\n",
       "    <tr>\n",
       "      <th>7817</th>\n",
       "      <td>42.412906</td>\n",
       "      <td>-83.122895</td>\n",
       "      <td>False</td>\n",
       "      <td>6</td>\n",
       "    </tr>\n",
       "  </tbody>\n",
       "</table>\n",
       "</div>"
      ],
      "text/plain": [
       "             lat        lon demolished  violation_counts\n",
       "No                                                      \n",
       "22441  42.364436 -83.015968      False                 3\n",
       "29255  42.393122 -82.942291      False                 4\n",
       "29728  42.429585 -83.205227      False                 5\n",
       "30951  42.293303 -83.137300      False                 3\n",
       "7817   42.412906 -83.122895      False                 6"
      ]
     },
     "execution_count": 64,
     "metadata": {},
     "output_type": "execute_result"
    }
   ],
   "source": [
    "train_data.head()"
   ]
  },
  {
   "cell_type": "code",
   "execution_count": 57,
   "metadata": {
    "collapsed": false
   },
   "outputs": [
    {
     "data": {
      "text/html": [
       "<div>\n",
       "<table border=\"1\" class=\"dataframe\">\n",
       "  <thead>\n",
       "    <tr style=\"text-align: right;\">\n",
       "      <th></th>\n",
       "      <th>lat</th>\n",
       "      <th>lon</th>\n",
       "      <th>violation_counts</th>\n",
       "    </tr>\n",
       "    <tr>\n",
       "      <th>demolished</th>\n",
       "      <th></th>\n",
       "      <th></th>\n",
       "      <th></th>\n",
       "    </tr>\n",
       "  </thead>\n",
       "  <tbody>\n",
       "    <tr>\n",
       "      <th>False</th>\n",
       "      <td>42.390183</td>\n",
       "      <td>-83.111024</td>\n",
       "      <td>6.378966</td>\n",
       "    </tr>\n",
       "    <tr>\n",
       "      <th>True</th>\n",
       "      <td>42.384212</td>\n",
       "      <td>-83.090413</td>\n",
       "      <td>18.223582</td>\n",
       "    </tr>\n",
       "  </tbody>\n",
       "</table>\n",
       "</div>"
      ],
      "text/plain": [
       "                  lat        lon  violation_counts\n",
       "demolished                                        \n",
       "False       42.390183 -83.111024          6.378966\n",
       "True        42.384212 -83.090413         18.223582"
      ]
     },
     "execution_count": 57,
     "metadata": {},
     "output_type": "execute_result"
    }
   ],
   "source": [
    "train_data.groupby('demolished').mean()"
   ]
  },
  {
   "cell_type": "code",
   "execution_count": 75,
   "metadata": {
    "collapsed": false
   },
   "outputs": [
    {
     "data": {
      "text/html": [
       "<div>\n",
       "<table border=\"1\" class=\"dataframe\">\n",
       "  <thead>\n",
       "    <tr style=\"text-align: right;\">\n",
       "      <th></th>\n",
       "      <th>lat</th>\n",
       "      <th>lon</th>\n",
       "      <th>demolished</th>\n",
       "      <th>violation_counts</th>\n",
       "    </tr>\n",
       "    <tr>\n",
       "      <th>No</th>\n",
       "      <th></th>\n",
       "      <th></th>\n",
       "      <th></th>\n",
       "      <th></th>\n",
       "    </tr>\n",
       "  </thead>\n",
       "  <tbody>\n",
       "    <tr>\n",
       "      <th>6</th>\n",
       "      <td>42.331681</td>\n",
       "      <td>-83.047996</td>\n",
       "      <td>True</td>\n",
       "      <td>21114</td>\n",
       "    </tr>\n",
       "    <tr>\n",
       "      <th>101</th>\n",
       "      <td>42.334382</td>\n",
       "      <td>-83.216038</td>\n",
       "      <td>True</td>\n",
       "      <td>4467</td>\n",
       "    </tr>\n",
       "    <tr>\n",
       "      <th>90</th>\n",
       "      <td>42.415907</td>\n",
       "      <td>-83.121307</td>\n",
       "      <td>True</td>\n",
       "      <td>2004</td>\n",
       "    </tr>\n",
       "    <tr>\n",
       "      <th>412</th>\n",
       "      <td>42.345279</td>\n",
       "      <td>-83.216524</td>\n",
       "      <td>True</td>\n",
       "      <td>1713</td>\n",
       "    </tr>\n",
       "    <tr>\n",
       "      <th>728</th>\n",
       "      <td>42.353227</td>\n",
       "      <td>-83.085875</td>\n",
       "      <td>True</td>\n",
       "      <td>1142</td>\n",
       "    </tr>\n",
       "    <tr>\n",
       "      <th>233</th>\n",
       "      <td>42.389492</td>\n",
       "      <td>-83.009242</td>\n",
       "      <td>True</td>\n",
       "      <td>756</td>\n",
       "    </tr>\n",
       "    <tr>\n",
       "      <th>442</th>\n",
       "      <td>42.375073</td>\n",
       "      <td>-83.114547</td>\n",
       "      <td>True</td>\n",
       "      <td>742</td>\n",
       "    </tr>\n",
       "    <tr>\n",
       "      <th>1360</th>\n",
       "      <td>42.328933</td>\n",
       "      <td>-83.225472</td>\n",
       "      <td>True</td>\n",
       "      <td>639</td>\n",
       "    </tr>\n",
       "    <tr>\n",
       "      <th>1407</th>\n",
       "      <td>42.332503</td>\n",
       "      <td>-83.049754</td>\n",
       "      <td>True</td>\n",
       "      <td>626</td>\n",
       "    </tr>\n",
       "    <tr>\n",
       "      <th>163</th>\n",
       "      <td>42.348796</td>\n",
       "      <td>-83.110137</td>\n",
       "      <td>True</td>\n",
       "      <td>496</td>\n",
       "    </tr>\n",
       "    <tr>\n",
       "      <th>85</th>\n",
       "      <td>42.305387</td>\n",
       "      <td>-83.107297</td>\n",
       "      <td>True</td>\n",
       "      <td>205</td>\n",
       "    </tr>\n",
       "    <tr>\n",
       "      <th>27371</th>\n",
       "      <td>42.330731</td>\n",
       "      <td>-83.131536</td>\n",
       "      <td>False</td>\n",
       "      <td>184</td>\n",
       "    </tr>\n",
       "    <tr>\n",
       "      <th>8223</th>\n",
       "      <td>42.347850</td>\n",
       "      <td>-83.117647</td>\n",
       "      <td>True</td>\n",
       "      <td>148</td>\n",
       "    </tr>\n",
       "    <tr>\n",
       "      <th>20</th>\n",
       "      <td>42.301462</td>\n",
       "      <td>-83.112361</td>\n",
       "      <td>True</td>\n",
       "      <td>147</td>\n",
       "    </tr>\n",
       "    <tr>\n",
       "      <th>307</th>\n",
       "      <td>42.369786</td>\n",
       "      <td>-83.216326</td>\n",
       "      <td>True</td>\n",
       "      <td>146</td>\n",
       "    </tr>\n",
       "    <tr>\n",
       "      <th>1765</th>\n",
       "      <td>42.410730</td>\n",
       "      <td>-83.179574</td>\n",
       "      <td>False</td>\n",
       "      <td>123</td>\n",
       "    </tr>\n",
       "    <tr>\n",
       "      <th>3819</th>\n",
       "      <td>42.409349</td>\n",
       "      <td>-82.954600</td>\n",
       "      <td>True</td>\n",
       "      <td>111</td>\n",
       "    </tr>\n",
       "    <tr>\n",
       "      <th>460</th>\n",
       "      <td>42.418064</td>\n",
       "      <td>-83.160371</td>\n",
       "      <td>True</td>\n",
       "      <td>102</td>\n",
       "    </tr>\n",
       "    <tr>\n",
       "      <th>2776</th>\n",
       "      <td>42.396309</td>\n",
       "      <td>-83.115936</td>\n",
       "      <td>True</td>\n",
       "      <td>96</td>\n",
       "    </tr>\n",
       "    <tr>\n",
       "      <th>2229</th>\n",
       "      <td>42.430542</td>\n",
       "      <td>-83.108051</td>\n",
       "      <td>True</td>\n",
       "      <td>95</td>\n",
       "    </tr>\n",
       "    <tr>\n",
       "      <th>590</th>\n",
       "      <td>42.350572</td>\n",
       "      <td>-83.144112</td>\n",
       "      <td>False</td>\n",
       "      <td>88</td>\n",
       "    </tr>\n",
       "    <tr>\n",
       "      <th>9282</th>\n",
       "      <td>42.431999</td>\n",
       "      <td>-83.074927</td>\n",
       "      <td>True</td>\n",
       "      <td>86</td>\n",
       "    </tr>\n",
       "    <tr>\n",
       "      <th>1063</th>\n",
       "      <td>42.421883</td>\n",
       "      <td>-83.030948</td>\n",
       "      <td>True</td>\n",
       "      <td>85</td>\n",
       "    </tr>\n",
       "    <tr>\n",
       "      <th>8005</th>\n",
       "      <td>42.441129</td>\n",
       "      <td>-82.990113</td>\n",
       "      <td>True</td>\n",
       "      <td>82</td>\n",
       "    </tr>\n",
       "    <tr>\n",
       "      <th>3989</th>\n",
       "      <td>42.435728</td>\n",
       "      <td>-83.005791</td>\n",
       "      <td>True</td>\n",
       "      <td>81</td>\n",
       "    </tr>\n",
       "    <tr>\n",
       "      <th>3144</th>\n",
       "      <td>42.348586</td>\n",
       "      <td>-83.214973</td>\n",
       "      <td>True</td>\n",
       "      <td>81</td>\n",
       "    </tr>\n",
       "    <tr>\n",
       "      <th>1176</th>\n",
       "      <td>42.353337</td>\n",
       "      <td>-83.221146</td>\n",
       "      <td>True</td>\n",
       "      <td>80</td>\n",
       "    </tr>\n",
       "    <tr>\n",
       "      <th>2596</th>\n",
       "      <td>42.279263</td>\n",
       "      <td>-83.140909</td>\n",
       "      <td>True</td>\n",
       "      <td>76</td>\n",
       "    </tr>\n",
       "    <tr>\n",
       "      <th>6209</th>\n",
       "      <td>42.408987</td>\n",
       "      <td>-83.132581</td>\n",
       "      <td>True</td>\n",
       "      <td>74</td>\n",
       "    </tr>\n",
       "    <tr>\n",
       "      <th>999</th>\n",
       "      <td>42.334904</td>\n",
       "      <td>-83.045987</td>\n",
       "      <td>False</td>\n",
       "      <td>73</td>\n",
       "    </tr>\n",
       "    <tr>\n",
       "      <th>...</th>\n",
       "      <td>...</td>\n",
       "      <td>...</td>\n",
       "      <td>...</td>\n",
       "      <td>...</td>\n",
       "    </tr>\n",
       "    <tr>\n",
       "      <th>36696</th>\n",
       "      <td>42.432592</td>\n",
       "      <td>-83.113724</td>\n",
       "      <td>False</td>\n",
       "      <td>1</td>\n",
       "    </tr>\n",
       "    <tr>\n",
       "      <th>38020</th>\n",
       "      <td>42.428384</td>\n",
       "      <td>-82.933261</td>\n",
       "      <td>False</td>\n",
       "      <td>1</td>\n",
       "    </tr>\n",
       "    <tr>\n",
       "      <th>34917</th>\n",
       "      <td>42.434018</td>\n",
       "      <td>-83.169747</td>\n",
       "      <td>False</td>\n",
       "      <td>1</td>\n",
       "    </tr>\n",
       "    <tr>\n",
       "      <th>36139</th>\n",
       "      <td>42.390030</td>\n",
       "      <td>-83.079125</td>\n",
       "      <td>False</td>\n",
       "      <td>1</td>\n",
       "    </tr>\n",
       "    <tr>\n",
       "      <th>32577</th>\n",
       "      <td>42.386502</td>\n",
       "      <td>-82.958328</td>\n",
       "      <td>False</td>\n",
       "      <td>1</td>\n",
       "    </tr>\n",
       "    <tr>\n",
       "      <th>31365</th>\n",
       "      <td>42.427091</td>\n",
       "      <td>-83.082574</td>\n",
       "      <td>False</td>\n",
       "      <td>1</td>\n",
       "    </tr>\n",
       "    <tr>\n",
       "      <th>39985</th>\n",
       "      <td>42.439028</td>\n",
       "      <td>-83.026488</td>\n",
       "      <td>False</td>\n",
       "      <td>1</td>\n",
       "    </tr>\n",
       "    <tr>\n",
       "      <th>31542</th>\n",
       "      <td>42.436912</td>\n",
       "      <td>-82.975220</td>\n",
       "      <td>False</td>\n",
       "      <td>1</td>\n",
       "    </tr>\n",
       "    <tr>\n",
       "      <th>37976</th>\n",
       "      <td>42.399588</td>\n",
       "      <td>-83.207798</td>\n",
       "      <td>False</td>\n",
       "      <td>1</td>\n",
       "    </tr>\n",
       "    <tr>\n",
       "      <th>34271</th>\n",
       "      <td>42.439941</td>\n",
       "      <td>-83.179664</td>\n",
       "      <td>False</td>\n",
       "      <td>1</td>\n",
       "    </tr>\n",
       "    <tr>\n",
       "      <th>38530</th>\n",
       "      <td>42.437819</td>\n",
       "      <td>-83.144908</td>\n",
       "      <td>False</td>\n",
       "      <td>1</td>\n",
       "    </tr>\n",
       "    <tr>\n",
       "      <th>38276</th>\n",
       "      <td>42.367222</td>\n",
       "      <td>-83.195073</td>\n",
       "      <td>False</td>\n",
       "      <td>1</td>\n",
       "    </tr>\n",
       "    <tr>\n",
       "      <th>38928</th>\n",
       "      <td>42.390298</td>\n",
       "      <td>-83.000653</td>\n",
       "      <td>False</td>\n",
       "      <td>1</td>\n",
       "    </tr>\n",
       "    <tr>\n",
       "      <th>35692</th>\n",
       "      <td>42.434982</td>\n",
       "      <td>-83.148470</td>\n",
       "      <td>False</td>\n",
       "      <td>1</td>\n",
       "    </tr>\n",
       "    <tr>\n",
       "      <th>34648</th>\n",
       "      <td>42.438629</td>\n",
       "      <td>-83.119364</td>\n",
       "      <td>False</td>\n",
       "      <td>1</td>\n",
       "    </tr>\n",
       "    <tr>\n",
       "      <th>33876</th>\n",
       "      <td>42.431057</td>\n",
       "      <td>-83.138688</td>\n",
       "      <td>False</td>\n",
       "      <td>1</td>\n",
       "    </tr>\n",
       "    <tr>\n",
       "      <th>31086</th>\n",
       "      <td>42.442072</td>\n",
       "      <td>-83.086804</td>\n",
       "      <td>False</td>\n",
       "      <td>1</td>\n",
       "    </tr>\n",
       "    <tr>\n",
       "      <th>35961</th>\n",
       "      <td>42.395693</td>\n",
       "      <td>-83.110311</td>\n",
       "      <td>False</td>\n",
       "      <td>1</td>\n",
       "    </tr>\n",
       "    <tr>\n",
       "      <th>34528</th>\n",
       "      <td>42.373363</td>\n",
       "      <td>-82.976771</td>\n",
       "      <td>False</td>\n",
       "      <td>1</td>\n",
       "    </tr>\n",
       "    <tr>\n",
       "      <th>34512</th>\n",
       "      <td>42.344088</td>\n",
       "      <td>-83.076963</td>\n",
       "      <td>False</td>\n",
       "      <td>1</td>\n",
       "    </tr>\n",
       "    <tr>\n",
       "      <th>33918</th>\n",
       "      <td>42.443946</td>\n",
       "      <td>-82.950641</td>\n",
       "      <td>False</td>\n",
       "      <td>1</td>\n",
       "    </tr>\n",
       "    <tr>\n",
       "      <th>39824</th>\n",
       "      <td>42.352417</td>\n",
       "      <td>-83.158698</td>\n",
       "      <td>False</td>\n",
       "      <td>1</td>\n",
       "    </tr>\n",
       "    <tr>\n",
       "      <th>33592</th>\n",
       "      <td>42.363831</td>\n",
       "      <td>-82.979697</td>\n",
       "      <td>False</td>\n",
       "      <td>1</td>\n",
       "    </tr>\n",
       "    <tr>\n",
       "      <th>37755</th>\n",
       "      <td>42.381035</td>\n",
       "      <td>-83.148202</td>\n",
       "      <td>False</td>\n",
       "      <td>1</td>\n",
       "    </tr>\n",
       "    <tr>\n",
       "      <th>38860</th>\n",
       "      <td>42.354647</td>\n",
       "      <td>-83.142978</td>\n",
       "      <td>False</td>\n",
       "      <td>1</td>\n",
       "    </tr>\n",
       "    <tr>\n",
       "      <th>31587</th>\n",
       "      <td>42.367466</td>\n",
       "      <td>-83.129712</td>\n",
       "      <td>False</td>\n",
       "      <td>1</td>\n",
       "    </tr>\n",
       "    <tr>\n",
       "      <th>32189</th>\n",
       "      <td>42.398467</td>\n",
       "      <td>-83.015482</td>\n",
       "      <td>False</td>\n",
       "      <td>1</td>\n",
       "    </tr>\n",
       "    <tr>\n",
       "      <th>38556</th>\n",
       "      <td>42.383763</td>\n",
       "      <td>-83.073370</td>\n",
       "      <td>False</td>\n",
       "      <td>1</td>\n",
       "    </tr>\n",
       "    <tr>\n",
       "      <th>37249</th>\n",
       "      <td>42.391347</td>\n",
       "      <td>-83.173710</td>\n",
       "      <td>False</td>\n",
       "      <td>1</td>\n",
       "    </tr>\n",
       "    <tr>\n",
       "      <th>40254</th>\n",
       "      <td>42.296045</td>\n",
       "      <td>-83.130071</td>\n",
       "      <td>True</td>\n",
       "      <td>1</td>\n",
       "    </tr>\n",
       "  </tbody>\n",
       "</table>\n",
       "<p>8006 rows × 4 columns</p>\n",
       "</div>"
      ],
      "text/plain": [
       "             lat        lon demolished  violation_counts\n",
       "No                                                      \n",
       "6      42.331681 -83.047996       True             21114\n",
       "101    42.334382 -83.216038       True              4467\n",
       "90     42.415907 -83.121307       True              2004\n",
       "412    42.345279 -83.216524       True              1713\n",
       "728    42.353227 -83.085875       True              1142\n",
       "233    42.389492 -83.009242       True               756\n",
       "442    42.375073 -83.114547       True               742\n",
       "1360   42.328933 -83.225472       True               639\n",
       "1407   42.332503 -83.049754       True               626\n",
       "163    42.348796 -83.110137       True               496\n",
       "85     42.305387 -83.107297       True               205\n",
       "27371  42.330731 -83.131536      False               184\n",
       "8223   42.347850 -83.117647       True               148\n",
       "20     42.301462 -83.112361       True               147\n",
       "307    42.369786 -83.216326       True               146\n",
       "1765   42.410730 -83.179574      False               123\n",
       "3819   42.409349 -82.954600       True               111\n",
       "460    42.418064 -83.160371       True               102\n",
       "2776   42.396309 -83.115936       True                96\n",
       "2229   42.430542 -83.108051       True                95\n",
       "590    42.350572 -83.144112      False                88\n",
       "9282   42.431999 -83.074927       True                86\n",
       "1063   42.421883 -83.030948       True                85\n",
       "8005   42.441129 -82.990113       True                82\n",
       "3989   42.435728 -83.005791       True                81\n",
       "3144   42.348586 -83.214973       True                81\n",
       "1176   42.353337 -83.221146       True                80\n",
       "2596   42.279263 -83.140909       True                76\n",
       "6209   42.408987 -83.132581       True                74\n",
       "999    42.334904 -83.045987      False                73\n",
       "...          ...        ...        ...               ...\n",
       "36696  42.432592 -83.113724      False                 1\n",
       "38020  42.428384 -82.933261      False                 1\n",
       "34917  42.434018 -83.169747      False                 1\n",
       "36139  42.390030 -83.079125      False                 1\n",
       "32577  42.386502 -82.958328      False                 1\n",
       "31365  42.427091 -83.082574      False                 1\n",
       "39985  42.439028 -83.026488      False                 1\n",
       "31542  42.436912 -82.975220      False                 1\n",
       "37976  42.399588 -83.207798      False                 1\n",
       "34271  42.439941 -83.179664      False                 1\n",
       "38530  42.437819 -83.144908      False                 1\n",
       "38276  42.367222 -83.195073      False                 1\n",
       "38928  42.390298 -83.000653      False                 1\n",
       "35692  42.434982 -83.148470      False                 1\n",
       "34648  42.438629 -83.119364      False                 1\n",
       "33876  42.431057 -83.138688      False                 1\n",
       "31086  42.442072 -83.086804      False                 1\n",
       "35961  42.395693 -83.110311      False                 1\n",
       "34528  42.373363 -82.976771      False                 1\n",
       "34512  42.344088 -83.076963      False                 1\n",
       "33918  42.443946 -82.950641      False                 1\n",
       "39824  42.352417 -83.158698      False                 1\n",
       "33592  42.363831 -82.979697      False                 1\n",
       "37755  42.381035 -83.148202      False                 1\n",
       "38860  42.354647 -83.142978      False                 1\n",
       "31587  42.367466 -83.129712      False                 1\n",
       "32189  42.398467 -83.015482      False                 1\n",
       "38556  42.383763 -83.073370      False                 1\n",
       "37249  42.391347 -83.173710      False                 1\n",
       "40254  42.296045 -83.130071       True                 1\n",
       "\n",
       "[8006 rows x 4 columns]"
      ]
     },
     "execution_count": 75,
     "metadata": {},
     "output_type": "execute_result"
    }
   ],
   "source": [
    "train_data.sort_values('violation_counts', ascending=False)"
   ]
  },
  {
   "cell_type": "code",
   "execution_count": 97,
   "metadata": {
    "collapsed": true
   },
   "outputs": [],
   "source": [
    "from sklearn.linear_model.logistic import LogisticRegression\n",
    "from sklearn import cross_validation"
   ]
  },
  {
   "cell_type": "code",
   "execution_count": 133,
   "metadata": {
    "collapsed": true
   },
   "outputs": [],
   "source": [
    "model1 = LogisticRegression(penalty='l1')"
   ]
  },
  {
   "cell_type": "code",
   "execution_count": 125,
   "metadata": {
    "collapsed": false
   },
   "outputs": [
    {
     "data": {
      "text/plain": [
       "LogisticRegression(C=1.0, class_weight=None, dual=False, fit_intercept=True,\n",
       "          intercept_scaling=1, max_iter=100, multi_class='ovr', n_jobs=1,\n",
       "          penalty='l2', random_state=None, solver='liblinear', tol=0.0001,\n",
       "          verbose=0, warm_start=False)"
      ]
     },
     "execution_count": 125,
     "metadata": {},
     "output_type": "execute_result"
    }
   ],
   "source": [
    "model1.fit(train_data.violation_counts.reshape(-1, 1), train_data.demolished)"
   ]
  },
  {
   "cell_type": "code",
   "execution_count": 134,
   "metadata": {
    "collapsed": false
   },
   "outputs": [
    {
     "data": {
      "text/plain": [
       "array([ 0.73845194,  0.67540574,  0.59550562,  0.488125  ,  0.39625   ])"
      ]
     },
     "execution_count": 134,
     "metadata": {},
     "output_type": "execute_result"
    }
   ],
   "source": [
    "cross_validation.cross_val_score(model1, train_data.violation_counts.reshape(-1, 1), train_data.demolished,\n",
    "                                 cv=5, scoring='accuracy')"
   ]
  },
  {
   "cell_type": "code",
   "execution_count": 128,
   "metadata": {
    "collapsed": true
   },
   "outputs": [],
   "source": [
    "from sklearn.ensemble import RandomForestClassifier"
   ]
  },
  {
   "cell_type": "code",
   "execution_count": 129,
   "metadata": {
    "collapsed": true
   },
   "outputs": [],
   "source": [
    "model2 = RandomForestClassifier(n_estimators=50)"
   ]
  },
  {
   "cell_type": "code",
   "execution_count": 130,
   "metadata": {
    "collapsed": false
   },
   "outputs": [
    {
     "data": {
      "text/plain": [
       "RandomForestClassifier(bootstrap=True, class_weight=None, criterion='gini',\n",
       "            max_depth=None, max_features='auto', max_leaf_nodes=None,\n",
       "            min_samples_leaf=1, min_samples_split=2,\n",
       "            min_weight_fraction_leaf=0.0, n_estimators=50, n_jobs=1,\n",
       "            oob_score=False, random_state=None, verbose=0,\n",
       "            warm_start=False)"
      ]
     },
     "execution_count": 130,
     "metadata": {},
     "output_type": "execute_result"
    }
   ],
   "source": [
    "model2.fit(train_data.violation_counts.reshape(-1, 1), train_data.demolished)"
   ]
  },
  {
   "cell_type": "code",
   "execution_count": 132,
   "metadata": {
    "collapsed": false
   },
   "outputs": [
    {
     "data": {
      "text/plain": [
       "0.58181363977017242"
      ]
     },
     "execution_count": 132,
     "metadata": {},
     "output_type": "execute_result"
    }
   ],
   "source": [
    "model2.score(train_data.violation_counts.reshape(-1, 1), train_data.demolished)"
   ]
  },
  {
   "cell_type": "code",
   "execution_count": 131,
   "metadata": {
    "collapsed": false
   },
   "outputs": [
    {
     "data": {
      "text/plain": [
       "array([ 0.67540574,  0.66167291,  0.5948814 ,  0.49875   ,  0.32125   ])"
      ]
     },
     "execution_count": 131,
     "metadata": {},
     "output_type": "execute_result"
    }
   ],
   "source": [
    "cross_validation.cross_val_score(model2, train_data.violation_counts.reshape(-1, 1), train_data.demolished,\n",
    "                                 cv=5, scoring='accuracy')"
   ]
  },
  {
   "cell_type": "markdown",
   "metadata": {},
   "source": [
    "### try more feaures"
   ]
  },
  {
   "cell_type": "code",
   "execution_count": null,
   "metadata": {
    "collapsed": true
   },
   "outputs": [],
   "source": []
  },
  {
   "cell_type": "code",
   "execution_count": null,
   "metadata": {
    "collapsed": true
   },
   "outputs": [],
   "source": []
  }
 ],
 "metadata": {
  "kernelspec": {
   "display_name": "Python 2",
   "language": "python",
   "name": "python2"
  },
  "language_info": {
   "codemirror_mode": {
    "name": "ipython",
    "version": 2
   },
   "file_extension": ".py",
   "mimetype": "text/x-python",
   "name": "python",
   "nbconvert_exporter": "python",
   "pygments_lexer": "ipython2",
   "version": "2.7.6"
  }
 },
 "nbformat": 4,
 "nbformat_minor": 0
}
